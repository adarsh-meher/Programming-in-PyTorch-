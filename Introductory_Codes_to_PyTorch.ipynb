{
  "nbformat": 4,
  "nbformat_minor": 0,
  "metadata": {
    "colab": {
      "name": "Introductory Codes to PyTorch.ipynb",
      "provenance": [],
      "collapsed_sections": [],
      "include_colab_link": true
    },
    "kernelspec": {
      "name": "python3",
      "display_name": "Python 3"
    }
  },
  "cells": [
    {
      "cell_type": "markdown",
      "metadata": {
        "id": "view-in-github",
        "colab_type": "text"
      },
      "source": [
        "<a href=\"https://colab.research.google.com/github/adarsh-meher/Programming-in-PyTorch-/blob/master/Introductory_Codes_to_PyTorch.ipynb\" target=\"_parent\"><img src=\"https://colab.research.google.com/assets/colab-badge.svg\" alt=\"Open In Colab\"/></a>"
      ]
    },
    {
      "cell_type": "code",
      "metadata": {
        "id": "ZpMoNmAGKH7d",
        "colab_type": "code",
        "colab": {}
      },
      "source": [
        "import torch\n",
        "from torch.nn import functional as fn"
      ],
      "execution_count": 0,
      "outputs": []
    },
    {
      "cell_type": "code",
      "metadata": {
        "id": "L9U_Ag1-KJci",
        "colab_type": "code",
        "colab": {
          "base_uri": "https://localhost:8080/",
          "height": 35
        },
        "outputId": "56d8f10f-d869-4abc-d8d9-66df6908b9b8"
      },
      "source": [
        "#### Create a NxM array with random values\n",
        "N  = 1000\n",
        "M = 5\n",
        "x = torch.randn(N,M)\n",
        "print(x.size())"
      ],
      "execution_count": 23,
      "outputs": [
        {
          "output_type": "stream",
          "text": [
            "torch.Size([1000, 5])\n"
          ],
          "name": "stdout"
        }
      ]
    },
    {
      "cell_type": "code",
      "metadata": {
        "id": "hZPwAnomKvsC",
        "colab_type": "code",
        "colab": {
          "base_uri": "https://localhost:8080/",
          "height": 72
        },
        "outputId": "54c41bd6-17ff-4edd-d0ff-3da14dd48f01"
      },
      "source": [
        "#### Create the target variable as a linear combination of X and add noise.\n",
        "wts = torch.distributions.uniform.Uniform(0,1).sample_n(5)\n",
        "wts_std = wts/torch.sum(wts)\n",
        "y = torch.matmul(x,wts_std) + torch.randn(x.size()[0])\n",
        "y.size()"
      ],
      "execution_count": 34,
      "outputs": [
        {
          "output_type": "stream",
          "text": [
            "/usr/local/lib/python3.6/dist-packages/torch/distributions/distribution.py:134: UserWarning: sample_n will be deprecated. Use .sample((n,)) instead\n",
            "  warnings.warn('sample_n will be deprecated. Use .sample((n,)) instead', UserWarning)\n"
          ],
          "name": "stderr"
        },
        {
          "output_type": "execute_result",
          "data": {
            "text/plain": [
              "torch.Size([1000])"
            ]
          },
          "metadata": {
            "tags": []
          },
          "execution_count": 34
        }
      ]
    },
    {
      "cell_type": "code",
      "metadata": {
        "id": "5X36dFcIKxVd",
        "colab_type": "code",
        "colab": {}
      },
      "source": [
        "epochs = 1000\n",
        "lear_rate = 0.01"
      ],
      "execution_count": 0,
      "outputs": []
    },
    {
      "cell_type": "code",
      "metadata": {
        "id": "KSQMFVmGLxbD",
        "colab_type": "code",
        "colab": {}
      },
      "source": [
        "class NNET(torch.nn.Module):\n",
        "  def __init__(self,input_size,hidden_size,output_size):\n",
        "    super(NNET,self).__init__()\n",
        "    self.hidden = torch.nn.Linear(input_size,hidden_size)\n",
        "    self.output = torch.nn.Linear(hidden_size,output_size)\n",
        "\n",
        "  def forward(self,input):\n",
        "    hidden_layer = functional.relu(self.hidden(input))\n",
        "    output_layer = self.output(hidden)\n",
        "    return output_layer\n",
        "  "
      ],
      "execution_count": 0,
      "outputs": []
    },
    {
      "cell_type": "code",
      "metadata": {
        "id": "DLLzKbJVMgT0",
        "colab_type": "code",
        "colab": {}
      },
      "source": [
        ""
      ],
      "execution_count": 0,
      "outputs": []
    }
  ]
}