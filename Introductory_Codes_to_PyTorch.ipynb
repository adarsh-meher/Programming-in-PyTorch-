{
  "nbformat": 4,
  "nbformat_minor": 0,
  "metadata": {
    "colab": {
      "name": "Introductory Codes to PyTorch.ipynb",
      "provenance": [],
      "collapsed_sections": [],
      "include_colab_link": true
    },
    "kernelspec": {
      "name": "python3",
      "display_name": "Python 3"
    },
    "accelerator": "GPU"
  },
  "cells": [
    {
      "cell_type": "markdown",
      "metadata": {
        "id": "view-in-github",
        "colab_type": "text"
      },
      "source": [
        "<a href=\"https://colab.research.google.com/github/adarsh-meher/Programming-in-PyTorch-/blob/master/Introductory_Codes_to_PyTorch.ipynb\" target=\"_parent\"><img src=\"https://colab.research.google.com/assets/colab-badge.svg\" alt=\"Open In Colab\"/></a>"
      ]
    },
    {
      "cell_type": "code",
      "metadata": {
        "id": "ZpMoNmAGKH7d",
        "colab_type": "code",
        "colab": {}
      },
      "source": [
        "import torch\n",
        "from torch.nn import functional as fn"
      ],
      "execution_count": 0,
      "outputs": []
    },
    {
      "cell_type": "markdown",
      "metadata": {
        "id": "ttuprixAaID0",
        "colab_type": "text"
      },
      "source": [
        "## ***Examples on using basic pytorch for a regression problem***"
      ]
    },
    {
      "cell_type": "code",
      "metadata": {
        "id": "L9U_Ag1-KJci",
        "colab_type": "code",
        "outputId": "c3a75fbc-a49d-4990-cdce-b6207bdcc0aa",
        "colab": {
          "base_uri": "https://localhost:8080/",
          "height": 35
        }
      },
      "source": [
        "#### Create a NxM array with random values\n",
        "N  = 1000\n",
        "M = 5\n",
        "x = torch.randn(N,M)\n",
        "print(x.size())"
      ],
      "execution_count": 0,
      "outputs": [
        {
          "output_type": "stream",
          "text": [
            "torch.Size([1000, 5])\n"
          ],
          "name": "stdout"
        }
      ]
    },
    {
      "cell_type": "code",
      "metadata": {
        "id": "hZPwAnomKvsC",
        "colab_type": "code",
        "outputId": "f7a0d966-f22f-4b0a-e002-46dbb7793d14",
        "colab": {
          "base_uri": "https://localhost:8080/",
          "height": 72
        }
      },
      "source": [
        "#### Create the target variable as a linear combination of X and add noise.\n",
        "wts = torch.distributions.uniform.Uniform(0,1).sample_n(M)\n",
        "wts_std = wts/torch.sum(wts)\n",
        "y = torch.matmul(x,wts_std) + torch.randn(x.size()[0])\n",
        "y.size()"
      ],
      "execution_count": 0,
      "outputs": [
        {
          "output_type": "stream",
          "text": [
            "/usr/local/lib/python3.6/dist-packages/torch/distributions/distribution.py:134: UserWarning: sample_n will be deprecated. Use .sample((n,)) instead\n",
            "  warnings.warn('sample_n will be deprecated. Use .sample((n,)) instead', UserWarning)\n"
          ],
          "name": "stderr"
        },
        {
          "output_type": "execute_result",
          "data": {
            "text/plain": [
              "torch.Size([1000])"
            ]
          },
          "metadata": {
            "tags": []
          },
          "execution_count": 4
        }
      ]
    },
    {
      "cell_type": "code",
      "metadata": {
        "id": "5X36dFcIKxVd",
        "colab_type": "code",
        "colab": {}
      },
      "source": [
        "epochs = 1000\n",
        "lear_rate = 0.01"
      ],
      "execution_count": 0,
      "outputs": []
    },
    {
      "cell_type": "code",
      "metadata": {
        "id": "KSQMFVmGLxbD",
        "colab_type": "code",
        "colab": {}
      },
      "source": [
        "class NNET(torch.nn.Module):\n",
        "  def __init__(self,input_size,hidden_size,output_size):\n",
        "    super(NNET,self).__init__()\n",
        "    self.hidden = torch.nn.Linear(input_size,hidden_size)\n",
        "    self.output = torch.nn.Linear(hidden_size,output_size)\n",
        "\n",
        "  def forward(self,input):\n",
        "    hidden_layer = fn.relu(self.hidden(input))\n",
        "    output_layer = self.output(hidden_layer)\n",
        "    return output_layer\n",
        "  "
      ],
      "execution_count": 0,
      "outputs": []
    },
    {
      "cell_type": "code",
      "metadata": {
        "id": "DLLzKbJVMgT0",
        "colab_type": "code",
        "colab": {}
      },
      "source": [
        "net = NNET(M,15,1)"
      ],
      "execution_count": 0,
      "outputs": []
    },
    {
      "cell_type": "code",
      "metadata": {
        "id": "88CUC9IS-T8U",
        "colab_type": "code",
        "outputId": "04e7cc51-cd48-43df-80ec-2740582dc5ef",
        "colab": {
          "base_uri": "https://localhost:8080/",
          "height": 90
        }
      },
      "source": [
        "print(net)"
      ],
      "execution_count": 0,
      "outputs": [
        {
          "output_type": "stream",
          "text": [
            "NNET(\n",
            "  (hidden): Linear(in_features=5, out_features=15, bias=True)\n",
            "  (output): Linear(in_features=15, out_features=1, bias=True)\n",
            ")\n"
          ],
          "name": "stdout"
        }
      ]
    },
    {
      "cell_type": "code",
      "metadata": {
        "id": "w75G4ohs-Uvq",
        "colab_type": "code",
        "outputId": "2f44eed9-6b98-4941-8cb4-66b6bdaab3b9",
        "colab": {
          "base_uri": "https://localhost:8080/",
          "height": 1000
        }
      },
      "source": [
        "#### Defining explicitly loss,gradient and backprop calculation \n",
        "\n",
        "loss_func = torch.nn.MSELoss()\n",
        "for i in range(epochs):\n",
        "  output = net(x)\n",
        "  loss = loss_func(output,y)\n",
        "  net.zero_grad()\n",
        "  loss.backward()\n",
        "\n",
        "  for f in net.parameters():\n",
        "    #print('The data is : %s' % (f.data))\n",
        "    #print('The gradient is : %s' % (f.grad.data))\n",
        "    f.data.sub_(lear_rate*f.grad.data)\n",
        "  \n",
        "  print(str(i) + 'th loss : %s' % (loss.squeeze()))"
      ],
      "execution_count": 0,
      "outputs": [
        {
          "output_type": "stream",
          "text": [
            "/usr/local/lib/python3.6/dist-packages/torch/nn/modules/loss.py:431: UserWarning: Using a target size (torch.Size([1000])) that is different to the input size (torch.Size([1000, 1])). This will likely lead to incorrect results due to broadcasting. Please ensure they have the same size.\n",
            "  return F.mse_loss(input, target, reduction=self.reduction)\n"
          ],
          "name": "stderr"
        },
        {
          "output_type": "stream",
          "text": [
            "0th loss : tensor(1.3866, grad_fn=<SqueezeBackward0>)\n",
            "1th loss : tensor(1.3861, grad_fn=<SqueezeBackward0>)\n",
            "2th loss : tensor(1.3856, grad_fn=<SqueezeBackward0>)\n",
            "3th loss : tensor(1.3851, grad_fn=<SqueezeBackward0>)\n",
            "4th loss : tensor(1.3847, grad_fn=<SqueezeBackward0>)\n",
            "5th loss : tensor(1.3843, grad_fn=<SqueezeBackward0>)\n",
            "6th loss : tensor(1.3839, grad_fn=<SqueezeBackward0>)\n",
            "7th loss : tensor(1.3835, grad_fn=<SqueezeBackward0>)\n",
            "8th loss : tensor(1.3832, grad_fn=<SqueezeBackward0>)\n",
            "9th loss : tensor(1.3828, grad_fn=<SqueezeBackward0>)\n",
            "10th loss : tensor(1.3825, grad_fn=<SqueezeBackward0>)\n",
            "11th loss : tensor(1.3822, grad_fn=<SqueezeBackward0>)\n",
            "12th loss : tensor(1.3819, grad_fn=<SqueezeBackward0>)\n",
            "13th loss : tensor(1.3816, grad_fn=<SqueezeBackward0>)\n",
            "14th loss : tensor(1.3813, grad_fn=<SqueezeBackward0>)\n",
            "15th loss : tensor(1.3811, grad_fn=<SqueezeBackward0>)\n",
            "16th loss : tensor(1.3808, grad_fn=<SqueezeBackward0>)\n",
            "17th loss : tensor(1.3805, grad_fn=<SqueezeBackward0>)\n",
            "18th loss : tensor(1.3803, grad_fn=<SqueezeBackward0>)\n",
            "19th loss : tensor(1.3801, grad_fn=<SqueezeBackward0>)\n",
            "20th loss : tensor(1.3799, grad_fn=<SqueezeBackward0>)\n",
            "21th loss : tensor(1.3796, grad_fn=<SqueezeBackward0>)\n",
            "22th loss : tensor(1.3794, grad_fn=<SqueezeBackward0>)\n",
            "23th loss : tensor(1.3792, grad_fn=<SqueezeBackward0>)\n",
            "24th loss : tensor(1.3790, grad_fn=<SqueezeBackward0>)\n",
            "25th loss : tensor(1.3789, grad_fn=<SqueezeBackward0>)\n",
            "26th loss : tensor(1.3787, grad_fn=<SqueezeBackward0>)\n",
            "27th loss : tensor(1.3785, grad_fn=<SqueezeBackward0>)\n",
            "28th loss : tensor(1.3783, grad_fn=<SqueezeBackward0>)\n",
            "29th loss : tensor(1.3782, grad_fn=<SqueezeBackward0>)\n",
            "30th loss : tensor(1.3780, grad_fn=<SqueezeBackward0>)\n",
            "31th loss : tensor(1.3778, grad_fn=<SqueezeBackward0>)\n",
            "32th loss : tensor(1.3777, grad_fn=<SqueezeBackward0>)\n",
            "33th loss : tensor(1.3775, grad_fn=<SqueezeBackward0>)\n",
            "34th loss : tensor(1.3774, grad_fn=<SqueezeBackward0>)\n",
            "35th loss : tensor(1.3773, grad_fn=<SqueezeBackward0>)\n",
            "36th loss : tensor(1.3771, grad_fn=<SqueezeBackward0>)\n",
            "37th loss : tensor(1.3770, grad_fn=<SqueezeBackward0>)\n",
            "38th loss : tensor(1.3768, grad_fn=<SqueezeBackward0>)\n",
            "39th loss : tensor(1.3767, grad_fn=<SqueezeBackward0>)\n",
            "40th loss : tensor(1.3766, grad_fn=<SqueezeBackward0>)\n",
            "41th loss : tensor(1.3765, grad_fn=<SqueezeBackward0>)\n",
            "42th loss : tensor(1.3763, grad_fn=<SqueezeBackward0>)\n",
            "43th loss : tensor(1.3762, grad_fn=<SqueezeBackward0>)\n",
            "44th loss : tensor(1.3761, grad_fn=<SqueezeBackward0>)\n",
            "45th loss : tensor(1.3760, grad_fn=<SqueezeBackward0>)\n",
            "46th loss : tensor(1.3759, grad_fn=<SqueezeBackward0>)\n",
            "47th loss : tensor(1.3758, grad_fn=<SqueezeBackward0>)\n",
            "48th loss : tensor(1.3757, grad_fn=<SqueezeBackward0>)\n",
            "49th loss : tensor(1.3756, grad_fn=<SqueezeBackward0>)\n",
            "50th loss : tensor(1.3755, grad_fn=<SqueezeBackward0>)\n",
            "51th loss : tensor(1.3754, grad_fn=<SqueezeBackward0>)\n",
            "52th loss : tensor(1.3753, grad_fn=<SqueezeBackward0>)\n",
            "53th loss : tensor(1.3752, grad_fn=<SqueezeBackward0>)\n",
            "54th loss : tensor(1.3751, grad_fn=<SqueezeBackward0>)\n",
            "55th loss : tensor(1.3750, grad_fn=<SqueezeBackward0>)\n",
            "56th loss : tensor(1.3749, grad_fn=<SqueezeBackward0>)\n",
            "57th loss : tensor(1.3748, grad_fn=<SqueezeBackward0>)\n",
            "58th loss : tensor(1.3747, grad_fn=<SqueezeBackward0>)\n",
            "59th loss : tensor(1.3746, grad_fn=<SqueezeBackward0>)\n",
            "60th loss : tensor(1.3745, grad_fn=<SqueezeBackward0>)\n",
            "61th loss : tensor(1.3744, grad_fn=<SqueezeBackward0>)\n",
            "62th loss : tensor(1.3744, grad_fn=<SqueezeBackward0>)\n",
            "63th loss : tensor(1.3743, grad_fn=<SqueezeBackward0>)\n",
            "64th loss : tensor(1.3742, grad_fn=<SqueezeBackward0>)\n",
            "65th loss : tensor(1.3741, grad_fn=<SqueezeBackward0>)\n",
            "66th loss : tensor(1.3740, grad_fn=<SqueezeBackward0>)\n",
            "67th loss : tensor(1.3740, grad_fn=<SqueezeBackward0>)\n",
            "68th loss : tensor(1.3739, grad_fn=<SqueezeBackward0>)\n",
            "69th loss : tensor(1.3738, grad_fn=<SqueezeBackward0>)\n",
            "70th loss : tensor(1.3737, grad_fn=<SqueezeBackward0>)\n",
            "71th loss : tensor(1.3737, grad_fn=<SqueezeBackward0>)\n",
            "72th loss : tensor(1.3736, grad_fn=<SqueezeBackward0>)\n",
            "73th loss : tensor(1.3735, grad_fn=<SqueezeBackward0>)\n",
            "74th loss : tensor(1.3735, grad_fn=<SqueezeBackward0>)\n",
            "75th loss : tensor(1.3734, grad_fn=<SqueezeBackward0>)\n",
            "76th loss : tensor(1.3733, grad_fn=<SqueezeBackward0>)\n",
            "77th loss : tensor(1.3733, grad_fn=<SqueezeBackward0>)\n",
            "78th loss : tensor(1.3732, grad_fn=<SqueezeBackward0>)\n",
            "79th loss : tensor(1.3731, grad_fn=<SqueezeBackward0>)\n",
            "80th loss : tensor(1.3731, grad_fn=<SqueezeBackward0>)\n",
            "81th loss : tensor(1.3730, grad_fn=<SqueezeBackward0>)\n",
            "82th loss : tensor(1.3730, grad_fn=<SqueezeBackward0>)\n",
            "83th loss : tensor(1.3729, grad_fn=<SqueezeBackward0>)\n",
            "84th loss : tensor(1.3728, grad_fn=<SqueezeBackward0>)\n",
            "85th loss : tensor(1.3728, grad_fn=<SqueezeBackward0>)\n",
            "86th loss : tensor(1.3727, grad_fn=<SqueezeBackward0>)\n",
            "87th loss : tensor(1.3727, grad_fn=<SqueezeBackward0>)\n",
            "88th loss : tensor(1.3726, grad_fn=<SqueezeBackward0>)\n",
            "89th loss : tensor(1.3726, grad_fn=<SqueezeBackward0>)\n",
            "90th loss : tensor(1.3725, grad_fn=<SqueezeBackward0>)\n",
            "91th loss : tensor(1.3724, grad_fn=<SqueezeBackward0>)\n",
            "92th loss : tensor(1.3724, grad_fn=<SqueezeBackward0>)\n",
            "93th loss : tensor(1.3723, grad_fn=<SqueezeBackward0>)\n",
            "94th loss : tensor(1.3723, grad_fn=<SqueezeBackward0>)\n",
            "95th loss : tensor(1.3722, grad_fn=<SqueezeBackward0>)\n",
            "96th loss : tensor(1.3722, grad_fn=<SqueezeBackward0>)\n",
            "97th loss : tensor(1.3721, grad_fn=<SqueezeBackward0>)\n",
            "98th loss : tensor(1.3721, grad_fn=<SqueezeBackward0>)\n",
            "99th loss : tensor(1.3720, grad_fn=<SqueezeBackward0>)\n",
            "100th loss : tensor(1.3720, grad_fn=<SqueezeBackward0>)\n",
            "101th loss : tensor(1.3719, grad_fn=<SqueezeBackward0>)\n",
            "102th loss : tensor(1.3719, grad_fn=<SqueezeBackward0>)\n",
            "103th loss : tensor(1.3718, grad_fn=<SqueezeBackward0>)\n",
            "104th loss : tensor(1.3718, grad_fn=<SqueezeBackward0>)\n",
            "105th loss : tensor(1.3718, grad_fn=<SqueezeBackward0>)\n",
            "106th loss : tensor(1.3717, grad_fn=<SqueezeBackward0>)\n",
            "107th loss : tensor(1.3717, grad_fn=<SqueezeBackward0>)\n",
            "108th loss : tensor(1.3716, grad_fn=<SqueezeBackward0>)\n",
            "109th loss : tensor(1.3716, grad_fn=<SqueezeBackward0>)\n",
            "110th loss : tensor(1.3715, grad_fn=<SqueezeBackward0>)\n",
            "111th loss : tensor(1.3715, grad_fn=<SqueezeBackward0>)\n",
            "112th loss : tensor(1.3714, grad_fn=<SqueezeBackward0>)\n",
            "113th loss : tensor(1.3714, grad_fn=<SqueezeBackward0>)\n",
            "114th loss : tensor(1.3714, grad_fn=<SqueezeBackward0>)\n",
            "115th loss : tensor(1.3713, grad_fn=<SqueezeBackward0>)\n",
            "116th loss : tensor(1.3713, grad_fn=<SqueezeBackward0>)\n",
            "117th loss : tensor(1.3712, grad_fn=<SqueezeBackward0>)\n",
            "118th loss : tensor(1.3712, grad_fn=<SqueezeBackward0>)\n",
            "119th loss : tensor(1.3712, grad_fn=<SqueezeBackward0>)\n",
            "120th loss : tensor(1.3711, grad_fn=<SqueezeBackward0>)\n",
            "121th loss : tensor(1.3711, grad_fn=<SqueezeBackward0>)\n",
            "122th loss : tensor(1.3711, grad_fn=<SqueezeBackward0>)\n",
            "123th loss : tensor(1.3710, grad_fn=<SqueezeBackward0>)\n",
            "124th loss : tensor(1.3710, grad_fn=<SqueezeBackward0>)\n",
            "125th loss : tensor(1.3709, grad_fn=<SqueezeBackward0>)\n",
            "126th loss : tensor(1.3709, grad_fn=<SqueezeBackward0>)\n",
            "127th loss : tensor(1.3709, grad_fn=<SqueezeBackward0>)\n",
            "128th loss : tensor(1.3708, grad_fn=<SqueezeBackward0>)\n",
            "129th loss : tensor(1.3708, grad_fn=<SqueezeBackward0>)\n",
            "130th loss : tensor(1.3708, grad_fn=<SqueezeBackward0>)\n",
            "131th loss : tensor(1.3707, grad_fn=<SqueezeBackward0>)\n",
            "132th loss : tensor(1.3707, grad_fn=<SqueezeBackward0>)\n",
            "133th loss : tensor(1.3707, grad_fn=<SqueezeBackward0>)\n",
            "134th loss : tensor(1.3706, grad_fn=<SqueezeBackward0>)\n",
            "135th loss : tensor(1.3706, grad_fn=<SqueezeBackward0>)\n",
            "136th loss : tensor(1.3706, grad_fn=<SqueezeBackward0>)\n",
            "137th loss : tensor(1.3705, grad_fn=<SqueezeBackward0>)\n",
            "138th loss : tensor(1.3705, grad_fn=<SqueezeBackward0>)\n",
            "139th loss : tensor(1.3705, grad_fn=<SqueezeBackward0>)\n",
            "140th loss : tensor(1.3704, grad_fn=<SqueezeBackward0>)\n",
            "141th loss : tensor(1.3704, grad_fn=<SqueezeBackward0>)\n",
            "142th loss : tensor(1.3704, grad_fn=<SqueezeBackward0>)\n",
            "143th loss : tensor(1.3703, grad_fn=<SqueezeBackward0>)\n",
            "144th loss : tensor(1.3703, grad_fn=<SqueezeBackward0>)\n",
            "145th loss : tensor(1.3703, grad_fn=<SqueezeBackward0>)\n",
            "146th loss : tensor(1.3702, grad_fn=<SqueezeBackward0>)\n",
            "147th loss : tensor(1.3702, grad_fn=<SqueezeBackward0>)\n",
            "148th loss : tensor(1.3702, grad_fn=<SqueezeBackward0>)\n",
            "149th loss : tensor(1.3702, grad_fn=<SqueezeBackward0>)\n",
            "150th loss : tensor(1.3701, grad_fn=<SqueezeBackward0>)\n",
            "151th loss : tensor(1.3701, grad_fn=<SqueezeBackward0>)\n",
            "152th loss : tensor(1.3701, grad_fn=<SqueezeBackward0>)\n",
            "153th loss : tensor(1.3700, grad_fn=<SqueezeBackward0>)\n",
            "154th loss : tensor(1.3700, grad_fn=<SqueezeBackward0>)\n",
            "155th loss : tensor(1.3700, grad_fn=<SqueezeBackward0>)\n",
            "156th loss : tensor(1.3700, grad_fn=<SqueezeBackward0>)\n",
            "157th loss : tensor(1.3699, grad_fn=<SqueezeBackward0>)\n",
            "158th loss : tensor(1.3699, grad_fn=<SqueezeBackward0>)\n",
            "159th loss : tensor(1.3699, grad_fn=<SqueezeBackward0>)\n",
            "160th loss : tensor(1.3698, grad_fn=<SqueezeBackward0>)\n",
            "161th loss : tensor(1.3698, grad_fn=<SqueezeBackward0>)\n",
            "162th loss : tensor(1.3698, grad_fn=<SqueezeBackward0>)\n",
            "163th loss : tensor(1.3698, grad_fn=<SqueezeBackward0>)\n",
            "164th loss : tensor(1.3697, grad_fn=<SqueezeBackward0>)\n",
            "165th loss : tensor(1.3697, grad_fn=<SqueezeBackward0>)\n",
            "166th loss : tensor(1.3697, grad_fn=<SqueezeBackward0>)\n",
            "167th loss : tensor(1.3697, grad_fn=<SqueezeBackward0>)\n",
            "168th loss : tensor(1.3696, grad_fn=<SqueezeBackward0>)\n",
            "169th loss : tensor(1.3696, grad_fn=<SqueezeBackward0>)\n",
            "170th loss : tensor(1.3696, grad_fn=<SqueezeBackward0>)\n",
            "171th loss : tensor(1.3696, grad_fn=<SqueezeBackward0>)\n",
            "172th loss : tensor(1.3695, grad_fn=<SqueezeBackward0>)\n",
            "173th loss : tensor(1.3695, grad_fn=<SqueezeBackward0>)\n",
            "174th loss : tensor(1.3695, grad_fn=<SqueezeBackward0>)\n",
            "175th loss : tensor(1.3695, grad_fn=<SqueezeBackward0>)\n",
            "176th loss : tensor(1.3694, grad_fn=<SqueezeBackward0>)\n",
            "177th loss : tensor(1.3694, grad_fn=<SqueezeBackward0>)\n",
            "178th loss : tensor(1.3694, grad_fn=<SqueezeBackward0>)\n",
            "179th loss : tensor(1.3694, grad_fn=<SqueezeBackward0>)\n",
            "180th loss : tensor(1.3694, grad_fn=<SqueezeBackward0>)\n",
            "181th loss : tensor(1.3693, grad_fn=<SqueezeBackward0>)\n",
            "182th loss : tensor(1.3693, grad_fn=<SqueezeBackward0>)\n",
            "183th loss : tensor(1.3693, grad_fn=<SqueezeBackward0>)\n",
            "184th loss : tensor(1.3693, grad_fn=<SqueezeBackward0>)\n",
            "185th loss : tensor(1.3692, grad_fn=<SqueezeBackward0>)\n",
            "186th loss : tensor(1.3692, grad_fn=<SqueezeBackward0>)\n",
            "187th loss : tensor(1.3692, grad_fn=<SqueezeBackward0>)\n",
            "188th loss : tensor(1.3692, grad_fn=<SqueezeBackward0>)\n",
            "189th loss : tensor(1.3692, grad_fn=<SqueezeBackward0>)\n",
            "190th loss : tensor(1.3691, grad_fn=<SqueezeBackward0>)\n",
            "191th loss : tensor(1.3691, grad_fn=<SqueezeBackward0>)\n",
            "192th loss : tensor(1.3691, grad_fn=<SqueezeBackward0>)\n",
            "193th loss : tensor(1.3691, grad_fn=<SqueezeBackward0>)\n",
            "194th loss : tensor(1.3690, grad_fn=<SqueezeBackward0>)\n",
            "195th loss : tensor(1.3690, grad_fn=<SqueezeBackward0>)\n",
            "196th loss : tensor(1.3690, grad_fn=<SqueezeBackward0>)\n",
            "197th loss : tensor(1.3690, grad_fn=<SqueezeBackward0>)\n",
            "198th loss : tensor(1.3690, grad_fn=<SqueezeBackward0>)\n",
            "199th loss : tensor(1.3689, grad_fn=<SqueezeBackward0>)\n",
            "200th loss : tensor(1.3689, grad_fn=<SqueezeBackward0>)\n",
            "201th loss : tensor(1.3689, grad_fn=<SqueezeBackward0>)\n",
            "202th loss : tensor(1.3689, grad_fn=<SqueezeBackward0>)\n",
            "203th loss : tensor(1.3689, grad_fn=<SqueezeBackward0>)\n",
            "204th loss : tensor(1.3688, grad_fn=<SqueezeBackward0>)\n",
            "205th loss : tensor(1.3688, grad_fn=<SqueezeBackward0>)\n",
            "206th loss : tensor(1.3688, grad_fn=<SqueezeBackward0>)\n",
            "207th loss : tensor(1.3688, grad_fn=<SqueezeBackward0>)\n",
            "208th loss : tensor(1.3688, grad_fn=<SqueezeBackward0>)\n",
            "209th loss : tensor(1.3687, grad_fn=<SqueezeBackward0>)\n",
            "210th loss : tensor(1.3687, grad_fn=<SqueezeBackward0>)\n",
            "211th loss : tensor(1.3687, grad_fn=<SqueezeBackward0>)\n",
            "212th loss : tensor(1.3687, grad_fn=<SqueezeBackward0>)\n",
            "213th loss : tensor(1.3687, grad_fn=<SqueezeBackward0>)\n",
            "214th loss : tensor(1.3686, grad_fn=<SqueezeBackward0>)\n",
            "215th loss : tensor(1.3686, grad_fn=<SqueezeBackward0>)\n",
            "216th loss : tensor(1.3686, grad_fn=<SqueezeBackward0>)\n",
            "217th loss : tensor(1.3686, grad_fn=<SqueezeBackward0>)\n",
            "218th loss : tensor(1.3686, grad_fn=<SqueezeBackward0>)\n",
            "219th loss : tensor(1.3686, grad_fn=<SqueezeBackward0>)\n",
            "220th loss : tensor(1.3685, grad_fn=<SqueezeBackward0>)\n",
            "221th loss : tensor(1.3685, grad_fn=<SqueezeBackward0>)\n",
            "222th loss : tensor(1.3685, grad_fn=<SqueezeBackward0>)\n",
            "223th loss : tensor(1.3685, grad_fn=<SqueezeBackward0>)\n",
            "224th loss : tensor(1.3685, grad_fn=<SqueezeBackward0>)\n",
            "225th loss : tensor(1.3685, grad_fn=<SqueezeBackward0>)\n",
            "226th loss : tensor(1.3684, grad_fn=<SqueezeBackward0>)\n",
            "227th loss : tensor(1.3684, grad_fn=<SqueezeBackward0>)\n",
            "228th loss : tensor(1.3684, grad_fn=<SqueezeBackward0>)\n",
            "229th loss : tensor(1.3684, grad_fn=<SqueezeBackward0>)\n",
            "230th loss : tensor(1.3684, grad_fn=<SqueezeBackward0>)\n",
            "231th loss : tensor(1.3683, grad_fn=<SqueezeBackward0>)\n",
            "232th loss : tensor(1.3683, grad_fn=<SqueezeBackward0>)\n",
            "233th loss : tensor(1.3683, grad_fn=<SqueezeBackward0>)\n",
            "234th loss : tensor(1.3683, grad_fn=<SqueezeBackward0>)\n",
            "235th loss : tensor(1.3683, grad_fn=<SqueezeBackward0>)\n",
            "236th loss : tensor(1.3683, grad_fn=<SqueezeBackward0>)\n",
            "237th loss : tensor(1.3683, grad_fn=<SqueezeBackward0>)\n",
            "238th loss : tensor(1.3682, grad_fn=<SqueezeBackward0>)\n",
            "239th loss : tensor(1.3682, grad_fn=<SqueezeBackward0>)\n",
            "240th loss : tensor(1.3682, grad_fn=<SqueezeBackward0>)\n",
            "241th loss : tensor(1.3682, grad_fn=<SqueezeBackward0>)\n",
            "242th loss : tensor(1.3682, grad_fn=<SqueezeBackward0>)\n",
            "243th loss : tensor(1.3682, grad_fn=<SqueezeBackward0>)\n",
            "244th loss : tensor(1.3681, grad_fn=<SqueezeBackward0>)\n",
            "245th loss : tensor(1.3681, grad_fn=<SqueezeBackward0>)\n",
            "246th loss : tensor(1.3681, grad_fn=<SqueezeBackward0>)\n",
            "247th loss : tensor(1.3681, grad_fn=<SqueezeBackward0>)\n",
            "248th loss : tensor(1.3681, grad_fn=<SqueezeBackward0>)\n",
            "249th loss : tensor(1.3681, grad_fn=<SqueezeBackward0>)\n",
            "250th loss : tensor(1.3680, grad_fn=<SqueezeBackward0>)\n",
            "251th loss : tensor(1.3680, grad_fn=<SqueezeBackward0>)\n",
            "252th loss : tensor(1.3680, grad_fn=<SqueezeBackward0>)\n",
            "253th loss : tensor(1.3680, grad_fn=<SqueezeBackward0>)\n",
            "254th loss : tensor(1.3680, grad_fn=<SqueezeBackward0>)\n",
            "255th loss : tensor(1.3680, grad_fn=<SqueezeBackward0>)\n",
            "256th loss : tensor(1.3680, grad_fn=<SqueezeBackward0>)\n",
            "257th loss : tensor(1.3679, grad_fn=<SqueezeBackward0>)\n",
            "258th loss : tensor(1.3679, grad_fn=<SqueezeBackward0>)\n",
            "259th loss : tensor(1.3679, grad_fn=<SqueezeBackward0>)\n",
            "260th loss : tensor(1.3679, grad_fn=<SqueezeBackward0>)\n",
            "261th loss : tensor(1.3679, grad_fn=<SqueezeBackward0>)\n",
            "262th loss : tensor(1.3679, grad_fn=<SqueezeBackward0>)\n",
            "263th loss : tensor(1.3679, grad_fn=<SqueezeBackward0>)\n",
            "264th loss : tensor(1.3678, grad_fn=<SqueezeBackward0>)\n",
            "265th loss : tensor(1.3678, grad_fn=<SqueezeBackward0>)\n",
            "266th loss : tensor(1.3678, grad_fn=<SqueezeBackward0>)\n",
            "267th loss : tensor(1.3678, grad_fn=<SqueezeBackward0>)\n",
            "268th loss : tensor(1.3678, grad_fn=<SqueezeBackward0>)\n",
            "269th loss : tensor(1.3678, grad_fn=<SqueezeBackward0>)\n",
            "270th loss : tensor(1.3678, grad_fn=<SqueezeBackward0>)\n",
            "271th loss : tensor(1.3677, grad_fn=<SqueezeBackward0>)\n",
            "272th loss : tensor(1.3677, grad_fn=<SqueezeBackward0>)\n",
            "273th loss : tensor(1.3677, grad_fn=<SqueezeBackward0>)\n",
            "274th loss : tensor(1.3677, grad_fn=<SqueezeBackward0>)\n",
            "275th loss : tensor(1.3677, grad_fn=<SqueezeBackward0>)\n",
            "276th loss : tensor(1.3677, grad_fn=<SqueezeBackward0>)\n",
            "277th loss : tensor(1.3677, grad_fn=<SqueezeBackward0>)\n",
            "278th loss : tensor(1.3676, grad_fn=<SqueezeBackward0>)\n",
            "279th loss : tensor(1.3676, grad_fn=<SqueezeBackward0>)\n",
            "280th loss : tensor(1.3676, grad_fn=<SqueezeBackward0>)\n",
            "281th loss : tensor(1.3676, grad_fn=<SqueezeBackward0>)\n",
            "282th loss : tensor(1.3676, grad_fn=<SqueezeBackward0>)\n",
            "283th loss : tensor(1.3676, grad_fn=<SqueezeBackward0>)\n",
            "284th loss : tensor(1.3676, grad_fn=<SqueezeBackward0>)\n",
            "285th loss : tensor(1.3676, grad_fn=<SqueezeBackward0>)\n",
            "286th loss : tensor(1.3675, grad_fn=<SqueezeBackward0>)\n",
            "287th loss : tensor(1.3675, grad_fn=<SqueezeBackward0>)\n",
            "288th loss : tensor(1.3675, grad_fn=<SqueezeBackward0>)\n",
            "289th loss : tensor(1.3675, grad_fn=<SqueezeBackward0>)\n",
            "290th loss : tensor(1.3675, grad_fn=<SqueezeBackward0>)\n",
            "291th loss : tensor(1.3675, grad_fn=<SqueezeBackward0>)\n",
            "292th loss : tensor(1.3675, grad_fn=<SqueezeBackward0>)\n",
            "293th loss : tensor(1.3675, grad_fn=<SqueezeBackward0>)\n",
            "294th loss : tensor(1.3674, grad_fn=<SqueezeBackward0>)\n",
            "295th loss : tensor(1.3674, grad_fn=<SqueezeBackward0>)\n",
            "296th loss : tensor(1.3674, grad_fn=<SqueezeBackward0>)\n",
            "297th loss : tensor(1.3674, grad_fn=<SqueezeBackward0>)\n",
            "298th loss : tensor(1.3674, grad_fn=<SqueezeBackward0>)\n",
            "299th loss : tensor(1.3674, grad_fn=<SqueezeBackward0>)\n",
            "300th loss : tensor(1.3674, grad_fn=<SqueezeBackward0>)\n",
            "301th loss : tensor(1.3674, grad_fn=<SqueezeBackward0>)\n",
            "302th loss : tensor(1.3673, grad_fn=<SqueezeBackward0>)\n",
            "303th loss : tensor(1.3673, grad_fn=<SqueezeBackward0>)\n",
            "304th loss : tensor(1.3673, grad_fn=<SqueezeBackward0>)\n",
            "305th loss : tensor(1.3673, grad_fn=<SqueezeBackward0>)\n",
            "306th loss : tensor(1.3673, grad_fn=<SqueezeBackward0>)\n",
            "307th loss : tensor(1.3673, grad_fn=<SqueezeBackward0>)\n",
            "308th loss : tensor(1.3673, grad_fn=<SqueezeBackward0>)\n",
            "309th loss : tensor(1.3673, grad_fn=<SqueezeBackward0>)\n",
            "310th loss : tensor(1.3673, grad_fn=<SqueezeBackward0>)\n",
            "311th loss : tensor(1.3672, grad_fn=<SqueezeBackward0>)\n",
            "312th loss : tensor(1.3672, grad_fn=<SqueezeBackward0>)\n",
            "313th loss : tensor(1.3672, grad_fn=<SqueezeBackward0>)\n",
            "314th loss : tensor(1.3672, grad_fn=<SqueezeBackward0>)\n",
            "315th loss : tensor(1.3672, grad_fn=<SqueezeBackward0>)\n",
            "316th loss : tensor(1.3672, grad_fn=<SqueezeBackward0>)\n",
            "317th loss : tensor(1.3672, grad_fn=<SqueezeBackward0>)\n",
            "318th loss : tensor(1.3672, grad_fn=<SqueezeBackward0>)\n",
            "319th loss : tensor(1.3671, grad_fn=<SqueezeBackward0>)\n",
            "320th loss : tensor(1.3671, grad_fn=<SqueezeBackward0>)\n",
            "321th loss : tensor(1.3671, grad_fn=<SqueezeBackward0>)\n",
            "322th loss : tensor(1.3671, grad_fn=<SqueezeBackward0>)\n",
            "323th loss : tensor(1.3671, grad_fn=<SqueezeBackward0>)\n",
            "324th loss : tensor(1.3671, grad_fn=<SqueezeBackward0>)\n",
            "325th loss : tensor(1.3671, grad_fn=<SqueezeBackward0>)\n",
            "326th loss : tensor(1.3671, grad_fn=<SqueezeBackward0>)\n",
            "327th loss : tensor(1.3671, grad_fn=<SqueezeBackward0>)\n",
            "328th loss : tensor(1.3671, grad_fn=<SqueezeBackward0>)\n",
            "329th loss : tensor(1.3670, grad_fn=<SqueezeBackward0>)\n",
            "330th loss : tensor(1.3670, grad_fn=<SqueezeBackward0>)\n",
            "331th loss : tensor(1.3670, grad_fn=<SqueezeBackward0>)\n",
            "332th loss : tensor(1.3670, grad_fn=<SqueezeBackward0>)\n",
            "333th loss : tensor(1.3670, grad_fn=<SqueezeBackward0>)\n",
            "334th loss : tensor(1.3670, grad_fn=<SqueezeBackward0>)\n",
            "335th loss : tensor(1.3670, grad_fn=<SqueezeBackward0>)\n",
            "336th loss : tensor(1.3670, grad_fn=<SqueezeBackward0>)\n",
            "337th loss : tensor(1.3670, grad_fn=<SqueezeBackward0>)\n",
            "338th loss : tensor(1.3669, grad_fn=<SqueezeBackward0>)\n",
            "339th loss : tensor(1.3669, grad_fn=<SqueezeBackward0>)\n",
            "340th loss : tensor(1.3669, grad_fn=<SqueezeBackward0>)\n",
            "341th loss : tensor(1.3669, grad_fn=<SqueezeBackward0>)\n",
            "342th loss : tensor(1.3669, grad_fn=<SqueezeBackward0>)\n",
            "343th loss : tensor(1.3669, grad_fn=<SqueezeBackward0>)\n",
            "344th loss : tensor(1.3669, grad_fn=<SqueezeBackward0>)\n",
            "345th loss : tensor(1.3669, grad_fn=<SqueezeBackward0>)\n",
            "346th loss : tensor(1.3669, grad_fn=<SqueezeBackward0>)\n",
            "347th loss : tensor(1.3669, grad_fn=<SqueezeBackward0>)\n",
            "348th loss : tensor(1.3668, grad_fn=<SqueezeBackward0>)\n",
            "349th loss : tensor(1.3668, grad_fn=<SqueezeBackward0>)\n",
            "350th loss : tensor(1.3668, grad_fn=<SqueezeBackward0>)\n",
            "351th loss : tensor(1.3668, grad_fn=<SqueezeBackward0>)\n",
            "352th loss : tensor(1.3668, grad_fn=<SqueezeBackward0>)\n",
            "353th loss : tensor(1.3668, grad_fn=<SqueezeBackward0>)\n",
            "354th loss : tensor(1.3668, grad_fn=<SqueezeBackward0>)\n",
            "355th loss : tensor(1.3668, grad_fn=<SqueezeBackward0>)\n",
            "356th loss : tensor(1.3668, grad_fn=<SqueezeBackward0>)\n",
            "357th loss : tensor(1.3668, grad_fn=<SqueezeBackward0>)\n",
            "358th loss : tensor(1.3667, grad_fn=<SqueezeBackward0>)\n",
            "359th loss : tensor(1.3667, grad_fn=<SqueezeBackward0>)\n",
            "360th loss : tensor(1.3667, grad_fn=<SqueezeBackward0>)\n",
            "361th loss : tensor(1.3667, grad_fn=<SqueezeBackward0>)\n",
            "362th loss : tensor(1.3667, grad_fn=<SqueezeBackward0>)\n",
            "363th loss : tensor(1.3667, grad_fn=<SqueezeBackward0>)\n",
            "364th loss : tensor(1.3667, grad_fn=<SqueezeBackward0>)\n",
            "365th loss : tensor(1.3667, grad_fn=<SqueezeBackward0>)\n",
            "366th loss : tensor(1.3667, grad_fn=<SqueezeBackward0>)\n",
            "367th loss : tensor(1.3667, grad_fn=<SqueezeBackward0>)\n",
            "368th loss : tensor(1.3667, grad_fn=<SqueezeBackward0>)\n",
            "369th loss : tensor(1.3666, grad_fn=<SqueezeBackward0>)\n",
            "370th loss : tensor(1.3666, grad_fn=<SqueezeBackward0>)\n",
            "371th loss : tensor(1.3666, grad_fn=<SqueezeBackward0>)\n",
            "372th loss : tensor(1.3666, grad_fn=<SqueezeBackward0>)\n",
            "373th loss : tensor(1.3666, grad_fn=<SqueezeBackward0>)\n",
            "374th loss : tensor(1.3666, grad_fn=<SqueezeBackward0>)\n",
            "375th loss : tensor(1.3666, grad_fn=<SqueezeBackward0>)\n",
            "376th loss : tensor(1.3666, grad_fn=<SqueezeBackward0>)\n",
            "377th loss : tensor(1.3666, grad_fn=<SqueezeBackward0>)\n",
            "378th loss : tensor(1.3666, grad_fn=<SqueezeBackward0>)\n",
            "379th loss : tensor(1.3666, grad_fn=<SqueezeBackward0>)\n",
            "380th loss : tensor(1.3665, grad_fn=<SqueezeBackward0>)\n",
            "381th loss : tensor(1.3665, grad_fn=<SqueezeBackward0>)\n",
            "382th loss : tensor(1.3665, grad_fn=<SqueezeBackward0>)\n",
            "383th loss : tensor(1.3665, grad_fn=<SqueezeBackward0>)\n",
            "384th loss : tensor(1.3665, grad_fn=<SqueezeBackward0>)\n",
            "385th loss : tensor(1.3665, grad_fn=<SqueezeBackward0>)\n",
            "386th loss : tensor(1.3665, grad_fn=<SqueezeBackward0>)\n",
            "387th loss : tensor(1.3665, grad_fn=<SqueezeBackward0>)\n",
            "388th loss : tensor(1.3665, grad_fn=<SqueezeBackward0>)\n",
            "389th loss : tensor(1.3665, grad_fn=<SqueezeBackward0>)\n",
            "390th loss : tensor(1.3665, grad_fn=<SqueezeBackward0>)\n",
            "391th loss : tensor(1.3665, grad_fn=<SqueezeBackward0>)\n",
            "392th loss : tensor(1.3664, grad_fn=<SqueezeBackward0>)\n",
            "393th loss : tensor(1.3664, grad_fn=<SqueezeBackward0>)\n",
            "394th loss : tensor(1.3664, grad_fn=<SqueezeBackward0>)\n",
            "395th loss : tensor(1.3664, grad_fn=<SqueezeBackward0>)\n",
            "396th loss : tensor(1.3664, grad_fn=<SqueezeBackward0>)\n",
            "397th loss : tensor(1.3664, grad_fn=<SqueezeBackward0>)\n",
            "398th loss : tensor(1.3664, grad_fn=<SqueezeBackward0>)\n",
            "399th loss : tensor(1.3664, grad_fn=<SqueezeBackward0>)\n",
            "400th loss : tensor(1.3664, grad_fn=<SqueezeBackward0>)\n",
            "401th loss : tensor(1.3664, grad_fn=<SqueezeBackward0>)\n",
            "402th loss : tensor(1.3664, grad_fn=<SqueezeBackward0>)\n",
            "403th loss : tensor(1.3664, grad_fn=<SqueezeBackward0>)\n",
            "404th loss : tensor(1.3663, grad_fn=<SqueezeBackward0>)\n",
            "405th loss : tensor(1.3663, grad_fn=<SqueezeBackward0>)\n",
            "406th loss : tensor(1.3663, grad_fn=<SqueezeBackward0>)\n",
            "407th loss : tensor(1.3663, grad_fn=<SqueezeBackward0>)\n",
            "408th loss : tensor(1.3663, grad_fn=<SqueezeBackward0>)\n",
            "409th loss : tensor(1.3663, grad_fn=<SqueezeBackward0>)\n",
            "410th loss : tensor(1.3663, grad_fn=<SqueezeBackward0>)\n",
            "411th loss : tensor(1.3663, grad_fn=<SqueezeBackward0>)\n",
            "412th loss : tensor(1.3663, grad_fn=<SqueezeBackward0>)\n",
            "413th loss : tensor(1.3663, grad_fn=<SqueezeBackward0>)\n",
            "414th loss : tensor(1.3663, grad_fn=<SqueezeBackward0>)\n",
            "415th loss : tensor(1.3663, grad_fn=<SqueezeBackward0>)\n",
            "416th loss : tensor(1.3662, grad_fn=<SqueezeBackward0>)\n",
            "417th loss : tensor(1.3662, grad_fn=<SqueezeBackward0>)\n",
            "418th loss : tensor(1.3662, grad_fn=<SqueezeBackward0>)\n",
            "419th loss : tensor(1.3662, grad_fn=<SqueezeBackward0>)\n",
            "420th loss : tensor(1.3662, grad_fn=<SqueezeBackward0>)\n",
            "421th loss : tensor(1.3662, grad_fn=<SqueezeBackward0>)\n",
            "422th loss : tensor(1.3662, grad_fn=<SqueezeBackward0>)\n",
            "423th loss : tensor(1.3662, grad_fn=<SqueezeBackward0>)\n",
            "424th loss : tensor(1.3662, grad_fn=<SqueezeBackward0>)\n",
            "425th loss : tensor(1.3662, grad_fn=<SqueezeBackward0>)\n",
            "426th loss : tensor(1.3662, grad_fn=<SqueezeBackward0>)\n",
            "427th loss : tensor(1.3662, grad_fn=<SqueezeBackward0>)\n",
            "428th loss : tensor(1.3662, grad_fn=<SqueezeBackward0>)\n",
            "429th loss : tensor(1.3661, grad_fn=<SqueezeBackward0>)\n",
            "430th loss : tensor(1.3661, grad_fn=<SqueezeBackward0>)\n",
            "431th loss : tensor(1.3661, grad_fn=<SqueezeBackward0>)\n",
            "432th loss : tensor(1.3661, grad_fn=<SqueezeBackward0>)\n",
            "433th loss : tensor(1.3661, grad_fn=<SqueezeBackward0>)\n",
            "434th loss : tensor(1.3661, grad_fn=<SqueezeBackward0>)\n",
            "435th loss : tensor(1.3661, grad_fn=<SqueezeBackward0>)\n",
            "436th loss : tensor(1.3661, grad_fn=<SqueezeBackward0>)\n",
            "437th loss : tensor(1.3661, grad_fn=<SqueezeBackward0>)\n",
            "438th loss : tensor(1.3661, grad_fn=<SqueezeBackward0>)\n",
            "439th loss : tensor(1.3661, grad_fn=<SqueezeBackward0>)\n",
            "440th loss : tensor(1.3661, grad_fn=<SqueezeBackward0>)\n",
            "441th loss : tensor(1.3661, grad_fn=<SqueezeBackward0>)\n",
            "442th loss : tensor(1.3661, grad_fn=<SqueezeBackward0>)\n",
            "443th loss : tensor(1.3660, grad_fn=<SqueezeBackward0>)\n",
            "444th loss : tensor(1.3660, grad_fn=<SqueezeBackward0>)\n",
            "445th loss : tensor(1.3660, grad_fn=<SqueezeBackward0>)\n",
            "446th loss : tensor(1.3660, grad_fn=<SqueezeBackward0>)\n",
            "447th loss : tensor(1.3660, grad_fn=<SqueezeBackward0>)\n",
            "448th loss : tensor(1.3660, grad_fn=<SqueezeBackward0>)\n",
            "449th loss : tensor(1.3660, grad_fn=<SqueezeBackward0>)\n",
            "450th loss : tensor(1.3660, grad_fn=<SqueezeBackward0>)\n",
            "451th loss : tensor(1.3660, grad_fn=<SqueezeBackward0>)\n",
            "452th loss : tensor(1.3660, grad_fn=<SqueezeBackward0>)\n",
            "453th loss : tensor(1.3660, grad_fn=<SqueezeBackward0>)\n",
            "454th loss : tensor(1.3660, grad_fn=<SqueezeBackward0>)\n",
            "455th loss : tensor(1.3660, grad_fn=<SqueezeBackward0>)\n",
            "456th loss : tensor(1.3660, grad_fn=<SqueezeBackward0>)\n",
            "457th loss : tensor(1.3659, grad_fn=<SqueezeBackward0>)\n",
            "458th loss : tensor(1.3659, grad_fn=<SqueezeBackward0>)\n",
            "459th loss : tensor(1.3659, grad_fn=<SqueezeBackward0>)\n",
            "460th loss : tensor(1.3659, grad_fn=<SqueezeBackward0>)\n",
            "461th loss : tensor(1.3659, grad_fn=<SqueezeBackward0>)\n",
            "462th loss : tensor(1.3659, grad_fn=<SqueezeBackward0>)\n",
            "463th loss : tensor(1.3659, grad_fn=<SqueezeBackward0>)\n",
            "464th loss : tensor(1.3659, grad_fn=<SqueezeBackward0>)\n",
            "465th loss : tensor(1.3659, grad_fn=<SqueezeBackward0>)\n",
            "466th loss : tensor(1.3659, grad_fn=<SqueezeBackward0>)\n",
            "467th loss : tensor(1.3659, grad_fn=<SqueezeBackward0>)\n",
            "468th loss : tensor(1.3659, grad_fn=<SqueezeBackward0>)\n",
            "469th loss : tensor(1.3659, grad_fn=<SqueezeBackward0>)\n",
            "470th loss : tensor(1.3659, grad_fn=<SqueezeBackward0>)\n",
            "471th loss : tensor(1.3659, grad_fn=<SqueezeBackward0>)\n",
            "472th loss : tensor(1.3658, grad_fn=<SqueezeBackward0>)\n",
            "473th loss : tensor(1.3658, grad_fn=<SqueezeBackward0>)\n",
            "474th loss : tensor(1.3658, grad_fn=<SqueezeBackward0>)\n",
            "475th loss : tensor(1.3658, grad_fn=<SqueezeBackward0>)\n",
            "476th loss : tensor(1.3658, grad_fn=<SqueezeBackward0>)\n",
            "477th loss : tensor(1.3658, grad_fn=<SqueezeBackward0>)\n",
            "478th loss : tensor(1.3658, grad_fn=<SqueezeBackward0>)\n",
            "479th loss : tensor(1.3658, grad_fn=<SqueezeBackward0>)\n",
            "480th loss : tensor(1.3658, grad_fn=<SqueezeBackward0>)\n",
            "481th loss : tensor(1.3658, grad_fn=<SqueezeBackward0>)\n",
            "482th loss : tensor(1.3658, grad_fn=<SqueezeBackward0>)\n",
            "483th loss : tensor(1.3658, grad_fn=<SqueezeBackward0>)\n",
            "484th loss : tensor(1.3658, grad_fn=<SqueezeBackward0>)\n",
            "485th loss : tensor(1.3658, grad_fn=<SqueezeBackward0>)\n",
            "486th loss : tensor(1.3658, grad_fn=<SqueezeBackward0>)\n",
            "487th loss : tensor(1.3658, grad_fn=<SqueezeBackward0>)\n",
            "488th loss : tensor(1.3657, grad_fn=<SqueezeBackward0>)\n",
            "489th loss : tensor(1.3657, grad_fn=<SqueezeBackward0>)\n",
            "490th loss : tensor(1.3657, grad_fn=<SqueezeBackward0>)\n",
            "491th loss : tensor(1.3657, grad_fn=<SqueezeBackward0>)\n",
            "492th loss : tensor(1.3657, grad_fn=<SqueezeBackward0>)\n",
            "493th loss : tensor(1.3657, grad_fn=<SqueezeBackward0>)\n",
            "494th loss : tensor(1.3657, grad_fn=<SqueezeBackward0>)\n",
            "495th loss : tensor(1.3657, grad_fn=<SqueezeBackward0>)\n",
            "496th loss : tensor(1.3657, grad_fn=<SqueezeBackward0>)\n",
            "497th loss : tensor(1.3657, grad_fn=<SqueezeBackward0>)\n",
            "498th loss : tensor(1.3657, grad_fn=<SqueezeBackward0>)\n",
            "499th loss : tensor(1.3657, grad_fn=<SqueezeBackward0>)\n",
            "500th loss : tensor(1.3657, grad_fn=<SqueezeBackward0>)\n",
            "501th loss : tensor(1.3657, grad_fn=<SqueezeBackward0>)\n",
            "502th loss : tensor(1.3657, grad_fn=<SqueezeBackward0>)\n",
            "503th loss : tensor(1.3657, grad_fn=<SqueezeBackward0>)\n",
            "504th loss : tensor(1.3656, grad_fn=<SqueezeBackward0>)\n",
            "505th loss : tensor(1.3656, grad_fn=<SqueezeBackward0>)\n",
            "506th loss : tensor(1.3656, grad_fn=<SqueezeBackward0>)\n",
            "507th loss : tensor(1.3656, grad_fn=<SqueezeBackward0>)\n",
            "508th loss : tensor(1.3656, grad_fn=<SqueezeBackward0>)\n",
            "509th loss : tensor(1.3656, grad_fn=<SqueezeBackward0>)\n",
            "510th loss : tensor(1.3656, grad_fn=<SqueezeBackward0>)\n",
            "511th loss : tensor(1.3656, grad_fn=<SqueezeBackward0>)\n",
            "512th loss : tensor(1.3656, grad_fn=<SqueezeBackward0>)\n",
            "513th loss : tensor(1.3656, grad_fn=<SqueezeBackward0>)\n",
            "514th loss : tensor(1.3656, grad_fn=<SqueezeBackward0>)\n",
            "515th loss : tensor(1.3656, grad_fn=<SqueezeBackward0>)\n",
            "516th loss : tensor(1.3656, grad_fn=<SqueezeBackward0>)\n",
            "517th loss : tensor(1.3656, grad_fn=<SqueezeBackward0>)\n",
            "518th loss : tensor(1.3656, grad_fn=<SqueezeBackward0>)\n",
            "519th loss : tensor(1.3656, grad_fn=<SqueezeBackward0>)\n",
            "520th loss : tensor(1.3656, grad_fn=<SqueezeBackward0>)\n",
            "521th loss : tensor(1.3656, grad_fn=<SqueezeBackward0>)\n",
            "522th loss : tensor(1.3655, grad_fn=<SqueezeBackward0>)\n",
            "523th loss : tensor(1.3655, grad_fn=<SqueezeBackward0>)\n",
            "524th loss : tensor(1.3655, grad_fn=<SqueezeBackward0>)\n",
            "525th loss : tensor(1.3655, grad_fn=<SqueezeBackward0>)\n",
            "526th loss : tensor(1.3655, grad_fn=<SqueezeBackward0>)\n",
            "527th loss : tensor(1.3655, grad_fn=<SqueezeBackward0>)\n",
            "528th loss : tensor(1.3655, grad_fn=<SqueezeBackward0>)\n",
            "529th loss : tensor(1.3655, grad_fn=<SqueezeBackward0>)\n",
            "530th loss : tensor(1.3655, grad_fn=<SqueezeBackward0>)\n",
            "531th loss : tensor(1.3655, grad_fn=<SqueezeBackward0>)\n",
            "532th loss : tensor(1.3655, grad_fn=<SqueezeBackward0>)\n",
            "533th loss : tensor(1.3655, grad_fn=<SqueezeBackward0>)\n",
            "534th loss : tensor(1.3655, grad_fn=<SqueezeBackward0>)\n",
            "535th loss : tensor(1.3655, grad_fn=<SqueezeBackward0>)\n",
            "536th loss : tensor(1.3655, grad_fn=<SqueezeBackward0>)\n",
            "537th loss : tensor(1.3655, grad_fn=<SqueezeBackward0>)\n",
            "538th loss : tensor(1.3655, grad_fn=<SqueezeBackward0>)\n",
            "539th loss : tensor(1.3655, grad_fn=<SqueezeBackward0>)\n",
            "540th loss : tensor(1.3654, grad_fn=<SqueezeBackward0>)\n",
            "541th loss : tensor(1.3654, grad_fn=<SqueezeBackward0>)\n",
            "542th loss : tensor(1.3654, grad_fn=<SqueezeBackward0>)\n",
            "543th loss : tensor(1.3654, grad_fn=<SqueezeBackward0>)\n",
            "544th loss : tensor(1.3654, grad_fn=<SqueezeBackward0>)\n",
            "545th loss : tensor(1.3654, grad_fn=<SqueezeBackward0>)\n",
            "546th loss : tensor(1.3654, grad_fn=<SqueezeBackward0>)\n",
            "547th loss : tensor(1.3654, grad_fn=<SqueezeBackward0>)\n",
            "548th loss : tensor(1.3654, grad_fn=<SqueezeBackward0>)\n",
            "549th loss : tensor(1.3654, grad_fn=<SqueezeBackward0>)\n",
            "550th loss : tensor(1.3654, grad_fn=<SqueezeBackward0>)\n",
            "551th loss : tensor(1.3654, grad_fn=<SqueezeBackward0>)\n",
            "552th loss : tensor(1.3654, grad_fn=<SqueezeBackward0>)\n",
            "553th loss : tensor(1.3654, grad_fn=<SqueezeBackward0>)\n",
            "554th loss : tensor(1.3654, grad_fn=<SqueezeBackward0>)\n",
            "555th loss : tensor(1.3654, grad_fn=<SqueezeBackward0>)\n",
            "556th loss : tensor(1.3654, grad_fn=<SqueezeBackward0>)\n",
            "557th loss : tensor(1.3654, grad_fn=<SqueezeBackward0>)\n",
            "558th loss : tensor(1.3654, grad_fn=<SqueezeBackward0>)\n",
            "559th loss : tensor(1.3653, grad_fn=<SqueezeBackward0>)\n",
            "560th loss : tensor(1.3653, grad_fn=<SqueezeBackward0>)\n",
            "561th loss : tensor(1.3653, grad_fn=<SqueezeBackward0>)\n",
            "562th loss : tensor(1.3653, grad_fn=<SqueezeBackward0>)\n",
            "563th loss : tensor(1.3653, grad_fn=<SqueezeBackward0>)\n",
            "564th loss : tensor(1.3653, grad_fn=<SqueezeBackward0>)\n",
            "565th loss : tensor(1.3653, grad_fn=<SqueezeBackward0>)\n",
            "566th loss : tensor(1.3653, grad_fn=<SqueezeBackward0>)\n",
            "567th loss : tensor(1.3653, grad_fn=<SqueezeBackward0>)\n",
            "568th loss : tensor(1.3653, grad_fn=<SqueezeBackward0>)\n",
            "569th loss : tensor(1.3653, grad_fn=<SqueezeBackward0>)\n",
            "570th loss : tensor(1.3653, grad_fn=<SqueezeBackward0>)\n",
            "571th loss : tensor(1.3653, grad_fn=<SqueezeBackward0>)\n",
            "572th loss : tensor(1.3653, grad_fn=<SqueezeBackward0>)\n",
            "573th loss : tensor(1.3653, grad_fn=<SqueezeBackward0>)\n",
            "574th loss : tensor(1.3653, grad_fn=<SqueezeBackward0>)\n",
            "575th loss : tensor(1.3653, grad_fn=<SqueezeBackward0>)\n",
            "576th loss : tensor(1.3653, grad_fn=<SqueezeBackward0>)\n",
            "577th loss : tensor(1.3653, grad_fn=<SqueezeBackward0>)\n",
            "578th loss : tensor(1.3653, grad_fn=<SqueezeBackward0>)\n",
            "579th loss : tensor(1.3652, grad_fn=<SqueezeBackward0>)\n",
            "580th loss : tensor(1.3652, grad_fn=<SqueezeBackward0>)\n",
            "581th loss : tensor(1.3652, grad_fn=<SqueezeBackward0>)\n",
            "582th loss : tensor(1.3652, grad_fn=<SqueezeBackward0>)\n",
            "583th loss : tensor(1.3652, grad_fn=<SqueezeBackward0>)\n",
            "584th loss : tensor(1.3652, grad_fn=<SqueezeBackward0>)\n",
            "585th loss : tensor(1.3652, grad_fn=<SqueezeBackward0>)\n",
            "586th loss : tensor(1.3652, grad_fn=<SqueezeBackward0>)\n",
            "587th loss : tensor(1.3652, grad_fn=<SqueezeBackward0>)\n",
            "588th loss : tensor(1.3652, grad_fn=<SqueezeBackward0>)\n",
            "589th loss : tensor(1.3652, grad_fn=<SqueezeBackward0>)\n",
            "590th loss : tensor(1.3652, grad_fn=<SqueezeBackward0>)\n",
            "591th loss : tensor(1.3652, grad_fn=<SqueezeBackward0>)\n",
            "592th loss : tensor(1.3652, grad_fn=<SqueezeBackward0>)\n",
            "593th loss : tensor(1.3652, grad_fn=<SqueezeBackward0>)\n",
            "594th loss : tensor(1.3652, grad_fn=<SqueezeBackward0>)\n",
            "595th loss : tensor(1.3652, grad_fn=<SqueezeBackward0>)\n",
            "596th loss : tensor(1.3652, grad_fn=<SqueezeBackward0>)\n",
            "597th loss : tensor(1.3652, grad_fn=<SqueezeBackward0>)\n",
            "598th loss : tensor(1.3652, grad_fn=<SqueezeBackward0>)\n",
            "599th loss : tensor(1.3652, grad_fn=<SqueezeBackward0>)\n",
            "600th loss : tensor(1.3651, grad_fn=<SqueezeBackward0>)\n",
            "601th loss : tensor(1.3651, grad_fn=<SqueezeBackward0>)\n",
            "602th loss : tensor(1.3651, grad_fn=<SqueezeBackward0>)\n",
            "603th loss : tensor(1.3651, grad_fn=<SqueezeBackward0>)\n",
            "604th loss : tensor(1.3651, grad_fn=<SqueezeBackward0>)\n",
            "605th loss : tensor(1.3651, grad_fn=<SqueezeBackward0>)\n",
            "606th loss : tensor(1.3651, grad_fn=<SqueezeBackward0>)\n",
            "607th loss : tensor(1.3651, grad_fn=<SqueezeBackward0>)\n",
            "608th loss : tensor(1.3651, grad_fn=<SqueezeBackward0>)\n",
            "609th loss : tensor(1.3651, grad_fn=<SqueezeBackward0>)\n",
            "610th loss : tensor(1.3651, grad_fn=<SqueezeBackward0>)\n",
            "611th loss : tensor(1.3651, grad_fn=<SqueezeBackward0>)\n",
            "612th loss : tensor(1.3651, grad_fn=<SqueezeBackward0>)\n",
            "613th loss : tensor(1.3651, grad_fn=<SqueezeBackward0>)\n",
            "614th loss : tensor(1.3651, grad_fn=<SqueezeBackward0>)\n",
            "615th loss : tensor(1.3651, grad_fn=<SqueezeBackward0>)\n",
            "616th loss : tensor(1.3651, grad_fn=<SqueezeBackward0>)\n",
            "617th loss : tensor(1.3651, grad_fn=<SqueezeBackward0>)\n",
            "618th loss : tensor(1.3651, grad_fn=<SqueezeBackward0>)\n",
            "619th loss : tensor(1.3651, grad_fn=<SqueezeBackward0>)\n",
            "620th loss : tensor(1.3651, grad_fn=<SqueezeBackward0>)\n",
            "621th loss : tensor(1.3651, grad_fn=<SqueezeBackward0>)\n",
            "622th loss : tensor(1.3650, grad_fn=<SqueezeBackward0>)\n",
            "623th loss : tensor(1.3650, grad_fn=<SqueezeBackward0>)\n",
            "624th loss : tensor(1.3650, grad_fn=<SqueezeBackward0>)\n",
            "625th loss : tensor(1.3650, grad_fn=<SqueezeBackward0>)\n",
            "626th loss : tensor(1.3650, grad_fn=<SqueezeBackward0>)\n",
            "627th loss : tensor(1.3650, grad_fn=<SqueezeBackward0>)\n",
            "628th loss : tensor(1.3650, grad_fn=<SqueezeBackward0>)\n",
            "629th loss : tensor(1.3650, grad_fn=<SqueezeBackward0>)\n",
            "630th loss : tensor(1.3650, grad_fn=<SqueezeBackward0>)\n",
            "631th loss : tensor(1.3650, grad_fn=<SqueezeBackward0>)\n",
            "632th loss : tensor(1.3650, grad_fn=<SqueezeBackward0>)\n",
            "633th loss : tensor(1.3650, grad_fn=<SqueezeBackward0>)\n",
            "634th loss : tensor(1.3650, grad_fn=<SqueezeBackward0>)\n",
            "635th loss : tensor(1.3650, grad_fn=<SqueezeBackward0>)\n",
            "636th loss : tensor(1.3650, grad_fn=<SqueezeBackward0>)\n",
            "637th loss : tensor(1.3650, grad_fn=<SqueezeBackward0>)\n",
            "638th loss : tensor(1.3650, grad_fn=<SqueezeBackward0>)\n",
            "639th loss : tensor(1.3650, grad_fn=<SqueezeBackward0>)\n",
            "640th loss : tensor(1.3650, grad_fn=<SqueezeBackward0>)\n",
            "641th loss : tensor(1.3650, grad_fn=<SqueezeBackward0>)\n",
            "642th loss : tensor(1.3650, grad_fn=<SqueezeBackward0>)\n",
            "643th loss : tensor(1.3650, grad_fn=<SqueezeBackward0>)\n",
            "644th loss : tensor(1.3650, grad_fn=<SqueezeBackward0>)\n",
            "645th loss : tensor(1.3649, grad_fn=<SqueezeBackward0>)\n",
            "646th loss : tensor(1.3649, grad_fn=<SqueezeBackward0>)\n",
            "647th loss : tensor(1.3649, grad_fn=<SqueezeBackward0>)\n",
            "648th loss : tensor(1.3649, grad_fn=<SqueezeBackward0>)\n",
            "649th loss : tensor(1.3649, grad_fn=<SqueezeBackward0>)\n",
            "650th loss : tensor(1.3649, grad_fn=<SqueezeBackward0>)\n",
            "651th loss : tensor(1.3649, grad_fn=<SqueezeBackward0>)\n",
            "652th loss : tensor(1.3649, grad_fn=<SqueezeBackward0>)\n",
            "653th loss : tensor(1.3649, grad_fn=<SqueezeBackward0>)\n",
            "654th loss : tensor(1.3649, grad_fn=<SqueezeBackward0>)\n",
            "655th loss : tensor(1.3649, grad_fn=<SqueezeBackward0>)\n",
            "656th loss : tensor(1.3649, grad_fn=<SqueezeBackward0>)\n",
            "657th loss : tensor(1.3649, grad_fn=<SqueezeBackward0>)\n",
            "658th loss : tensor(1.3649, grad_fn=<SqueezeBackward0>)\n",
            "659th loss : tensor(1.3649, grad_fn=<SqueezeBackward0>)\n",
            "660th loss : tensor(1.3649, grad_fn=<SqueezeBackward0>)\n",
            "661th loss : tensor(1.3649, grad_fn=<SqueezeBackward0>)\n",
            "662th loss : tensor(1.3649, grad_fn=<SqueezeBackward0>)\n",
            "663th loss : tensor(1.3649, grad_fn=<SqueezeBackward0>)\n",
            "664th loss : tensor(1.3649, grad_fn=<SqueezeBackward0>)\n",
            "665th loss : tensor(1.3649, grad_fn=<SqueezeBackward0>)\n",
            "666th loss : tensor(1.3649, grad_fn=<SqueezeBackward0>)\n",
            "667th loss : tensor(1.3649, grad_fn=<SqueezeBackward0>)\n",
            "668th loss : tensor(1.3649, grad_fn=<SqueezeBackward0>)\n",
            "669th loss : tensor(1.3649, grad_fn=<SqueezeBackward0>)\n",
            "670th loss : tensor(1.3648, grad_fn=<SqueezeBackward0>)\n",
            "671th loss : tensor(1.3648, grad_fn=<SqueezeBackward0>)\n",
            "672th loss : tensor(1.3648, grad_fn=<SqueezeBackward0>)\n",
            "673th loss : tensor(1.3648, grad_fn=<SqueezeBackward0>)\n",
            "674th loss : tensor(1.3648, grad_fn=<SqueezeBackward0>)\n",
            "675th loss : tensor(1.3648, grad_fn=<SqueezeBackward0>)\n",
            "676th loss : tensor(1.3648, grad_fn=<SqueezeBackward0>)\n",
            "677th loss : tensor(1.3648, grad_fn=<SqueezeBackward0>)\n",
            "678th loss : tensor(1.3648, grad_fn=<SqueezeBackward0>)\n",
            "679th loss : tensor(1.3648, grad_fn=<SqueezeBackward0>)\n",
            "680th loss : tensor(1.3648, grad_fn=<SqueezeBackward0>)\n",
            "681th loss : tensor(1.3648, grad_fn=<SqueezeBackward0>)\n",
            "682th loss : tensor(1.3648, grad_fn=<SqueezeBackward0>)\n",
            "683th loss : tensor(1.3648, grad_fn=<SqueezeBackward0>)\n",
            "684th loss : tensor(1.3648, grad_fn=<SqueezeBackward0>)\n",
            "685th loss : tensor(1.3648, grad_fn=<SqueezeBackward0>)\n",
            "686th loss : tensor(1.3648, grad_fn=<SqueezeBackward0>)\n",
            "687th loss : tensor(1.3648, grad_fn=<SqueezeBackward0>)\n",
            "688th loss : tensor(1.3648, grad_fn=<SqueezeBackward0>)\n",
            "689th loss : tensor(1.3648, grad_fn=<SqueezeBackward0>)\n",
            "690th loss : tensor(1.3648, grad_fn=<SqueezeBackward0>)\n",
            "691th loss : tensor(1.3648, grad_fn=<SqueezeBackward0>)\n",
            "692th loss : tensor(1.3648, grad_fn=<SqueezeBackward0>)\n",
            "693th loss : tensor(1.3648, grad_fn=<SqueezeBackward0>)\n",
            "694th loss : tensor(1.3648, grad_fn=<SqueezeBackward0>)\n",
            "695th loss : tensor(1.3648, grad_fn=<SqueezeBackward0>)\n",
            "696th loss : tensor(1.3647, grad_fn=<SqueezeBackward0>)\n",
            "697th loss : tensor(1.3647, grad_fn=<SqueezeBackward0>)\n",
            "698th loss : tensor(1.3647, grad_fn=<SqueezeBackward0>)\n",
            "699th loss : tensor(1.3647, grad_fn=<SqueezeBackward0>)\n",
            "700th loss : tensor(1.3647, grad_fn=<SqueezeBackward0>)\n",
            "701th loss : tensor(1.3647, grad_fn=<SqueezeBackward0>)\n",
            "702th loss : tensor(1.3647, grad_fn=<SqueezeBackward0>)\n",
            "703th loss : tensor(1.3647, grad_fn=<SqueezeBackward0>)\n",
            "704th loss : tensor(1.3647, grad_fn=<SqueezeBackward0>)\n",
            "705th loss : tensor(1.3647, grad_fn=<SqueezeBackward0>)\n",
            "706th loss : tensor(1.3647, grad_fn=<SqueezeBackward0>)\n",
            "707th loss : tensor(1.3647, grad_fn=<SqueezeBackward0>)\n",
            "708th loss : tensor(1.3647, grad_fn=<SqueezeBackward0>)\n",
            "709th loss : tensor(1.3647, grad_fn=<SqueezeBackward0>)\n",
            "710th loss : tensor(1.3647, grad_fn=<SqueezeBackward0>)\n",
            "711th loss : tensor(1.3647, grad_fn=<SqueezeBackward0>)\n",
            "712th loss : tensor(1.3647, grad_fn=<SqueezeBackward0>)\n",
            "713th loss : tensor(1.3647, grad_fn=<SqueezeBackward0>)\n",
            "714th loss : tensor(1.3647, grad_fn=<SqueezeBackward0>)\n",
            "715th loss : tensor(1.3647, grad_fn=<SqueezeBackward0>)\n",
            "716th loss : tensor(1.3647, grad_fn=<SqueezeBackward0>)\n",
            "717th loss : tensor(1.3647, grad_fn=<SqueezeBackward0>)\n",
            "718th loss : tensor(1.3647, grad_fn=<SqueezeBackward0>)\n",
            "719th loss : tensor(1.3647, grad_fn=<SqueezeBackward0>)\n",
            "720th loss : tensor(1.3647, grad_fn=<SqueezeBackward0>)\n",
            "721th loss : tensor(1.3647, grad_fn=<SqueezeBackward0>)\n",
            "722th loss : tensor(1.3647, grad_fn=<SqueezeBackward0>)\n",
            "723th loss : tensor(1.3647, grad_fn=<SqueezeBackward0>)\n",
            "724th loss : tensor(1.3646, grad_fn=<SqueezeBackward0>)\n",
            "725th loss : tensor(1.3646, grad_fn=<SqueezeBackward0>)\n",
            "726th loss : tensor(1.3646, grad_fn=<SqueezeBackward0>)\n",
            "727th loss : tensor(1.3646, grad_fn=<SqueezeBackward0>)\n",
            "728th loss : tensor(1.3646, grad_fn=<SqueezeBackward0>)\n",
            "729th loss : tensor(1.3646, grad_fn=<SqueezeBackward0>)\n",
            "730th loss : tensor(1.3646, grad_fn=<SqueezeBackward0>)\n",
            "731th loss : tensor(1.3646, grad_fn=<SqueezeBackward0>)\n",
            "732th loss : tensor(1.3646, grad_fn=<SqueezeBackward0>)\n",
            "733th loss : tensor(1.3646, grad_fn=<SqueezeBackward0>)\n",
            "734th loss : tensor(1.3646, grad_fn=<SqueezeBackward0>)\n",
            "735th loss : tensor(1.3646, grad_fn=<SqueezeBackward0>)\n",
            "736th loss : tensor(1.3646, grad_fn=<SqueezeBackward0>)\n",
            "737th loss : tensor(1.3646, grad_fn=<SqueezeBackward0>)\n",
            "738th loss : tensor(1.3646, grad_fn=<SqueezeBackward0>)\n",
            "739th loss : tensor(1.3646, grad_fn=<SqueezeBackward0>)\n",
            "740th loss : tensor(1.3646, grad_fn=<SqueezeBackward0>)\n",
            "741th loss : tensor(1.3646, grad_fn=<SqueezeBackward0>)\n",
            "742th loss : tensor(1.3646, grad_fn=<SqueezeBackward0>)\n",
            "743th loss : tensor(1.3646, grad_fn=<SqueezeBackward0>)\n",
            "744th loss : tensor(1.3646, grad_fn=<SqueezeBackward0>)\n",
            "745th loss : tensor(1.3646, grad_fn=<SqueezeBackward0>)\n",
            "746th loss : tensor(1.3646, grad_fn=<SqueezeBackward0>)\n",
            "747th loss : tensor(1.3646, grad_fn=<SqueezeBackward0>)\n",
            "748th loss : tensor(1.3646, grad_fn=<SqueezeBackward0>)\n",
            "749th loss : tensor(1.3646, grad_fn=<SqueezeBackward0>)\n",
            "750th loss : tensor(1.3646, grad_fn=<SqueezeBackward0>)\n",
            "751th loss : tensor(1.3646, grad_fn=<SqueezeBackward0>)\n",
            "752th loss : tensor(1.3646, grad_fn=<SqueezeBackward0>)\n",
            "753th loss : tensor(1.3646, grad_fn=<SqueezeBackward0>)\n",
            "754th loss : tensor(1.3645, grad_fn=<SqueezeBackward0>)\n",
            "755th loss : tensor(1.3645, grad_fn=<SqueezeBackward0>)\n",
            "756th loss : tensor(1.3645, grad_fn=<SqueezeBackward0>)\n",
            "757th loss : tensor(1.3645, grad_fn=<SqueezeBackward0>)\n",
            "758th loss : tensor(1.3645, grad_fn=<SqueezeBackward0>)\n",
            "759th loss : tensor(1.3645, grad_fn=<SqueezeBackward0>)\n",
            "760th loss : tensor(1.3645, grad_fn=<SqueezeBackward0>)\n",
            "761th loss : tensor(1.3645, grad_fn=<SqueezeBackward0>)\n",
            "762th loss : tensor(1.3645, grad_fn=<SqueezeBackward0>)\n",
            "763th loss : tensor(1.3645, grad_fn=<SqueezeBackward0>)\n",
            "764th loss : tensor(1.3645, grad_fn=<SqueezeBackward0>)\n",
            "765th loss : tensor(1.3645, grad_fn=<SqueezeBackward0>)\n",
            "766th loss : tensor(1.3645, grad_fn=<SqueezeBackward0>)\n",
            "767th loss : tensor(1.3645, grad_fn=<SqueezeBackward0>)\n",
            "768th loss : tensor(1.3645, grad_fn=<SqueezeBackward0>)\n",
            "769th loss : tensor(1.3645, grad_fn=<SqueezeBackward0>)\n",
            "770th loss : tensor(1.3645, grad_fn=<SqueezeBackward0>)\n",
            "771th loss : tensor(1.3645, grad_fn=<SqueezeBackward0>)\n",
            "772th loss : tensor(1.3645, grad_fn=<SqueezeBackward0>)\n",
            "773th loss : tensor(1.3645, grad_fn=<SqueezeBackward0>)\n",
            "774th loss : tensor(1.3645, grad_fn=<SqueezeBackward0>)\n",
            "775th loss : tensor(1.3645, grad_fn=<SqueezeBackward0>)\n",
            "776th loss : tensor(1.3645, grad_fn=<SqueezeBackward0>)\n",
            "777th loss : tensor(1.3645, grad_fn=<SqueezeBackward0>)\n",
            "778th loss : tensor(1.3645, grad_fn=<SqueezeBackward0>)\n",
            "779th loss : tensor(1.3645, grad_fn=<SqueezeBackward0>)\n",
            "780th loss : tensor(1.3645, grad_fn=<SqueezeBackward0>)\n",
            "781th loss : tensor(1.3645, grad_fn=<SqueezeBackward0>)\n",
            "782th loss : tensor(1.3645, grad_fn=<SqueezeBackward0>)\n",
            "783th loss : tensor(1.3645, grad_fn=<SqueezeBackward0>)\n",
            "784th loss : tensor(1.3645, grad_fn=<SqueezeBackward0>)\n",
            "785th loss : tensor(1.3645, grad_fn=<SqueezeBackward0>)\n",
            "786th loss : tensor(1.3644, grad_fn=<SqueezeBackward0>)\n",
            "787th loss : tensor(1.3644, grad_fn=<SqueezeBackward0>)\n",
            "788th loss : tensor(1.3644, grad_fn=<SqueezeBackward0>)\n",
            "789th loss : tensor(1.3644, grad_fn=<SqueezeBackward0>)\n",
            "790th loss : tensor(1.3644, grad_fn=<SqueezeBackward0>)\n",
            "791th loss : tensor(1.3644, grad_fn=<SqueezeBackward0>)\n",
            "792th loss : tensor(1.3644, grad_fn=<SqueezeBackward0>)\n",
            "793th loss : tensor(1.3644, grad_fn=<SqueezeBackward0>)\n",
            "794th loss : tensor(1.3644, grad_fn=<SqueezeBackward0>)\n",
            "795th loss : tensor(1.3644, grad_fn=<SqueezeBackward0>)\n",
            "796th loss : tensor(1.3644, grad_fn=<SqueezeBackward0>)\n",
            "797th loss : tensor(1.3644, grad_fn=<SqueezeBackward0>)\n",
            "798th loss : tensor(1.3644, grad_fn=<SqueezeBackward0>)\n",
            "799th loss : tensor(1.3644, grad_fn=<SqueezeBackward0>)\n",
            "800th loss : tensor(1.3644, grad_fn=<SqueezeBackward0>)\n",
            "801th loss : tensor(1.3644, grad_fn=<SqueezeBackward0>)\n",
            "802th loss : tensor(1.3644, grad_fn=<SqueezeBackward0>)\n",
            "803th loss : tensor(1.3644, grad_fn=<SqueezeBackward0>)\n",
            "804th loss : tensor(1.3644, grad_fn=<SqueezeBackward0>)\n",
            "805th loss : tensor(1.3644, grad_fn=<SqueezeBackward0>)\n",
            "806th loss : tensor(1.3644, grad_fn=<SqueezeBackward0>)\n",
            "807th loss : tensor(1.3644, grad_fn=<SqueezeBackward0>)\n",
            "808th loss : tensor(1.3644, grad_fn=<SqueezeBackward0>)\n",
            "809th loss : tensor(1.3644, grad_fn=<SqueezeBackward0>)\n",
            "810th loss : tensor(1.3644, grad_fn=<SqueezeBackward0>)\n",
            "811th loss : tensor(1.3644, grad_fn=<SqueezeBackward0>)\n",
            "812th loss : tensor(1.3644, grad_fn=<SqueezeBackward0>)\n",
            "813th loss : tensor(1.3644, grad_fn=<SqueezeBackward0>)\n",
            "814th loss : tensor(1.3644, grad_fn=<SqueezeBackward0>)\n",
            "815th loss : tensor(1.3644, grad_fn=<SqueezeBackward0>)\n",
            "816th loss : tensor(1.3644, grad_fn=<SqueezeBackward0>)\n",
            "817th loss : tensor(1.3644, grad_fn=<SqueezeBackward0>)\n",
            "818th loss : tensor(1.3644, grad_fn=<SqueezeBackward0>)\n",
            "819th loss : tensor(1.3644, grad_fn=<SqueezeBackward0>)\n",
            "820th loss : tensor(1.3643, grad_fn=<SqueezeBackward0>)\n",
            "821th loss : tensor(1.3643, grad_fn=<SqueezeBackward0>)\n",
            "822th loss : tensor(1.3643, grad_fn=<SqueezeBackward0>)\n",
            "823th loss : tensor(1.3643, grad_fn=<SqueezeBackward0>)\n",
            "824th loss : tensor(1.3643, grad_fn=<SqueezeBackward0>)\n",
            "825th loss : tensor(1.3643, grad_fn=<SqueezeBackward0>)\n",
            "826th loss : tensor(1.3643, grad_fn=<SqueezeBackward0>)\n",
            "827th loss : tensor(1.3643, grad_fn=<SqueezeBackward0>)\n",
            "828th loss : tensor(1.3643, grad_fn=<SqueezeBackward0>)\n",
            "829th loss : tensor(1.3643, grad_fn=<SqueezeBackward0>)\n",
            "830th loss : tensor(1.3643, grad_fn=<SqueezeBackward0>)\n",
            "831th loss : tensor(1.3643, grad_fn=<SqueezeBackward0>)\n",
            "832th loss : tensor(1.3643, grad_fn=<SqueezeBackward0>)\n",
            "833th loss : tensor(1.3643, grad_fn=<SqueezeBackward0>)\n",
            "834th loss : tensor(1.3643, grad_fn=<SqueezeBackward0>)\n",
            "835th loss : tensor(1.3643, grad_fn=<SqueezeBackward0>)\n",
            "836th loss : tensor(1.3643, grad_fn=<SqueezeBackward0>)\n",
            "837th loss : tensor(1.3643, grad_fn=<SqueezeBackward0>)\n",
            "838th loss : tensor(1.3643, grad_fn=<SqueezeBackward0>)\n",
            "839th loss : tensor(1.3643, grad_fn=<SqueezeBackward0>)\n",
            "840th loss : tensor(1.3643, grad_fn=<SqueezeBackward0>)\n",
            "841th loss : tensor(1.3643, grad_fn=<SqueezeBackward0>)\n",
            "842th loss : tensor(1.3643, grad_fn=<SqueezeBackward0>)\n",
            "843th loss : tensor(1.3643, grad_fn=<SqueezeBackward0>)\n",
            "844th loss : tensor(1.3643, grad_fn=<SqueezeBackward0>)\n",
            "845th loss : tensor(1.3643, grad_fn=<SqueezeBackward0>)\n",
            "846th loss : tensor(1.3643, grad_fn=<SqueezeBackward0>)\n",
            "847th loss : tensor(1.3643, grad_fn=<SqueezeBackward0>)\n",
            "848th loss : tensor(1.3643, grad_fn=<SqueezeBackward0>)\n",
            "849th loss : tensor(1.3643, grad_fn=<SqueezeBackward0>)\n",
            "850th loss : tensor(1.3643, grad_fn=<SqueezeBackward0>)\n",
            "851th loss : tensor(1.3643, grad_fn=<SqueezeBackward0>)\n",
            "852th loss : tensor(1.3643, grad_fn=<SqueezeBackward0>)\n",
            "853th loss : tensor(1.3643, grad_fn=<SqueezeBackward0>)\n",
            "854th loss : tensor(1.3643, grad_fn=<SqueezeBackward0>)\n",
            "855th loss : tensor(1.3643, grad_fn=<SqueezeBackward0>)\n",
            "856th loss : tensor(1.3643, grad_fn=<SqueezeBackward0>)\n",
            "857th loss : tensor(1.3642, grad_fn=<SqueezeBackward0>)\n",
            "858th loss : tensor(1.3642, grad_fn=<SqueezeBackward0>)\n",
            "859th loss : tensor(1.3642, grad_fn=<SqueezeBackward0>)\n",
            "860th loss : tensor(1.3642, grad_fn=<SqueezeBackward0>)\n",
            "861th loss : tensor(1.3642, grad_fn=<SqueezeBackward0>)\n",
            "862th loss : tensor(1.3642, grad_fn=<SqueezeBackward0>)\n",
            "863th loss : tensor(1.3642, grad_fn=<SqueezeBackward0>)\n",
            "864th loss : tensor(1.3642, grad_fn=<SqueezeBackward0>)\n",
            "865th loss : tensor(1.3642, grad_fn=<SqueezeBackward0>)\n",
            "866th loss : tensor(1.3642, grad_fn=<SqueezeBackward0>)\n",
            "867th loss : tensor(1.3642, grad_fn=<SqueezeBackward0>)\n",
            "868th loss : tensor(1.3642, grad_fn=<SqueezeBackward0>)\n",
            "869th loss : tensor(1.3642, grad_fn=<SqueezeBackward0>)\n",
            "870th loss : tensor(1.3642, grad_fn=<SqueezeBackward0>)\n",
            "871th loss : tensor(1.3642, grad_fn=<SqueezeBackward0>)\n",
            "872th loss : tensor(1.3642, grad_fn=<SqueezeBackward0>)\n",
            "873th loss : tensor(1.3642, grad_fn=<SqueezeBackward0>)\n",
            "874th loss : tensor(1.3642, grad_fn=<SqueezeBackward0>)\n",
            "875th loss : tensor(1.3642, grad_fn=<SqueezeBackward0>)\n",
            "876th loss : tensor(1.3642, grad_fn=<SqueezeBackward0>)\n",
            "877th loss : tensor(1.3642, grad_fn=<SqueezeBackward0>)\n",
            "878th loss : tensor(1.3642, grad_fn=<SqueezeBackward0>)\n",
            "879th loss : tensor(1.3642, grad_fn=<SqueezeBackward0>)\n",
            "880th loss : tensor(1.3642, grad_fn=<SqueezeBackward0>)\n",
            "881th loss : tensor(1.3642, grad_fn=<SqueezeBackward0>)\n",
            "882th loss : tensor(1.3642, grad_fn=<SqueezeBackward0>)\n",
            "883th loss : tensor(1.3642, grad_fn=<SqueezeBackward0>)\n",
            "884th loss : tensor(1.3642, grad_fn=<SqueezeBackward0>)\n",
            "885th loss : tensor(1.3642, grad_fn=<SqueezeBackward0>)\n",
            "886th loss : tensor(1.3642, grad_fn=<SqueezeBackward0>)\n",
            "887th loss : tensor(1.3642, grad_fn=<SqueezeBackward0>)\n",
            "888th loss : tensor(1.3642, grad_fn=<SqueezeBackward0>)\n",
            "889th loss : tensor(1.3642, grad_fn=<SqueezeBackward0>)\n",
            "890th loss : tensor(1.3642, grad_fn=<SqueezeBackward0>)\n",
            "891th loss : tensor(1.3642, grad_fn=<SqueezeBackward0>)\n",
            "892th loss : tensor(1.3642, grad_fn=<SqueezeBackward0>)\n",
            "893th loss : tensor(1.3642, grad_fn=<SqueezeBackward0>)\n",
            "894th loss : tensor(1.3642, grad_fn=<SqueezeBackward0>)\n",
            "895th loss : tensor(1.3642, grad_fn=<SqueezeBackward0>)\n",
            "896th loss : tensor(1.3642, grad_fn=<SqueezeBackward0>)\n",
            "897th loss : tensor(1.3641, grad_fn=<SqueezeBackward0>)\n",
            "898th loss : tensor(1.3641, grad_fn=<SqueezeBackward0>)\n",
            "899th loss : tensor(1.3641, grad_fn=<SqueezeBackward0>)\n",
            "900th loss : tensor(1.3641, grad_fn=<SqueezeBackward0>)\n",
            "901th loss : tensor(1.3641, grad_fn=<SqueezeBackward0>)\n",
            "902th loss : tensor(1.3641, grad_fn=<SqueezeBackward0>)\n",
            "903th loss : tensor(1.3641, grad_fn=<SqueezeBackward0>)\n",
            "904th loss : tensor(1.3641, grad_fn=<SqueezeBackward0>)\n",
            "905th loss : tensor(1.3641, grad_fn=<SqueezeBackward0>)\n",
            "906th loss : tensor(1.3641, grad_fn=<SqueezeBackward0>)\n",
            "907th loss : tensor(1.3641, grad_fn=<SqueezeBackward0>)\n",
            "908th loss : tensor(1.3641, grad_fn=<SqueezeBackward0>)\n",
            "909th loss : tensor(1.3641, grad_fn=<SqueezeBackward0>)\n",
            "910th loss : tensor(1.3641, grad_fn=<SqueezeBackward0>)\n",
            "911th loss : tensor(1.3641, grad_fn=<SqueezeBackward0>)\n",
            "912th loss : tensor(1.3641, grad_fn=<SqueezeBackward0>)\n",
            "913th loss : tensor(1.3641, grad_fn=<SqueezeBackward0>)\n",
            "914th loss : tensor(1.3641, grad_fn=<SqueezeBackward0>)\n",
            "915th loss : tensor(1.3641, grad_fn=<SqueezeBackward0>)\n",
            "916th loss : tensor(1.3641, grad_fn=<SqueezeBackward0>)\n",
            "917th loss : tensor(1.3641, grad_fn=<SqueezeBackward0>)\n",
            "918th loss : tensor(1.3641, grad_fn=<SqueezeBackward0>)\n",
            "919th loss : tensor(1.3641, grad_fn=<SqueezeBackward0>)\n",
            "920th loss : tensor(1.3641, grad_fn=<SqueezeBackward0>)\n",
            "921th loss : tensor(1.3641, grad_fn=<SqueezeBackward0>)\n",
            "922th loss : tensor(1.3641, grad_fn=<SqueezeBackward0>)\n",
            "923th loss : tensor(1.3641, grad_fn=<SqueezeBackward0>)\n",
            "924th loss : tensor(1.3641, grad_fn=<SqueezeBackward0>)\n",
            "925th loss : tensor(1.3641, grad_fn=<SqueezeBackward0>)\n",
            "926th loss : tensor(1.3641, grad_fn=<SqueezeBackward0>)\n",
            "927th loss : tensor(1.3641, grad_fn=<SqueezeBackward0>)\n",
            "928th loss : tensor(1.3641, grad_fn=<SqueezeBackward0>)\n",
            "929th loss : tensor(1.3641, grad_fn=<SqueezeBackward0>)\n",
            "930th loss : tensor(1.3641, grad_fn=<SqueezeBackward0>)\n",
            "931th loss : tensor(1.3641, grad_fn=<SqueezeBackward0>)\n",
            "932th loss : tensor(1.3641, grad_fn=<SqueezeBackward0>)\n",
            "933th loss : tensor(1.3641, grad_fn=<SqueezeBackward0>)\n",
            "934th loss : tensor(1.3641, grad_fn=<SqueezeBackward0>)\n",
            "935th loss : tensor(1.3641, grad_fn=<SqueezeBackward0>)\n",
            "936th loss : tensor(1.3641, grad_fn=<SqueezeBackward0>)\n",
            "937th loss : tensor(1.3641, grad_fn=<SqueezeBackward0>)\n",
            "938th loss : tensor(1.3641, grad_fn=<SqueezeBackward0>)\n",
            "939th loss : tensor(1.3641, grad_fn=<SqueezeBackward0>)\n",
            "940th loss : tensor(1.3640, grad_fn=<SqueezeBackward0>)\n",
            "941th loss : tensor(1.3640, grad_fn=<SqueezeBackward0>)\n",
            "942th loss : tensor(1.3640, grad_fn=<SqueezeBackward0>)\n",
            "943th loss : tensor(1.3640, grad_fn=<SqueezeBackward0>)\n",
            "944th loss : tensor(1.3640, grad_fn=<SqueezeBackward0>)\n",
            "945th loss : tensor(1.3640, grad_fn=<SqueezeBackward0>)\n",
            "946th loss : tensor(1.3640, grad_fn=<SqueezeBackward0>)\n",
            "947th loss : tensor(1.3640, grad_fn=<SqueezeBackward0>)\n",
            "948th loss : tensor(1.3640, grad_fn=<SqueezeBackward0>)\n",
            "949th loss : tensor(1.3640, grad_fn=<SqueezeBackward0>)\n",
            "950th loss : tensor(1.3640, grad_fn=<SqueezeBackward0>)\n",
            "951th loss : tensor(1.3640, grad_fn=<SqueezeBackward0>)\n",
            "952th loss : tensor(1.3640, grad_fn=<SqueezeBackward0>)\n",
            "953th loss : tensor(1.3640, grad_fn=<SqueezeBackward0>)\n",
            "954th loss : tensor(1.3640, grad_fn=<SqueezeBackward0>)\n",
            "955th loss : tensor(1.3640, grad_fn=<SqueezeBackward0>)\n",
            "956th loss : tensor(1.3640, grad_fn=<SqueezeBackward0>)\n",
            "957th loss : tensor(1.3640, grad_fn=<SqueezeBackward0>)\n",
            "958th loss : tensor(1.3640, grad_fn=<SqueezeBackward0>)\n",
            "959th loss : tensor(1.3640, grad_fn=<SqueezeBackward0>)\n",
            "960th loss : tensor(1.3640, grad_fn=<SqueezeBackward0>)\n",
            "961th loss : tensor(1.3640, grad_fn=<SqueezeBackward0>)\n",
            "962th loss : tensor(1.3640, grad_fn=<SqueezeBackward0>)\n",
            "963th loss : tensor(1.3640, grad_fn=<SqueezeBackward0>)\n",
            "964th loss : tensor(1.3640, grad_fn=<SqueezeBackward0>)\n",
            "965th loss : tensor(1.3640, grad_fn=<SqueezeBackward0>)\n",
            "966th loss : tensor(1.3640, grad_fn=<SqueezeBackward0>)\n",
            "967th loss : tensor(1.3640, grad_fn=<SqueezeBackward0>)\n",
            "968th loss : tensor(1.3640, grad_fn=<SqueezeBackward0>)\n",
            "969th loss : tensor(1.3640, grad_fn=<SqueezeBackward0>)\n",
            "970th loss : tensor(1.3640, grad_fn=<SqueezeBackward0>)\n",
            "971th loss : tensor(1.3640, grad_fn=<SqueezeBackward0>)\n",
            "972th loss : tensor(1.3640, grad_fn=<SqueezeBackward0>)\n",
            "973th loss : tensor(1.3640, grad_fn=<SqueezeBackward0>)\n",
            "974th loss : tensor(1.3640, grad_fn=<SqueezeBackward0>)\n",
            "975th loss : tensor(1.3640, grad_fn=<SqueezeBackward0>)\n",
            "976th loss : tensor(1.3640, grad_fn=<SqueezeBackward0>)\n",
            "977th loss : tensor(1.3640, grad_fn=<SqueezeBackward0>)\n",
            "978th loss : tensor(1.3640, grad_fn=<SqueezeBackward0>)\n",
            "979th loss : tensor(1.3640, grad_fn=<SqueezeBackward0>)\n",
            "980th loss : tensor(1.3640, grad_fn=<SqueezeBackward0>)\n",
            "981th loss : tensor(1.3640, grad_fn=<SqueezeBackward0>)\n",
            "982th loss : tensor(1.3640, grad_fn=<SqueezeBackward0>)\n",
            "983th loss : tensor(1.3640, grad_fn=<SqueezeBackward0>)\n",
            "984th loss : tensor(1.3640, grad_fn=<SqueezeBackward0>)\n",
            "985th loss : tensor(1.3640, grad_fn=<SqueezeBackward0>)\n",
            "986th loss : tensor(1.3640, grad_fn=<SqueezeBackward0>)\n",
            "987th loss : tensor(1.3639, grad_fn=<SqueezeBackward0>)\n",
            "988th loss : tensor(1.3639, grad_fn=<SqueezeBackward0>)\n",
            "989th loss : tensor(1.3639, grad_fn=<SqueezeBackward0>)\n",
            "990th loss : tensor(1.3639, grad_fn=<SqueezeBackward0>)\n",
            "991th loss : tensor(1.3639, grad_fn=<SqueezeBackward0>)\n",
            "992th loss : tensor(1.3639, grad_fn=<SqueezeBackward0>)\n",
            "993th loss : tensor(1.3639, grad_fn=<SqueezeBackward0>)\n",
            "994th loss : tensor(1.3639, grad_fn=<SqueezeBackward0>)\n",
            "995th loss : tensor(1.3639, grad_fn=<SqueezeBackward0>)\n",
            "996th loss : tensor(1.3639, grad_fn=<SqueezeBackward0>)\n",
            "997th loss : tensor(1.3639, grad_fn=<SqueezeBackward0>)\n",
            "998th loss : tensor(1.3639, grad_fn=<SqueezeBackward0>)\n",
            "999th loss : tensor(1.3639, grad_fn=<SqueezeBackward0>)\n"
          ],
          "name": "stdout"
        }
      ]
    },
    {
      "cell_type": "code",
      "metadata": {
        "id": "DiOTJ6jrMjjV",
        "colab_type": "code",
        "outputId": "ffa89091-d2b0-4853-a9d4-0bd5f6927a61",
        "colab": {
          "base_uri": "https://localhost:8080/",
          "height": 109
        }
      },
      "source": [
        "#### Using torch.nn to sequentially define network architecture\n",
        "\n",
        "hidden_units = 15\n",
        "output_units = 1\n",
        "seq_net = torch.nn.Sequential(torch.nn.Linear(M,hidden_units),torch.nn.ReLU(),\n",
        "                              torch.nn.Linear(hidden_units,output_units))\n",
        "\n",
        "print(seq_net)"
      ],
      "execution_count": 0,
      "outputs": [
        {
          "output_type": "stream",
          "text": [
            "Sequential(\n",
            "  (0): Linear(in_features=5, out_features=15, bias=True)\n",
            "  (1): ReLU()\n",
            "  (2): Linear(in_features=15, out_features=1, bias=True)\n",
            ")\n"
          ],
          "name": "stdout"
        }
      ]
    },
    {
      "cell_type": "code",
      "metadata": {
        "id": "MnNR1094Xkuf",
        "colab_type": "code",
        "colab": {}
      },
      "source": [
        "optim = torch.optim.SGD(seq_net.parameters(),lr = 0.01,momentum = 0.5,nesterov = True)"
      ],
      "execution_count": 0,
      "outputs": []
    },
    {
      "cell_type": "code",
      "metadata": {
        "id": "swX-yDl5YhHu",
        "colab_type": "code",
        "outputId": "99205960-d925-4eaf-f097-2c6238c37e19",
        "colab": {
          "base_uri": "https://localhost:8080/",
          "height": 1000
        }
      },
      "source": [
        "for i in range(epochs):\n",
        "  output = seq_net(x)\n",
        "  loss = loss_func(output,y)\n",
        "  optim.zero_grad()\n",
        "  loss.backward()\n",
        "  optim.step()\n",
        "  if (i+1) % 5 == 0:\n",
        "    print(str(i+1)+'th loss : %s' % (loss.squeeze()))"
      ],
      "execution_count": 0,
      "outputs": [
        {
          "output_type": "stream",
          "text": [
            "5th loss : tensor(1.3896, grad_fn=<SqueezeBackward0>)\n",
            "10th loss : tensor(1.3841, grad_fn=<SqueezeBackward0>)\n",
            "15th loss : tensor(1.3806, grad_fn=<SqueezeBackward0>)\n",
            "20th loss : tensor(1.3781, grad_fn=<SqueezeBackward0>)\n",
            "25th loss : tensor(1.3761, grad_fn=<SqueezeBackward0>)\n",
            "30th loss : tensor(1.3745, grad_fn=<SqueezeBackward0>)\n",
            "35th loss : tensor(1.3731, grad_fn=<SqueezeBackward0>)\n"
          ],
          "name": "stdout"
        },
        {
          "output_type": "stream",
          "text": [
            "/usr/local/lib/python3.6/dist-packages/torch/nn/modules/loss.py:431: UserWarning: Using a target size (torch.Size([1000])) that is different to the input size (torch.Size([1000, 1])). This will likely lead to incorrect results due to broadcasting. Please ensure they have the same size.\n",
            "  return F.mse_loss(input, target, reduction=self.reduction)\n"
          ],
          "name": "stderr"
        },
        {
          "output_type": "stream",
          "text": [
            "40th loss : tensor(1.3720, grad_fn=<SqueezeBackward0>)\n",
            "45th loss : tensor(1.3710, grad_fn=<SqueezeBackward0>)\n",
            "50th loss : tensor(1.3701, grad_fn=<SqueezeBackward0>)\n",
            "55th loss : tensor(1.3694, grad_fn=<SqueezeBackward0>)\n",
            "60th loss : tensor(1.3687, grad_fn=<SqueezeBackward0>)\n",
            "65th loss : tensor(1.3682, grad_fn=<SqueezeBackward0>)\n",
            "70th loss : tensor(1.3677, grad_fn=<SqueezeBackward0>)\n",
            "75th loss : tensor(1.3673, grad_fn=<SqueezeBackward0>)\n",
            "80th loss : tensor(1.3669, grad_fn=<SqueezeBackward0>)\n",
            "85th loss : tensor(1.3666, grad_fn=<SqueezeBackward0>)\n",
            "90th loss : tensor(1.3663, grad_fn=<SqueezeBackward0>)\n",
            "95th loss : tensor(1.3661, grad_fn=<SqueezeBackward0>)\n",
            "100th loss : tensor(1.3659, grad_fn=<SqueezeBackward0>)\n",
            "105th loss : tensor(1.3657, grad_fn=<SqueezeBackward0>)\n",
            "110th loss : tensor(1.3655, grad_fn=<SqueezeBackward0>)\n",
            "115th loss : tensor(1.3654, grad_fn=<SqueezeBackward0>)\n",
            "120th loss : tensor(1.3653, grad_fn=<SqueezeBackward0>)\n",
            "125th loss : tensor(1.3651, grad_fn=<SqueezeBackward0>)\n",
            "130th loss : tensor(1.3650, grad_fn=<SqueezeBackward0>)\n",
            "135th loss : tensor(1.3649, grad_fn=<SqueezeBackward0>)\n",
            "140th loss : tensor(1.3648, grad_fn=<SqueezeBackward0>)\n",
            "145th loss : tensor(1.3648, grad_fn=<SqueezeBackward0>)\n",
            "150th loss : tensor(1.3647, grad_fn=<SqueezeBackward0>)\n",
            "155th loss : tensor(1.3646, grad_fn=<SqueezeBackward0>)\n",
            "160th loss : tensor(1.3646, grad_fn=<SqueezeBackward0>)\n",
            "165th loss : tensor(1.3645, grad_fn=<SqueezeBackward0>)\n",
            "170th loss : tensor(1.3645, grad_fn=<SqueezeBackward0>)\n",
            "175th loss : tensor(1.3644, grad_fn=<SqueezeBackward0>)\n",
            "180th loss : tensor(1.3644, grad_fn=<SqueezeBackward0>)\n",
            "185th loss : tensor(1.3644, grad_fn=<SqueezeBackward0>)\n",
            "190th loss : tensor(1.3643, grad_fn=<SqueezeBackward0>)\n",
            "195th loss : tensor(1.3643, grad_fn=<SqueezeBackward0>)\n",
            "200th loss : tensor(1.3643, grad_fn=<SqueezeBackward0>)\n",
            "205th loss : tensor(1.3642, grad_fn=<SqueezeBackward0>)\n",
            "210th loss : tensor(1.3642, grad_fn=<SqueezeBackward0>)\n",
            "215th loss : tensor(1.3642, grad_fn=<SqueezeBackward0>)\n",
            "220th loss : tensor(1.3641, grad_fn=<SqueezeBackward0>)\n",
            "225th loss : tensor(1.3641, grad_fn=<SqueezeBackward0>)\n",
            "230th loss : tensor(1.3641, grad_fn=<SqueezeBackward0>)\n",
            "235th loss : tensor(1.3641, grad_fn=<SqueezeBackward0>)\n",
            "240th loss : tensor(1.3641, grad_fn=<SqueezeBackward0>)\n",
            "245th loss : tensor(1.3640, grad_fn=<SqueezeBackward0>)\n",
            "250th loss : tensor(1.3640, grad_fn=<SqueezeBackward0>)\n",
            "255th loss : tensor(1.3640, grad_fn=<SqueezeBackward0>)\n",
            "260th loss : tensor(1.3640, grad_fn=<SqueezeBackward0>)\n",
            "265th loss : tensor(1.3640, grad_fn=<SqueezeBackward0>)\n",
            "270th loss : tensor(1.3639, grad_fn=<SqueezeBackward0>)\n",
            "275th loss : tensor(1.3639, grad_fn=<SqueezeBackward0>)\n",
            "280th loss : tensor(1.3639, grad_fn=<SqueezeBackward0>)\n",
            "285th loss : tensor(1.3639, grad_fn=<SqueezeBackward0>)\n",
            "290th loss : tensor(1.3639, grad_fn=<SqueezeBackward0>)\n",
            "295th loss : tensor(1.3639, grad_fn=<SqueezeBackward0>)\n",
            "300th loss : tensor(1.3638, grad_fn=<SqueezeBackward0>)\n",
            "305th loss : tensor(1.3638, grad_fn=<SqueezeBackward0>)\n",
            "310th loss : tensor(1.3638, grad_fn=<SqueezeBackward0>)\n",
            "315th loss : tensor(1.3638, grad_fn=<SqueezeBackward0>)\n",
            "320th loss : tensor(1.3638, grad_fn=<SqueezeBackward0>)\n",
            "325th loss : tensor(1.3638, grad_fn=<SqueezeBackward0>)\n",
            "330th loss : tensor(1.3638, grad_fn=<SqueezeBackward0>)\n",
            "335th loss : tensor(1.3637, grad_fn=<SqueezeBackward0>)\n",
            "340th loss : tensor(1.3637, grad_fn=<SqueezeBackward0>)\n",
            "345th loss : tensor(1.3637, grad_fn=<SqueezeBackward0>)\n",
            "350th loss : tensor(1.3637, grad_fn=<SqueezeBackward0>)\n",
            "355th loss : tensor(1.3637, grad_fn=<SqueezeBackward0>)\n",
            "360th loss : tensor(1.3637, grad_fn=<SqueezeBackward0>)\n",
            "365th loss : tensor(1.3637, grad_fn=<SqueezeBackward0>)\n",
            "370th loss : tensor(1.3637, grad_fn=<SqueezeBackward0>)\n",
            "375th loss : tensor(1.3637, grad_fn=<SqueezeBackward0>)\n",
            "380th loss : tensor(1.3636, grad_fn=<SqueezeBackward0>)\n",
            "385th loss : tensor(1.3636, grad_fn=<SqueezeBackward0>)\n",
            "390th loss : tensor(1.3636, grad_fn=<SqueezeBackward0>)\n",
            "395th loss : tensor(1.3636, grad_fn=<SqueezeBackward0>)\n",
            "400th loss : tensor(1.3636, grad_fn=<SqueezeBackward0>)\n",
            "405th loss : tensor(1.3636, grad_fn=<SqueezeBackward0>)\n",
            "410th loss : tensor(1.3636, grad_fn=<SqueezeBackward0>)\n",
            "415th loss : tensor(1.3636, grad_fn=<SqueezeBackward0>)\n",
            "420th loss : tensor(1.3636, grad_fn=<SqueezeBackward0>)\n",
            "425th loss : tensor(1.3636, grad_fn=<SqueezeBackward0>)\n",
            "430th loss : tensor(1.3635, grad_fn=<SqueezeBackward0>)\n",
            "435th loss : tensor(1.3635, grad_fn=<SqueezeBackward0>)\n",
            "440th loss : tensor(1.3635, grad_fn=<SqueezeBackward0>)\n",
            "445th loss : tensor(1.3635, grad_fn=<SqueezeBackward0>)\n",
            "450th loss : tensor(1.3635, grad_fn=<SqueezeBackward0>)\n",
            "455th loss : tensor(1.3635, grad_fn=<SqueezeBackward0>)\n",
            "460th loss : tensor(1.3635, grad_fn=<SqueezeBackward0>)\n",
            "465th loss : tensor(1.3635, grad_fn=<SqueezeBackward0>)\n",
            "470th loss : tensor(1.3635, grad_fn=<SqueezeBackward0>)\n",
            "475th loss : tensor(1.3635, grad_fn=<SqueezeBackward0>)\n",
            "480th loss : tensor(1.3635, grad_fn=<SqueezeBackward0>)\n",
            "485th loss : tensor(1.3634, grad_fn=<SqueezeBackward0>)\n",
            "490th loss : tensor(1.3634, grad_fn=<SqueezeBackward0>)\n",
            "495th loss : tensor(1.3634, grad_fn=<SqueezeBackward0>)\n",
            "500th loss : tensor(1.3634, grad_fn=<SqueezeBackward0>)\n",
            "505th loss : tensor(1.3634, grad_fn=<SqueezeBackward0>)\n",
            "510th loss : tensor(1.3634, grad_fn=<SqueezeBackward0>)\n",
            "515th loss : tensor(1.3634, grad_fn=<SqueezeBackward0>)\n",
            "520th loss : tensor(1.3634, grad_fn=<SqueezeBackward0>)\n",
            "525th loss : tensor(1.3634, grad_fn=<SqueezeBackward0>)\n",
            "530th loss : tensor(1.3634, grad_fn=<SqueezeBackward0>)\n",
            "535th loss : tensor(1.3634, grad_fn=<SqueezeBackward0>)\n",
            "540th loss : tensor(1.3634, grad_fn=<SqueezeBackward0>)\n",
            "545th loss : tensor(1.3634, grad_fn=<SqueezeBackward0>)\n",
            "550th loss : tensor(1.3633, grad_fn=<SqueezeBackward0>)\n",
            "555th loss : tensor(1.3633, grad_fn=<SqueezeBackward0>)\n",
            "560th loss : tensor(1.3633, grad_fn=<SqueezeBackward0>)\n",
            "565th loss : tensor(1.3633, grad_fn=<SqueezeBackward0>)\n",
            "570th loss : tensor(1.3633, grad_fn=<SqueezeBackward0>)\n",
            "575th loss : tensor(1.3633, grad_fn=<SqueezeBackward0>)\n",
            "580th loss : tensor(1.3633, grad_fn=<SqueezeBackward0>)\n",
            "585th loss : tensor(1.3633, grad_fn=<SqueezeBackward0>)\n",
            "590th loss : tensor(1.3633, grad_fn=<SqueezeBackward0>)\n",
            "595th loss : tensor(1.3633, grad_fn=<SqueezeBackward0>)\n",
            "600th loss : tensor(1.3633, grad_fn=<SqueezeBackward0>)\n",
            "605th loss : tensor(1.3633, grad_fn=<SqueezeBackward0>)\n",
            "610th loss : tensor(1.3633, grad_fn=<SqueezeBackward0>)\n",
            "615th loss : tensor(1.3633, grad_fn=<SqueezeBackward0>)\n",
            "620th loss : tensor(1.3633, grad_fn=<SqueezeBackward0>)\n",
            "625th loss : tensor(1.3633, grad_fn=<SqueezeBackward0>)\n",
            "630th loss : tensor(1.3632, grad_fn=<SqueezeBackward0>)\n",
            "635th loss : tensor(1.3632, grad_fn=<SqueezeBackward0>)\n",
            "640th loss : tensor(1.3632, grad_fn=<SqueezeBackward0>)\n",
            "645th loss : tensor(1.3632, grad_fn=<SqueezeBackward0>)\n",
            "650th loss : tensor(1.3632, grad_fn=<SqueezeBackward0>)\n",
            "655th loss : tensor(1.3632, grad_fn=<SqueezeBackward0>)\n",
            "660th loss : tensor(1.3632, grad_fn=<SqueezeBackward0>)\n",
            "665th loss : tensor(1.3632, grad_fn=<SqueezeBackward0>)\n",
            "670th loss : tensor(1.3632, grad_fn=<SqueezeBackward0>)\n",
            "675th loss : tensor(1.3632, grad_fn=<SqueezeBackward0>)\n",
            "680th loss : tensor(1.3632, grad_fn=<SqueezeBackward0>)\n",
            "685th loss : tensor(1.3632, grad_fn=<SqueezeBackward0>)\n",
            "690th loss : tensor(1.3632, grad_fn=<SqueezeBackward0>)\n",
            "695th loss : tensor(1.3632, grad_fn=<SqueezeBackward0>)\n",
            "700th loss : tensor(1.3632, grad_fn=<SqueezeBackward0>)\n",
            "705th loss : tensor(1.3632, grad_fn=<SqueezeBackward0>)\n",
            "710th loss : tensor(1.3632, grad_fn=<SqueezeBackward0>)\n",
            "715th loss : tensor(1.3632, grad_fn=<SqueezeBackward0>)\n",
            "720th loss : tensor(1.3632, grad_fn=<SqueezeBackward0>)\n",
            "725th loss : tensor(1.3631, grad_fn=<SqueezeBackward0>)\n",
            "730th loss : tensor(1.3631, grad_fn=<SqueezeBackward0>)\n",
            "735th loss : tensor(1.3631, grad_fn=<SqueezeBackward0>)\n",
            "740th loss : tensor(1.3631, grad_fn=<SqueezeBackward0>)\n",
            "745th loss : tensor(1.3631, grad_fn=<SqueezeBackward0>)\n",
            "750th loss : tensor(1.3631, grad_fn=<SqueezeBackward0>)\n",
            "755th loss : tensor(1.3631, grad_fn=<SqueezeBackward0>)\n",
            "760th loss : tensor(1.3631, grad_fn=<SqueezeBackward0>)\n",
            "765th loss : tensor(1.3631, grad_fn=<SqueezeBackward0>)\n",
            "770th loss : tensor(1.3631, grad_fn=<SqueezeBackward0>)\n",
            "775th loss : tensor(1.3631, grad_fn=<SqueezeBackward0>)\n",
            "780th loss : tensor(1.3631, grad_fn=<SqueezeBackward0>)\n",
            "785th loss : tensor(1.3631, grad_fn=<SqueezeBackward0>)\n",
            "790th loss : tensor(1.3631, grad_fn=<SqueezeBackward0>)\n",
            "795th loss : tensor(1.3631, grad_fn=<SqueezeBackward0>)\n",
            "800th loss : tensor(1.3631, grad_fn=<SqueezeBackward0>)\n",
            "805th loss : tensor(1.3631, grad_fn=<SqueezeBackward0>)\n",
            "810th loss : tensor(1.3631, grad_fn=<SqueezeBackward0>)\n",
            "815th loss : tensor(1.3631, grad_fn=<SqueezeBackward0>)\n",
            "820th loss : tensor(1.3631, grad_fn=<SqueezeBackward0>)\n",
            "825th loss : tensor(1.3631, grad_fn=<SqueezeBackward0>)\n",
            "830th loss : tensor(1.3631, grad_fn=<SqueezeBackward0>)\n",
            "835th loss : tensor(1.3631, grad_fn=<SqueezeBackward0>)\n",
            "840th loss : tensor(1.3630, grad_fn=<SqueezeBackward0>)\n",
            "845th loss : tensor(1.3630, grad_fn=<SqueezeBackward0>)\n",
            "850th loss : tensor(1.3630, grad_fn=<SqueezeBackward0>)\n",
            "855th loss : tensor(1.3630, grad_fn=<SqueezeBackward0>)\n",
            "860th loss : tensor(1.3630, grad_fn=<SqueezeBackward0>)\n",
            "865th loss : tensor(1.3630, grad_fn=<SqueezeBackward0>)\n",
            "870th loss : tensor(1.3630, grad_fn=<SqueezeBackward0>)\n",
            "875th loss : tensor(1.3630, grad_fn=<SqueezeBackward0>)\n",
            "880th loss : tensor(1.3630, grad_fn=<SqueezeBackward0>)\n",
            "885th loss : tensor(1.3630, grad_fn=<SqueezeBackward0>)\n",
            "890th loss : tensor(1.3630, grad_fn=<SqueezeBackward0>)\n",
            "895th loss : tensor(1.3630, grad_fn=<SqueezeBackward0>)\n",
            "900th loss : tensor(1.3630, grad_fn=<SqueezeBackward0>)\n",
            "905th loss : tensor(1.3630, grad_fn=<SqueezeBackward0>)\n",
            "910th loss : tensor(1.3630, grad_fn=<SqueezeBackward0>)\n",
            "915th loss : tensor(1.3630, grad_fn=<SqueezeBackward0>)\n",
            "920th loss : tensor(1.3630, grad_fn=<SqueezeBackward0>)\n",
            "925th loss : tensor(1.3630, grad_fn=<SqueezeBackward0>)\n",
            "930th loss : tensor(1.3630, grad_fn=<SqueezeBackward0>)\n",
            "935th loss : tensor(1.3630, grad_fn=<SqueezeBackward0>)\n",
            "940th loss : tensor(1.3630, grad_fn=<SqueezeBackward0>)\n",
            "945th loss : tensor(1.3630, grad_fn=<SqueezeBackward0>)\n",
            "950th loss : tensor(1.3630, grad_fn=<SqueezeBackward0>)\n",
            "955th loss : tensor(1.3630, grad_fn=<SqueezeBackward0>)\n",
            "960th loss : tensor(1.3630, grad_fn=<SqueezeBackward0>)\n",
            "965th loss : tensor(1.3630, grad_fn=<SqueezeBackward0>)\n",
            "970th loss : tensor(1.3630, grad_fn=<SqueezeBackward0>)\n",
            "975th loss : tensor(1.3630, grad_fn=<SqueezeBackward0>)\n",
            "980th loss : tensor(1.3630, grad_fn=<SqueezeBackward0>)\n",
            "985th loss : tensor(1.3630, grad_fn=<SqueezeBackward0>)\n",
            "990th loss : tensor(1.3629, grad_fn=<SqueezeBackward0>)\n",
            "995th loss : tensor(1.3629, grad_fn=<SqueezeBackward0>)\n",
            "1000th loss : tensor(1.3629, grad_fn=<SqueezeBackward0>)\n"
          ],
          "name": "stdout"
        }
      ]
    },
    {
      "cell_type": "code",
      "metadata": {
        "id": "FVrAJvFNZS-l",
        "colab_type": "code",
        "colab": {}
      },
      "source": [
        ""
      ],
      "execution_count": 0,
      "outputs": []
    },
    {
      "cell_type": "markdown",
      "metadata": {
        "id": "EbjaXznHaR7D",
        "colab_type": "text"
      },
      "source": [
        "# **Using basic pytorch for classification problem on sklearn dataset**"
      ]
    },
    {
      "cell_type": "code",
      "metadata": {
        "id": "v4J3KSTFaW0n",
        "colab_type": "code",
        "outputId": "93b7dbd0-4b16-4f77-e170-52a71ed37b62",
        "colab": {
          "base_uri": "https://localhost:8080/",
          "height": 35
        }
      },
      "source": [
        "from sklearn.datasets import fetch_olivetti_faces\n",
        "import numpy as np\n",
        "import pandas as pd\n",
        "data,target = fetch_olivetti_faces().data,fetch_olivetti_faces().target\n",
        "data1 = pd.concat([pd.DataFrame(data),pd.Series(target)],axis = 1,ignore_index = True)\n",
        "data2 = pd.DataFrame(data1).sample(frac = 1.0)\n",
        "target_col = data2.columns.tolist()[-1]\n",
        "data2.index = range(data2.shape[0])\n",
        "data,target = data2.drop([target_col],axis = 1),data2[target_col]"
      ],
      "execution_count": 0,
      "outputs": [
        {
          "output_type": "stream",
          "text": [
            "downloading Olivetti faces from https://ndownloader.figshare.com/files/5976027 to /root/scikit_learn_data\n"
          ],
          "name": "stdout"
        }
      ]
    },
    {
      "cell_type": "code",
      "metadata": {
        "id": "qGcJQvI-ie6I",
        "colab_type": "code",
        "outputId": "c8c4d0bf-b3a1-4f88-d5c5-5835331bb2e5",
        "colab": {
          "base_uri": "https://localhost:8080/",
          "height": 35
        }
      },
      "source": [
        "data.shape"
      ],
      "execution_count": 0,
      "outputs": [
        {
          "output_type": "execute_result",
          "data": {
            "text/plain": [
              "(400, 4096)"
            ]
          },
          "metadata": {
            "tags": []
          },
          "execution_count": 14
        }
      ]
    },
    {
      "cell_type": "code",
      "metadata": {
        "id": "aaRFp198a9d9",
        "colab_type": "code",
        "colab": {}
      },
      "source": [
        "data_ten = torch.from_numpy(data.values)\n",
        "target_ten = torch.from_numpy(target.values)"
      ],
      "execution_count": 0,
      "outputs": []
    },
    {
      "cell_type": "code",
      "metadata": {
        "id": "xqDyZiashhtR",
        "colab_type": "code",
        "colab": {}
      },
      "source": [
        "input_size = data_ten.size()[1]\n",
        "output_size = len(np.unique(target))"
      ],
      "execution_count": 0,
      "outputs": []
    },
    {
      "cell_type": "code",
      "metadata": {
        "id": "_NTPvILvhsRH",
        "colab_type": "code",
        "colab": {}
      },
      "source": [
        "num_hidden = int(input_size/2)\n",
        "seq_net_1 = torch.nn.Sequential(torch.nn.Linear(input_size,num_hidden),torch.nn.ReLU(),torch.nn.Linear(num_hidden,output_size),torch.nn.Sigmoid())"
      ],
      "execution_count": 0,
      "outputs": []
    },
    {
      "cell_type": "code",
      "metadata": {
        "id": "zg_cSsjHZzo7",
        "colab_type": "code",
        "outputId": "3f3f88d8-beb1-4f7a-d3b7-4f70ecc713c4",
        "colab": {
          "base_uri": "https://localhost:8080/",
          "height": 127
        }
      },
      "source": [
        "seq_net_1"
      ],
      "execution_count": 0,
      "outputs": [
        {
          "output_type": "execute_result",
          "data": {
            "text/plain": [
              "Sequential(\n",
              "  (0): Linear(in_features=4096, out_features=2048, bias=True)\n",
              "  (1): ReLU()\n",
              "  (2): Linear(in_features=2048, out_features=40, bias=True)\n",
              "  (3): Sigmoid()\n",
              ")"
            ]
          },
          "metadata": {
            "tags": []
          },
          "execution_count": 18
        }
      ]
    },
    {
      "cell_type": "code",
      "metadata": {
        "id": "lq8W_DFlZzne",
        "colab_type": "code",
        "outputId": "962ae86b-b711-4e4d-d524-b4f9189cc235",
        "colab": {
          "base_uri": "https://localhost:8080/",
          "height": 1000
        }
      },
      "source": [
        "optim = torch.optim.SGD(seq_net_1.parameters(),lr = 0.01,momentum = 0.9,nesterov=True)\n",
        "loss_func = torch.nn.CrossEntropyLoss()\n",
        "for i in range(epochs):\n",
        "  output = seq_net_1(data_ten)\n",
        "  t1 = torch.from_numpy(np.array([ int(x.argmax()) for x in output ]))\n",
        "  output_loss = loss_func(output,target_ten)\n",
        "  optim.zero_grad()\n",
        "  output_loss.backward()\n",
        "  optim.step()\n",
        "\n",
        "  if ((i+1)%4) == 0:\n",
        "    print(str(i+1)+'th loss : %s' % (output_loss.squeeze()))"
      ],
      "execution_count": 0,
      "outputs": [
        {
          "output_type": "stream",
          "text": [
            "4th loss : tensor(3.6625, grad_fn=<SqueezeBackward0>)\n",
            "8th loss : tensor(3.6599, grad_fn=<SqueezeBackward0>)\n",
            "12th loss : tensor(3.6565, grad_fn=<SqueezeBackward0>)\n",
            "16th loss : tensor(3.6526, grad_fn=<SqueezeBackward0>)\n",
            "20th loss : tensor(3.6484, grad_fn=<SqueezeBackward0>)\n",
            "24th loss : tensor(3.6440, grad_fn=<SqueezeBackward0>)\n",
            "28th loss : tensor(3.6393, grad_fn=<SqueezeBackward0>)\n",
            "32th loss : tensor(3.6345, grad_fn=<SqueezeBackward0>)\n",
            "36th loss : tensor(3.6296, grad_fn=<SqueezeBackward0>)\n",
            "40th loss : tensor(3.6245, grad_fn=<SqueezeBackward0>)\n",
            "44th loss : tensor(3.6192, grad_fn=<SqueezeBackward0>)\n",
            "48th loss : tensor(3.6138, grad_fn=<SqueezeBackward0>)\n",
            "52th loss : tensor(3.6083, grad_fn=<SqueezeBackward0>)\n",
            "56th loss : tensor(3.6026, grad_fn=<SqueezeBackward0>)\n",
            "60th loss : tensor(3.5968, grad_fn=<SqueezeBackward0>)\n",
            "64th loss : tensor(3.5908, grad_fn=<SqueezeBackward0>)\n",
            "68th loss : tensor(3.5847, grad_fn=<SqueezeBackward0>)\n",
            "72th loss : tensor(3.5784, grad_fn=<SqueezeBackward0>)\n",
            "76th loss : tensor(3.5720, grad_fn=<SqueezeBackward0>)\n",
            "80th loss : tensor(3.5654, grad_fn=<SqueezeBackward0>)\n",
            "84th loss : tensor(3.5587, grad_fn=<SqueezeBackward0>)\n",
            "88th loss : tensor(3.5517, grad_fn=<SqueezeBackward0>)\n",
            "92th loss : tensor(3.5446, grad_fn=<SqueezeBackward0>)\n",
            "96th loss : tensor(3.5374, grad_fn=<SqueezeBackward0>)\n",
            "100th loss : tensor(3.5300, grad_fn=<SqueezeBackward0>)\n",
            "104th loss : tensor(3.5224, grad_fn=<SqueezeBackward0>)\n",
            "108th loss : tensor(3.5146, grad_fn=<SqueezeBackward0>)\n",
            "112th loss : tensor(3.5067, grad_fn=<SqueezeBackward0>)\n",
            "116th loss : tensor(3.4987, grad_fn=<SqueezeBackward0>)\n",
            "120th loss : tensor(3.4906, grad_fn=<SqueezeBackward0>)\n",
            "124th loss : tensor(3.4823, grad_fn=<SqueezeBackward0>)\n",
            "128th loss : tensor(3.4739, grad_fn=<SqueezeBackward0>)\n",
            "132th loss : tensor(3.4655, grad_fn=<SqueezeBackward0>)\n",
            "136th loss : tensor(3.4569, grad_fn=<SqueezeBackward0>)\n",
            "140th loss : tensor(3.4483, grad_fn=<SqueezeBackward0>)\n",
            "144th loss : tensor(3.4396, grad_fn=<SqueezeBackward0>)\n",
            "148th loss : tensor(3.4309, grad_fn=<SqueezeBackward0>)\n",
            "152th loss : tensor(3.4222, grad_fn=<SqueezeBackward0>)\n",
            "156th loss : tensor(3.4135, grad_fn=<SqueezeBackward0>)\n",
            "160th loss : tensor(3.4047, grad_fn=<SqueezeBackward0>)\n",
            "164th loss : tensor(3.3960, grad_fn=<SqueezeBackward0>)\n",
            "168th loss : tensor(3.3874, grad_fn=<SqueezeBackward0>)\n",
            "172th loss : tensor(3.3788, grad_fn=<SqueezeBackward0>)\n",
            "176th loss : tensor(3.3702, grad_fn=<SqueezeBackward0>)\n",
            "180th loss : tensor(3.3617, grad_fn=<SqueezeBackward0>)\n",
            "184th loss : tensor(3.3533, grad_fn=<SqueezeBackward0>)\n",
            "188th loss : tensor(3.3450, grad_fn=<SqueezeBackward0>)\n",
            "192th loss : tensor(3.3368, grad_fn=<SqueezeBackward0>)\n",
            "196th loss : tensor(3.3287, grad_fn=<SqueezeBackward0>)\n",
            "200th loss : tensor(3.3207, grad_fn=<SqueezeBackward0>)\n",
            "204th loss : tensor(3.3128, grad_fn=<SqueezeBackward0>)\n",
            "208th loss : tensor(3.3050, grad_fn=<SqueezeBackward0>)\n",
            "212th loss : tensor(3.2974, grad_fn=<SqueezeBackward0>)\n",
            "216th loss : tensor(3.2898, grad_fn=<SqueezeBackward0>)\n",
            "220th loss : tensor(3.2824, grad_fn=<SqueezeBackward0>)\n",
            "224th loss : tensor(3.2752, grad_fn=<SqueezeBackward0>)\n",
            "228th loss : tensor(3.2680, grad_fn=<SqueezeBackward0>)\n",
            "232th loss : tensor(3.2610, grad_fn=<SqueezeBackward0>)\n",
            "236th loss : tensor(3.2541, grad_fn=<SqueezeBackward0>)\n",
            "240th loss : tensor(3.2473, grad_fn=<SqueezeBackward0>)\n",
            "244th loss : tensor(3.2407, grad_fn=<SqueezeBackward0>)\n",
            "248th loss : tensor(3.2342, grad_fn=<SqueezeBackward0>)\n",
            "252th loss : tensor(3.2278, grad_fn=<SqueezeBackward0>)\n",
            "256th loss : tensor(3.2215, grad_fn=<SqueezeBackward0>)\n",
            "260th loss : tensor(3.2154, grad_fn=<SqueezeBackward0>)\n",
            "264th loss : tensor(3.2093, grad_fn=<SqueezeBackward0>)\n",
            "268th loss : tensor(3.2034, grad_fn=<SqueezeBackward0>)\n",
            "272th loss : tensor(3.1976, grad_fn=<SqueezeBackward0>)\n",
            "276th loss : tensor(3.1919, grad_fn=<SqueezeBackward0>)\n",
            "280th loss : tensor(3.1863, grad_fn=<SqueezeBackward0>)\n",
            "284th loss : tensor(3.1808, grad_fn=<SqueezeBackward0>)\n",
            "288th loss : tensor(3.1755, grad_fn=<SqueezeBackward0>)\n",
            "292th loss : tensor(3.1702, grad_fn=<SqueezeBackward0>)\n",
            "296th loss : tensor(3.1650, grad_fn=<SqueezeBackward0>)\n",
            "300th loss : tensor(3.1599, grad_fn=<SqueezeBackward0>)\n",
            "304th loss : tensor(3.1549, grad_fn=<SqueezeBackward0>)\n",
            "308th loss : tensor(3.1500, grad_fn=<SqueezeBackward0>)\n",
            "312th loss : tensor(3.1452, grad_fn=<SqueezeBackward0>)\n",
            "316th loss : tensor(3.1405, grad_fn=<SqueezeBackward0>)\n",
            "320th loss : tensor(3.1358, grad_fn=<SqueezeBackward0>)\n",
            "324th loss : tensor(3.1313, grad_fn=<SqueezeBackward0>)\n",
            "328th loss : tensor(3.1268, grad_fn=<SqueezeBackward0>)\n",
            "332th loss : tensor(3.1225, grad_fn=<SqueezeBackward0>)\n",
            "336th loss : tensor(3.1181, grad_fn=<SqueezeBackward0>)\n",
            "340th loss : tensor(3.1139, grad_fn=<SqueezeBackward0>)\n",
            "344th loss : tensor(3.1098, grad_fn=<SqueezeBackward0>)\n",
            "348th loss : tensor(3.1057, grad_fn=<SqueezeBackward0>)\n",
            "352th loss : tensor(3.1017, grad_fn=<SqueezeBackward0>)\n",
            "356th loss : tensor(3.0977, grad_fn=<SqueezeBackward0>)\n",
            "360th loss : tensor(3.0939, grad_fn=<SqueezeBackward0>)\n",
            "364th loss : tensor(3.0901, grad_fn=<SqueezeBackward0>)\n",
            "368th loss : tensor(3.0863, grad_fn=<SqueezeBackward0>)\n",
            "372th loss : tensor(3.0826, grad_fn=<SqueezeBackward0>)\n",
            "376th loss : tensor(3.0790, grad_fn=<SqueezeBackward0>)\n",
            "380th loss : tensor(3.0755, grad_fn=<SqueezeBackward0>)\n",
            "384th loss : tensor(3.0720, grad_fn=<SqueezeBackward0>)\n",
            "388th loss : tensor(3.0686, grad_fn=<SqueezeBackward0>)\n",
            "392th loss : tensor(3.0652, grad_fn=<SqueezeBackward0>)\n",
            "396th loss : tensor(3.0619, grad_fn=<SqueezeBackward0>)\n",
            "400th loss : tensor(3.0586, grad_fn=<SqueezeBackward0>)\n",
            "404th loss : tensor(3.0554, grad_fn=<SqueezeBackward0>)\n",
            "408th loss : tensor(3.0522, grad_fn=<SqueezeBackward0>)\n",
            "412th loss : tensor(3.0491, grad_fn=<SqueezeBackward0>)\n",
            "416th loss : tensor(3.0460, grad_fn=<SqueezeBackward0>)\n",
            "420th loss : tensor(3.0430, grad_fn=<SqueezeBackward0>)\n",
            "424th loss : tensor(3.0401, grad_fn=<SqueezeBackward0>)\n",
            "428th loss : tensor(3.0371, grad_fn=<SqueezeBackward0>)\n",
            "432th loss : tensor(3.0343, grad_fn=<SqueezeBackward0>)\n",
            "436th loss : tensor(3.0314, grad_fn=<SqueezeBackward0>)\n",
            "440th loss : tensor(3.0286, grad_fn=<SqueezeBackward0>)\n",
            "444th loss : tensor(3.0259, grad_fn=<SqueezeBackward0>)\n",
            "448th loss : tensor(3.0232, grad_fn=<SqueezeBackward0>)\n",
            "452th loss : tensor(3.0206, grad_fn=<SqueezeBackward0>)\n",
            "456th loss : tensor(3.0179, grad_fn=<SqueezeBackward0>)\n",
            "460th loss : tensor(3.0154, grad_fn=<SqueezeBackward0>)\n",
            "464th loss : tensor(3.0128, grad_fn=<SqueezeBackward0>)\n",
            "468th loss : tensor(3.0103, grad_fn=<SqueezeBackward0>)\n",
            "472th loss : tensor(3.0079, grad_fn=<SqueezeBackward0>)\n",
            "476th loss : tensor(3.0054, grad_fn=<SqueezeBackward0>)\n",
            "480th loss : tensor(3.0030, grad_fn=<SqueezeBackward0>)\n",
            "484th loss : tensor(3.0007, grad_fn=<SqueezeBackward0>)\n",
            "488th loss : tensor(2.9984, grad_fn=<SqueezeBackward0>)\n",
            "492th loss : tensor(2.9961, grad_fn=<SqueezeBackward0>)\n",
            "496th loss : tensor(2.9938, grad_fn=<SqueezeBackward0>)\n",
            "500th loss : tensor(2.9916, grad_fn=<SqueezeBackward0>)\n",
            "504th loss : tensor(2.9894, grad_fn=<SqueezeBackward0>)\n",
            "508th loss : tensor(2.9872, grad_fn=<SqueezeBackward0>)\n",
            "512th loss : tensor(2.9851, grad_fn=<SqueezeBackward0>)\n",
            "516th loss : tensor(2.9830, grad_fn=<SqueezeBackward0>)\n",
            "520th loss : tensor(2.9809, grad_fn=<SqueezeBackward0>)\n",
            "524th loss : tensor(2.9789, grad_fn=<SqueezeBackward0>)\n",
            "528th loss : tensor(2.9769, grad_fn=<SqueezeBackward0>)\n",
            "532th loss : tensor(2.9749, grad_fn=<SqueezeBackward0>)\n",
            "536th loss : tensor(2.9729, grad_fn=<SqueezeBackward0>)\n",
            "540th loss : tensor(2.9710, grad_fn=<SqueezeBackward0>)\n",
            "544th loss : tensor(2.9691, grad_fn=<SqueezeBackward0>)\n",
            "548th loss : tensor(2.9672, grad_fn=<SqueezeBackward0>)\n",
            "552th loss : tensor(2.9653, grad_fn=<SqueezeBackward0>)\n",
            "556th loss : tensor(2.9635, grad_fn=<SqueezeBackward0>)\n",
            "560th loss : tensor(2.9617, grad_fn=<SqueezeBackward0>)\n",
            "564th loss : tensor(2.9599, grad_fn=<SqueezeBackward0>)\n",
            "568th loss : tensor(2.9581, grad_fn=<SqueezeBackward0>)\n",
            "572th loss : tensor(2.9564, grad_fn=<SqueezeBackward0>)\n",
            "576th loss : tensor(2.9547, grad_fn=<SqueezeBackward0>)\n",
            "580th loss : tensor(2.9530, grad_fn=<SqueezeBackward0>)\n",
            "584th loss : tensor(2.9513, grad_fn=<SqueezeBackward0>)\n",
            "588th loss : tensor(2.9496, grad_fn=<SqueezeBackward0>)\n",
            "592th loss : tensor(2.9480, grad_fn=<SqueezeBackward0>)\n",
            "596th loss : tensor(2.9464, grad_fn=<SqueezeBackward0>)\n",
            "600th loss : tensor(2.9448, grad_fn=<SqueezeBackward0>)\n",
            "604th loss : tensor(2.9432, grad_fn=<SqueezeBackward0>)\n",
            "608th loss : tensor(2.9416, grad_fn=<SqueezeBackward0>)\n",
            "612th loss : tensor(2.9401, grad_fn=<SqueezeBackward0>)\n",
            "616th loss : tensor(2.9386, grad_fn=<SqueezeBackward0>)\n",
            "620th loss : tensor(2.9371, grad_fn=<SqueezeBackward0>)\n",
            "624th loss : tensor(2.9356, grad_fn=<SqueezeBackward0>)\n",
            "628th loss : tensor(2.9341, grad_fn=<SqueezeBackward0>)\n",
            "632th loss : tensor(2.9327, grad_fn=<SqueezeBackward0>)\n",
            "636th loss : tensor(2.9312, grad_fn=<SqueezeBackward0>)\n",
            "640th loss : tensor(2.9298, grad_fn=<SqueezeBackward0>)\n",
            "644th loss : tensor(2.9284, grad_fn=<SqueezeBackward0>)\n",
            "648th loss : tensor(2.9270, grad_fn=<SqueezeBackward0>)\n",
            "652th loss : tensor(2.9256, grad_fn=<SqueezeBackward0>)\n",
            "656th loss : tensor(2.9243, grad_fn=<SqueezeBackward0>)\n",
            "660th loss : tensor(2.9229, grad_fn=<SqueezeBackward0>)\n",
            "664th loss : tensor(2.9216, grad_fn=<SqueezeBackward0>)\n",
            "668th loss : tensor(2.9202, grad_fn=<SqueezeBackward0>)\n",
            "672th loss : tensor(2.9189, grad_fn=<SqueezeBackward0>)\n",
            "676th loss : tensor(2.9176, grad_fn=<SqueezeBackward0>)\n",
            "680th loss : tensor(2.9164, grad_fn=<SqueezeBackward0>)\n",
            "684th loss : tensor(2.9151, grad_fn=<SqueezeBackward0>)\n",
            "688th loss : tensor(2.9138, grad_fn=<SqueezeBackward0>)\n",
            "692th loss : tensor(2.9126, grad_fn=<SqueezeBackward0>)\n",
            "696th loss : tensor(2.9114, grad_fn=<SqueezeBackward0>)\n",
            "700th loss : tensor(2.9101, grad_fn=<SqueezeBackward0>)\n",
            "704th loss : tensor(2.9089, grad_fn=<SqueezeBackward0>)\n",
            "708th loss : tensor(2.9078, grad_fn=<SqueezeBackward0>)\n",
            "712th loss : tensor(2.9066, grad_fn=<SqueezeBackward0>)\n",
            "716th loss : tensor(2.9054, grad_fn=<SqueezeBackward0>)\n",
            "720th loss : tensor(2.9043, grad_fn=<SqueezeBackward0>)\n",
            "724th loss : tensor(2.9031, grad_fn=<SqueezeBackward0>)\n",
            "728th loss : tensor(2.9020, grad_fn=<SqueezeBackward0>)\n",
            "732th loss : tensor(2.9009, grad_fn=<SqueezeBackward0>)\n",
            "736th loss : tensor(2.8998, grad_fn=<SqueezeBackward0>)\n",
            "740th loss : tensor(2.8987, grad_fn=<SqueezeBackward0>)\n",
            "744th loss : tensor(2.8976, grad_fn=<SqueezeBackward0>)\n",
            "748th loss : tensor(2.8965, grad_fn=<SqueezeBackward0>)\n",
            "752th loss : tensor(2.8955, grad_fn=<SqueezeBackward0>)\n",
            "756th loss : tensor(2.8944, grad_fn=<SqueezeBackward0>)\n",
            "760th loss : tensor(2.8934, grad_fn=<SqueezeBackward0>)\n",
            "764th loss : tensor(2.8924, grad_fn=<SqueezeBackward0>)\n",
            "768th loss : tensor(2.8914, grad_fn=<SqueezeBackward0>)\n",
            "772th loss : tensor(2.8904, grad_fn=<SqueezeBackward0>)\n",
            "776th loss : tensor(2.8894, grad_fn=<SqueezeBackward0>)\n",
            "780th loss : tensor(2.8884, grad_fn=<SqueezeBackward0>)\n",
            "784th loss : tensor(2.8875, grad_fn=<SqueezeBackward0>)\n",
            "788th loss : tensor(2.8865, grad_fn=<SqueezeBackward0>)\n",
            "792th loss : tensor(2.8856, grad_fn=<SqueezeBackward0>)\n",
            "796th loss : tensor(2.8846, grad_fn=<SqueezeBackward0>)\n",
            "800th loss : tensor(2.8837, grad_fn=<SqueezeBackward0>)\n",
            "804th loss : tensor(2.8828, grad_fn=<SqueezeBackward0>)\n",
            "808th loss : tensor(2.8819, grad_fn=<SqueezeBackward0>)\n",
            "812th loss : tensor(2.8810, grad_fn=<SqueezeBackward0>)\n",
            "816th loss : tensor(2.8801, grad_fn=<SqueezeBackward0>)\n",
            "820th loss : tensor(2.8792, grad_fn=<SqueezeBackward0>)\n",
            "824th loss : tensor(2.8783, grad_fn=<SqueezeBackward0>)\n",
            "828th loss : tensor(2.8775, grad_fn=<SqueezeBackward0>)\n",
            "832th loss : tensor(2.8766, grad_fn=<SqueezeBackward0>)\n",
            "836th loss : tensor(2.8758, grad_fn=<SqueezeBackward0>)\n",
            "840th loss : tensor(2.8749, grad_fn=<SqueezeBackward0>)\n",
            "844th loss : tensor(2.8741, grad_fn=<SqueezeBackward0>)\n",
            "848th loss : tensor(2.8733, grad_fn=<SqueezeBackward0>)\n",
            "852th loss : tensor(2.8725, grad_fn=<SqueezeBackward0>)\n",
            "856th loss : tensor(2.8717, grad_fn=<SqueezeBackward0>)\n",
            "860th loss : tensor(2.8709, grad_fn=<SqueezeBackward0>)\n",
            "864th loss : tensor(2.8701, grad_fn=<SqueezeBackward0>)\n",
            "868th loss : tensor(2.8693, grad_fn=<SqueezeBackward0>)\n",
            "872th loss : tensor(2.8685, grad_fn=<SqueezeBackward0>)\n",
            "876th loss : tensor(2.8678, grad_fn=<SqueezeBackward0>)\n",
            "880th loss : tensor(2.8670, grad_fn=<SqueezeBackward0>)\n",
            "884th loss : tensor(2.8662, grad_fn=<SqueezeBackward0>)\n",
            "888th loss : tensor(2.8655, grad_fn=<SqueezeBackward0>)\n",
            "892th loss : tensor(2.8648, grad_fn=<SqueezeBackward0>)\n",
            "896th loss : tensor(2.8640, grad_fn=<SqueezeBackward0>)\n",
            "900th loss : tensor(2.8633, grad_fn=<SqueezeBackward0>)\n",
            "904th loss : tensor(2.8626, grad_fn=<SqueezeBackward0>)\n",
            "908th loss : tensor(2.8619, grad_fn=<SqueezeBackward0>)\n",
            "912th loss : tensor(2.8611, grad_fn=<SqueezeBackward0>)\n",
            "916th loss : tensor(2.8604, grad_fn=<SqueezeBackward0>)\n",
            "920th loss : tensor(2.8597, grad_fn=<SqueezeBackward0>)\n",
            "924th loss : tensor(2.8591, grad_fn=<SqueezeBackward0>)\n",
            "928th loss : tensor(2.8584, grad_fn=<SqueezeBackward0>)\n",
            "932th loss : tensor(2.8577, grad_fn=<SqueezeBackward0>)\n",
            "936th loss : tensor(2.8570, grad_fn=<SqueezeBackward0>)\n",
            "940th loss : tensor(2.8564, grad_fn=<SqueezeBackward0>)\n",
            "944th loss : tensor(2.8557, grad_fn=<SqueezeBackward0>)\n",
            "948th loss : tensor(2.8550, grad_fn=<SqueezeBackward0>)\n",
            "952th loss : tensor(2.8544, grad_fn=<SqueezeBackward0>)\n",
            "956th loss : tensor(2.8537, grad_fn=<SqueezeBackward0>)\n",
            "960th loss : tensor(2.8531, grad_fn=<SqueezeBackward0>)\n",
            "964th loss : tensor(2.8525, grad_fn=<SqueezeBackward0>)\n",
            "968th loss : tensor(2.8518, grad_fn=<SqueezeBackward0>)\n",
            "972th loss : tensor(2.8512, grad_fn=<SqueezeBackward0>)\n",
            "976th loss : tensor(2.8506, grad_fn=<SqueezeBackward0>)\n",
            "980th loss : tensor(2.8500, grad_fn=<SqueezeBackward0>)\n",
            "984th loss : tensor(2.8494, grad_fn=<SqueezeBackward0>)\n",
            "988th loss : tensor(2.8488, grad_fn=<SqueezeBackward0>)\n",
            "992th loss : tensor(2.8482, grad_fn=<SqueezeBackward0>)\n",
            "996th loss : tensor(2.8476, grad_fn=<SqueezeBackward0>)\n",
            "1000th loss : tensor(2.8470, grad_fn=<SqueezeBackward0>)\n"
          ],
          "name": "stdout"
        }
      ]
    },
    {
      "cell_type": "code",
      "metadata": {
        "id": "lf9pTvIbZzmc",
        "colab_type": "code",
        "colab": {}
      },
      "source": [
        ""
      ],
      "execution_count": 0,
      "outputs": []
    },
    {
      "cell_type": "markdown",
      "metadata": {
        "id": "WmJqvmNPBHm9",
        "colab_type": "text"
      },
      "source": [
        "# ***Working with TorchVision***"
      ]
    },
    {
      "cell_type": "code",
      "metadata": {
        "id": "hsjOhDcPnVZ4",
        "colab_type": "code",
        "colab": {}
      },
      "source": [
        "import pdb\n",
        "import torchvision\n",
        "import torchvision.transforms as transforms\n",
        "import numpy as np\n",
        "import matplotlib.pyplot as plt\n",
        "import torch.nn.functional as F\n",
        "import os"
      ],
      "execution_count": 0,
      "outputs": []
    },
    {
      "cell_type": "code",
      "metadata": {
        "id": "CPRFRHi6Gn-t",
        "colab_type": "code",
        "colab": {}
      },
      "source": [
        "transform = transforms.Compose([\n",
        "transforms.RandomHorizontalFlip(p = 0.7),\n",
        "transforms.RandomVerticalFlip(p = 0.6),\n",
        "transforms.ToTensor(),\n",
        "transforms.Normalize(mean = (0.5,0.2,0.6),std = (0.1,0.1,0.1))                                \n",
        "])"
      ],
      "execution_count": 0,
      "outputs": []
    },
    {
      "cell_type": "code",
      "metadata": {
        "id": "_9L4iUP3Zzkv",
        "colab_type": "code",
        "outputId": "20491a57-f471-417c-d622-386024fcd201",
        "colab": {
          "base_uri": "https://localhost:8080/",
          "height": 35
        }
      },
      "source": [
        "train = torchvision.datasets.CIFAR10(os.path.join(os.getcwd(),'CIFAR_data'),download = True,transform = transforms,train = True)\n",
        "trainset = torch.utils.data.DataLoader(train,batch_size = 32,shuffle = True)"
      ],
      "execution_count": 0,
      "outputs": [
        {
          "output_type": "stream",
          "text": [
            "Files already downloaded and verified\n"
          ],
          "name": "stdout"
        }
      ]
    },
    {
      "cell_type": "code",
      "metadata": {
        "id": "5S0wGZdYZzhm",
        "colab_type": "code",
        "outputId": "8de34a39-ca3b-4fd9-dbf4-e9db96b60bda",
        "colab": {
          "base_uri": "https://localhost:8080/",
          "height": 35
        }
      },
      "source": [
        "test = torchvision.datasets.CIFAR10(os.path.join(os.getcwd(),'CIFAR_data'),download = True,transform = transforms,train = False)\n",
        "testset = torch.utils.data.DataLoader(test,batch_size = 32,shuffle = True)"
      ],
      "execution_count": 0,
      "outputs": [
        {
          "output_type": "stream",
          "text": [
            "Files already downloaded and verified\n"
          ],
          "name": "stdout"
        }
      ]
    },
    {
      "cell_type": "code",
      "metadata": {
        "id": "2iG_XY9EZzd6",
        "colab_type": "code",
        "colab": {}
      },
      "source": [
        "classes = tuple(trainset.dataset.classes)"
      ],
      "execution_count": 0,
      "outputs": []
    },
    {
      "cell_type": "code",
      "metadata": {
        "id": "Oy2CgE1GZzZ-",
        "colab_type": "code",
        "outputId": "aafb4639-ea88-4e83-96dc-02b725ee0c69",
        "colab": {
          "base_uri": "https://localhost:8080/",
          "height": 55
        }
      },
      "source": [
        "'''\n",
        "##### View random batch\n",
        "iterable_batch = iter(trainset)\n",
        "random_batch,labels = iterable_batch.next()\n",
        "grid = torchvision.utils.make_grid(random_batch)\n",
        "grid_matrix = grid.numpy()\n",
        "plt.imshow(grid_matrix.transpose(1,2,0))\n",
        "'''"
      ],
      "execution_count": 0,
      "outputs": [
        {
          "output_type": "execute_result",
          "data": {
            "text/plain": [
              "'\\n##### View random batch\\niterable_batch = iter(trainset)\\nrandom_batch,labels = iterable_batch.next()\\ngrid = torchvision.utils.make_grid(random_batch)\\ngrid_matrix = grid.numpy()\\nplt.imshow(grid_matrix.transpose(1,2,0))\\n'"
            ]
          },
          "metadata": {
            "tags": []
          },
          "execution_count": 57
        }
      ]
    },
    {
      "cell_type": "code",
      "metadata": {
        "id": "KjaqQqzoZzXm",
        "colab_type": "code",
        "colab": {}
      },
      "source": [
        "class ConvNet(torch.nn.Module):\n",
        "  def __init__(self):\n",
        "    super(ConvNet,self).__init__()\n",
        "    self.convol1 = torch.nn.Conv2d(in_channels=3,out_channels=30,kernel_size = 5)\n",
        "    self.pool1 = torch.nn.MaxPool2d(2,2)\n",
        "    self.convol2 = torch.nn.Conv2d(30,30,5)\n",
        "    self.fc1 = torch.nn.Linear(in_features=30*5*5,300)\n",
        "    self.fc2 = torch.nn.Linear(300,100)\n",
        "    self.fc3 = torch.nn.Linear(100,10)\n",
        "  \n",
        "  def Forward(self,x):\n",
        "    x1 = self.pool(F.relu(self.convol1(x)))\n",
        "    x2 = self.pool(F.relu(self.convol2(x)))\n",
        "    x3 = x2.view(-1,30*5*5)\n",
        "    x3 = F.relu(self.fc1(x3))\n",
        "    x3 = F.relu(self.fc2(x3))\n",
        "    x3 = self.fc3(x3)\n",
        "\n",
        "    return x3\n",
        "\n",
        "  "
      ],
      "execution_count": 0,
      "outputs": []
    },
    {
      "cell_type": "code",
      "metadata": {
        "id": "MPi3yEozZzUn",
        "colab_type": "code",
        "colab": {}
      },
      "source": [
        ""
      ],
      "execution_count": 0,
      "outputs": []
    },
    {
      "cell_type": "markdown",
      "metadata": {
        "id": "ieeGCBt4O_bM",
        "colab_type": "text"
      },
      "source": [
        "# **Deep Learning with Torch**\n"
      ]
    },
    {
      "cell_type": "code",
      "metadata": {
        "id": "DQsvMBBbZzSk",
        "colab_type": "code",
        "colab": {}
      },
      "source": [
        "import torch"
      ],
      "execution_count": 0,
      "outputs": []
    },
    {
      "cell_type": "code",
      "metadata": {
        "id": "JLr1a-4DZzPL",
        "colab_type": "code",
        "outputId": "8eba5553-dca5-4c06-9474-39d3ad7ca36d",
        "colab": {
          "base_uri": "https://localhost:8080/",
          "height": 35
        }
      },
      "source": [
        "torch.get_default_dtype()"
      ],
      "execution_count": 2,
      "outputs": [
        {
          "output_type": "execute_result",
          "data": {
            "text/plain": [
              "torch.float32"
            ]
          },
          "metadata": {
            "tags": []
          },
          "execution_count": 2
        }
      ]
    },
    {
      "cell_type": "code",
      "metadata": {
        "id": "z7qDhpVAZzNO",
        "colab_type": "code",
        "colab": {}
      },
      "source": [
        "torch.set_default_dtype(torch.float64)"
      ],
      "execution_count": 0,
      "outputs": []
    },
    {
      "cell_type": "code",
      "metadata": {
        "id": "rT3W4h8WZzLN",
        "colab_type": "code",
        "outputId": "7417800e-201e-4ad4-ef7a-5af29e7b96ce",
        "colab": {
          "base_uri": "https://localhost:8080/",
          "height": 54
        }
      },
      "source": [
        "torch_arr = torch.Tensor([[1,2,3],[4,5,6]])\n",
        "print(torch_arr)"
      ],
      "execution_count": 4,
      "outputs": [
        {
          "output_type": "stream",
          "text": [
            "tensor([[1., 2., 3.],\n",
            "        [4., 5., 6.]])\n"
          ],
          "name": "stdout"
        }
      ]
    },
    {
      "cell_type": "code",
      "metadata": {
        "id": "8DJPujQXZzHx",
        "colab_type": "code",
        "outputId": "96f517bd-7d9c-4f05-ffbc-2219f17fb51f",
        "colab": {
          "base_uri": "https://localhost:8080/",
          "height": 35
        }
      },
      "source": [
        "torch.is_tensor(torch_arr)"
      ],
      "execution_count": 5,
      "outputs": [
        {
          "output_type": "execute_result",
          "data": {
            "text/plain": [
              "True"
            ]
          },
          "metadata": {
            "tags": []
          },
          "execution_count": 5
        }
      ]
    },
    {
      "cell_type": "code",
      "metadata": {
        "id": "p5kwAlsVZzF6",
        "colab_type": "code",
        "outputId": "e0afea51-22c9-4637-bd71-68a9d3951006",
        "colab": {
          "base_uri": "https://localhost:8080/",
          "height": 35
        }
      },
      "source": [
        "torch.numel(torch_arr)"
      ],
      "execution_count": 6,
      "outputs": [
        {
          "output_type": "execute_result",
          "data": {
            "text/plain": [
              "6"
            ]
          },
          "metadata": {
            "tags": []
          },
          "execution_count": 6
        }
      ]
    },
    {
      "cell_type": "code",
      "metadata": {
        "id": "TCjtNgo6ZzER",
        "colab_type": "code",
        "outputId": "c603e595-67d5-4399-cc78-bb55794cb0cc",
        "colab": {
          "base_uri": "https://localhost:8080/",
          "height": 54
        }
      },
      "source": [
        "torch.Tensor(2,3)"
      ],
      "execution_count": 7,
      "outputs": [
        {
          "output_type": "execute_result",
          "data": {
            "text/plain": [
              "tensor([[3.5697e-316, 2.9644e-323, 4.9407e-324],\n",
              "        [8.5051e+223,  1.1016e-94, 3.5176e+180]])"
            ]
          },
          "metadata": {
            "tags": []
          },
          "execution_count": 7
        }
      ]
    },
    {
      "cell_type": "code",
      "metadata": {
        "id": "d14z1zBmZzCQ",
        "colab_type": "code",
        "outputId": "ae224b6f-2f40-4910-d333-f7c2f0e4538e",
        "colab": {
          "base_uri": "https://localhost:8080/",
          "height": 35
        }
      },
      "source": [
        "torch_int_arr = torch.Tensor([5,4,3,2]).type(torch.IntTensor)\n",
        "print(torch_int_arr)"
      ],
      "execution_count": 8,
      "outputs": [
        {
          "output_type": "stream",
          "text": [
            "tensor([5, 4, 3, 2], dtype=torch.int32)\n"
          ],
          "name": "stdout"
        }
      ]
    },
    {
      "cell_type": "code",
      "metadata": {
        "id": "ocU7XGzxZy-p",
        "colab_type": "code",
        "outputId": "1702fe7c-70ee-4280-980e-8e7f7e9af7c4",
        "colab": {
          "base_uri": "https://localhost:8080/",
          "height": 72
        }
      },
      "source": [
        "tensor_fill = torch.full(size = (3,3),fill_value = 20)\n",
        "print(tensor_fill)"
      ],
      "execution_count": 9,
      "outputs": [
        {
          "output_type": "stream",
          "text": [
            "tensor([[20., 20., 20.],\n",
            "        [20., 20., 20.],\n",
            "        [20., 20., 20.]])\n"
          ],
          "name": "stdout"
        }
      ]
    },
    {
      "cell_type": "code",
      "metadata": {
        "id": "rCGrvqb4Zy8Z",
        "colab_type": "code",
        "outputId": "e47c82c6-8973-4a71-f08b-a7bc6f9a0574",
        "colab": {
          "base_uri": "https://localhost:8080/",
          "height": 54
        }
      },
      "source": [
        "iden_tensor = torch.eye(2,3)\n",
        "print(iden_tensor)"
      ],
      "execution_count": 10,
      "outputs": [
        {
          "output_type": "stream",
          "text": [
            "tensor([[1., 0., 0.],\n",
            "        [0., 1., 0.]])\n"
          ],
          "name": "stdout"
        }
      ]
    },
    {
      "cell_type": "code",
      "metadata": {
        "id": "uMkP8QgOZy26",
        "colab_type": "code",
        "outputId": "8068ea76-2ec9-44b1-ea3b-0e4c73ab4242",
        "colab": {
          "base_uri": "https://localhost:8080/",
          "height": 164
        }
      },
      "source": [
        "one_tensor = torch.ones(size = (4,4))\n",
        "zero_tensor = torch.zeros_like(one_tensor)\n",
        "print(one_tensor)\n",
        "print(zero_tensor)"
      ],
      "execution_count": 11,
      "outputs": [
        {
          "output_type": "stream",
          "text": [
            "tensor([[1., 1., 1., 1.],\n",
            "        [1., 1., 1., 1.],\n",
            "        [1., 1., 1., 1.],\n",
            "        [1., 1., 1., 1.]])\n",
            "tensor([[0., 0., 0., 0.],\n",
            "        [0., 0., 0., 0.],\n",
            "        [0., 0., 0., 0.],\n",
            "        [0., 0., 0., 0.]])\n"
          ],
          "name": "stdout"
        }
      ]
    },
    {
      "cell_type": "code",
      "metadata": {
        "id": "p8wBcOLQ7Qhq",
        "colab_type": "code",
        "colab": {}
      },
      "source": [
        "i = torch.tensor([[1,2,3],[4,5,6]])\n",
        "v = torch.tensor([2,3,4],dtype  =torch.float32)"
      ],
      "execution_count": 0,
      "outputs": []
    },
    {
      "cell_type": "code",
      "metadata": {
        "id": "QlVLVONC7QfN",
        "colab_type": "code",
        "colab": {}
      },
      "source": [
        "sparse_tensor = torch.sparse_coo_tensor(i,v,size = (4,7))"
      ],
      "execution_count": 0,
      "outputs": []
    },
    {
      "cell_type": "code",
      "metadata": {
        "id": "_qTw50Ua7Qc6",
        "colab_type": "code",
        "outputId": "894e8c95-f987-4b94-ab2d-90c17ba47d3d",
        "colab": {
          "base_uri": "https://localhost:8080/",
          "height": 90
        }
      },
      "source": [
        "print(sparse_tensor)"
      ],
      "execution_count": 14,
      "outputs": [
        {
          "output_type": "stream",
          "text": [
            "tensor(indices=tensor([[1, 2, 3],\n",
            "                       [4, 5, 6]]),\n",
            "       values=tensor([2., 3., 4.]),\n",
            "       size=(4, 7), nnz=3, dtype=torch.float32, layout=torch.sparse_coo)\n"
          ],
          "name": "stdout"
        }
      ]
    },
    {
      "cell_type": "code",
      "metadata": {
        "id": "BfcxS6vx7QbI",
        "colab_type": "code",
        "colab": {}
      },
      "source": [
        "tensor1 = torch.rand(3,3)"
      ],
      "execution_count": 0,
      "outputs": []
    },
    {
      "cell_type": "code",
      "metadata": {
        "id": "UgaN_1I37QZ8",
        "colab_type": "code",
        "outputId": "55dc22b7-33b0-4cbe-b719-9b3c33f338d4",
        "colab": {
          "base_uri": "https://localhost:8080/",
          "height": 72
        }
      },
      "source": [
        "tensor1.fill_(3)"
      ],
      "execution_count": 16,
      "outputs": [
        {
          "output_type": "execute_result",
          "data": {
            "text/plain": [
              "tensor([[3., 3., 3.],\n",
              "        [3., 3., 3.],\n",
              "        [3., 3., 3.]])"
            ]
          },
          "metadata": {
            "tags": []
          },
          "execution_count": 16
        }
      ]
    },
    {
      "cell_type": "code",
      "metadata": {
        "id": "YgGmMCL07QWO",
        "colab_type": "code",
        "outputId": "98509085-a84d-4919-b9cb-8adb68c57b44",
        "colab": {
          "base_uri": "https://localhost:8080/",
          "height": 72
        }
      },
      "source": [
        "tensor1.data"
      ],
      "execution_count": 17,
      "outputs": [
        {
          "output_type": "execute_result",
          "data": {
            "text/plain": [
              "tensor([[3., 3., 3.],\n",
              "        [3., 3., 3.],\n",
              "        [3., 3., 3.]])"
            ]
          },
          "metadata": {
            "tags": []
          },
          "execution_count": 17
        }
      ]
    },
    {
      "cell_type": "code",
      "metadata": {
        "id": "H_smu8Jo7QRr",
        "colab_type": "code",
        "outputId": "32c32f44-7f84-434c-fe1c-ef6d17c9126a",
        "colab": {
          "base_uri": "https://localhost:8080/",
          "height": 72
        }
      },
      "source": [
        "tensor1.add_(5)"
      ],
      "execution_count": 18,
      "outputs": [
        {
          "output_type": "execute_result",
          "data": {
            "text/plain": [
              "tensor([[8., 8., 8.],\n",
              "        [8., 8., 8.],\n",
              "        [8., 8., 8.]])"
            ]
          },
          "metadata": {
            "tags": []
          },
          "execution_count": 18
        }
      ]
    },
    {
      "cell_type": "code",
      "metadata": {
        "id": "-hvVgdKV7QPj",
        "colab_type": "code",
        "colab": {}
      },
      "source": [
        "tensor2 = tensor1.sqrt_()"
      ],
      "execution_count": 0,
      "outputs": []
    },
    {
      "cell_type": "code",
      "metadata": {
        "id": "5_LvlVJE7QMj",
        "colab_type": "code",
        "outputId": "af8ff52a-375d-4710-d586-82741aab1e15",
        "colab": {
          "base_uri": "https://localhost:8080/",
          "height": 54
        }
      },
      "source": [
        "tensor2 = torch.linspace(start=2,end = 13,steps = 15)\n",
        "print(tensor2)"
      ],
      "execution_count": 20,
      "outputs": [
        {
          "output_type": "stream",
          "text": [
            "tensor([ 2.0000,  2.7857,  3.5714,  4.3571,  5.1429,  5.9286,  6.7143,  7.5000,\n",
            "         8.2857,  9.0714,  9.8571, 10.6429, 11.4286, 12.2143, 13.0000])\n"
          ],
          "name": "stdout"
        }
      ]
    },
    {
      "cell_type": "code",
      "metadata": {
        "id": "k3PIEgjt7QJu",
        "colab_type": "code",
        "colab": {}
      },
      "source": [
        "tensor3 = torch.chunk(tensor2,5,0)"
      ],
      "execution_count": 0,
      "outputs": []
    },
    {
      "cell_type": "code",
      "metadata": {
        "id": "YvINVeP37QH8",
        "colab_type": "code",
        "colab": {}
      },
      "source": [
        "tensor4 = torch.rand(3,3)"
      ],
      "execution_count": 0,
      "outputs": []
    },
    {
      "cell_type": "code",
      "metadata": {
        "id": "vC6c1C3d7QE5",
        "colab_type": "code",
        "outputId": "e45c75db-ffd7-43ef-e6e1-a9b107a7fd00",
        "colab": {
          "base_uri": "https://localhost:8080/",
          "height": 72
        }
      },
      "source": [
        "tensor4.unsqueeze(0)"
      ],
      "execution_count": 23,
      "outputs": [
        {
          "output_type": "execute_result",
          "data": {
            "text/plain": [
              "tensor([[[0.2942, 0.8121, 0.2241],\n",
              "         [0.9438, 0.4242, 0.8763],\n",
              "         [0.4038, 0.2748, 0.6097]]])"
            ]
          },
          "metadata": {
            "tags": []
          },
          "execution_count": 23
        }
      ]
    },
    {
      "cell_type": "code",
      "metadata": {
        "id": "oTHKdhWW7QC1",
        "colab_type": "code",
        "outputId": "e4a031ef-c4fe-4008-e17f-b617728ce494",
        "colab": {
          "base_uri": "https://localhost:8080/",
          "height": 35
        }
      },
      "source": [
        "tensor4.unsqueeze(2).transpose(1,0).shape"
      ],
      "execution_count": 24,
      "outputs": [
        {
          "output_type": "execute_result",
          "data": {
            "text/plain": [
              "torch.Size([3, 3, 1])"
            ]
          },
          "metadata": {
            "tags": []
          },
          "execution_count": 24
        }
      ]
    },
    {
      "cell_type": "code",
      "metadata": {
        "id": "TSbQk1br7QAB",
        "colab_type": "code",
        "outputId": "0685e575-c46f-43b2-ebeb-c5147970d916",
        "colab": {
          "base_uri": "https://localhost:8080/",
          "height": 109
        }
      },
      "source": [
        "tensor4.sort()"
      ],
      "execution_count": 25,
      "outputs": [
        {
          "output_type": "execute_result",
          "data": {
            "text/plain": [
              "torch.return_types.sort(values=tensor([[0.2241, 0.2942, 0.8121],\n",
              "        [0.4242, 0.8763, 0.9438],\n",
              "        [0.2748, 0.4038, 0.6097]]), indices=tensor([[2, 0, 1],\n",
              "        [1, 2, 0],\n",
              "        [1, 0, 2]]))"
            ]
          },
          "metadata": {
            "tags": []
          },
          "execution_count": 25
        }
      ]
    },
    {
      "cell_type": "code",
      "metadata": {
        "id": "fEGH1ySa7P9f",
        "colab_type": "code",
        "colab": {}
      },
      "source": [
        "tensor4 = torch.tensor([2,4,5,7,8])"
      ],
      "execution_count": 0,
      "outputs": []
    },
    {
      "cell_type": "code",
      "metadata": {
        "id": "JNkp98yQ7P74",
        "colab_type": "code",
        "colab": {}
      },
      "source": [
        "mat1 = torch.randn((3,3))\n",
        "mat2 = torch.randn((3,2))\n",
        "vec1 = torch.rand(3)"
      ],
      "execution_count": 0,
      "outputs": []
    },
    {
      "cell_type": "code",
      "metadata": {
        "id": "yG8mD87A7P5v",
        "colab_type": "code",
        "outputId": "eb42a0fb-ad30-4c15-b059-938a4a1a44c0",
        "colab": {
          "base_uri": "https://localhost:8080/",
          "height": 35
        }
      },
      "source": [
        "torch.mv(mat2.transpose(0,1),vec1)"
      ],
      "execution_count": 28,
      "outputs": [
        {
          "output_type": "execute_result",
          "data": {
            "text/plain": [
              "tensor([0.1852, 1.6747])"
            ]
          },
          "metadata": {
            "tags": []
          },
          "execution_count": 28
        }
      ]
    },
    {
      "cell_type": "code",
      "metadata": {
        "id": "mL6WNtpn7P34",
        "colab_type": "code",
        "outputId": "cdb2b60f-8ca5-4f73-fe20-5f2156fcca57",
        "colab": {
          "base_uri": "https://localhost:8080/",
          "height": 72
        }
      },
      "source": [
        "mat1.requires_grad_()"
      ],
      "execution_count": 29,
      "outputs": [
        {
          "output_type": "execute_result",
          "data": {
            "text/plain": [
              "tensor([[-1.9332, -0.7946,  0.5025],\n",
              "        [ 0.6416,  1.5839, -0.0480],\n",
              "        [ 0.4325,  1.3826,  0.7796]], requires_grad=True)"
            ]
          },
          "metadata": {
            "tags": []
          },
          "execution_count": 29
        }
      ]
    },
    {
      "cell_type": "code",
      "metadata": {
        "id": "h_KnLFsL7P1S",
        "colab_type": "code",
        "outputId": "62b483d9-b841-46d0-a077-aec654e19fa0",
        "colab": {
          "base_uri": "https://localhost:8080/",
          "height": 35
        }
      },
      "source": [
        "mat1.requires_grad"
      ],
      "execution_count": 88,
      "outputs": [
        {
          "output_type": "execute_result",
          "data": {
            "text/plain": [
              "True"
            ]
          },
          "metadata": {
            "tags": []
          },
          "execution_count": 88
        }
      ]
    },
    {
      "cell_type": "code",
      "metadata": {
        "id": "Ultl_Yr57PzO",
        "colab_type": "code",
        "colab": {
          "base_uri": "https://localhost:8080/",
          "height": 35
        },
        "outputId": "a79944bd-a4a1-4efa-89ba-9b68a8343367"
      },
      "source": [
        "mat4 = torch.mv(mat1,vec1)\n",
        "print(mat4)"
      ],
      "execution_count": 89,
      "outputs": [
        {
          "output_type": "stream",
          "text": [
            "tensor([-1.3155,  0.9196,  1.3474], grad_fn=<MvBackward>)\n"
          ],
          "name": "stdout"
        }
      ]
    },
    {
      "cell_type": "code",
      "metadata": {
        "id": "m467bkBi7Pxe",
        "colab_type": "code",
        "colab": {}
      },
      "source": [
        ""
      ],
      "execution_count": 0,
      "outputs": []
    },
    {
      "cell_type": "code",
      "metadata": {
        "id": "2447yesM7Pvm",
        "colab_type": "code",
        "colab": {}
      },
      "source": [
        ""
      ],
      "execution_count": 0,
      "outputs": []
    },
    {
      "cell_type": "code",
      "metadata": {
        "id": "9V350zce7Pt3",
        "colab_type": "code",
        "colab": {
          "base_uri": "https://localhost:8080/",
          "height": 74
        },
        "outputId": "d6d3f7fa-3fe0-4e3f-f733-d8274c35faf3"
      },
      "source": [
        "import numpy as np\n",
        "import seaborn as sb\n",
        "import matplotlib as mpl\n",
        "import matplotlib.pyplot as plt"
      ],
      "execution_count": 36,
      "outputs": [
        {
          "output_type": "stream",
          "text": [
            "/usr/local/lib/python3.6/dist-packages/statsmodels/tools/_testing.py:19: FutureWarning: pandas.util.testing is deprecated. Use the functions in the public API at pandas.testing instead.\n",
            "  import pandas.util.testing as tm\n"
          ],
          "name": "stderr"
        }
      ]
    },
    {
      "cell_type": "code",
      "metadata": {
        "id": "KUcnbEcK7Pr2",
        "colab_type": "code",
        "colab": {}
      },
      "source": [
        "X_train = torch.empty(size = (1000,12)).normal_(mean = 10.,std = 25.)\n",
        "wts = torch.randn(12)\n",
        "bias = torch.full(size=  (1000,),fill_value = 2.5)\n",
        "Y_train = torch.mv(X_train,wts) + bias"
      ],
      "execution_count": 0,
      "outputs": []
    },
    {
      "cell_type": "code",
      "metadata": {
        "id": "AehGV1he7Plp",
        "colab_type": "code",
        "colab": {
          "base_uri": "https://localhost:8080/",
          "height": 592
        },
        "outputId": "8b06b2bf-4c35-46b1-fe1f-5759af4a2ee4"
      },
      "source": [
        "plt.figure(figsize = (10,10))\n",
        "plt.plot(Y_train.data)\n",
        "plt.show()"
      ],
      "execution_count": 38,
      "outputs": [
        {
          "output_type": "display_data",
          "data": {
            "image/png": "[encoded data removed]",
            "text/plain": [
              "<Figure size 720x720 with 1 Axes>"
            ]
          },
          "metadata": {
            "tags": [],
            "needs_background": "light"
          }
        }
      ]
    },
    {
      "cell_type": "code",
      "metadata": {
        "id": "Qf1p0QrE7PgN",
        "colab_type": "code",
        "colab": {}
      },
      "source": [
        "class NaiveNN:\n",
        "\n",
        "  def __init__(self,input_units,hidden_layers,hidden_units,output_units,lr = 1e-4,epochs = 1000):\n",
        "    self.input = input_units\n",
        "    self.hidden_layers = hidden_layers\n",
        "    self.hidden_units = hidden_units\n",
        "    self.output = output_units\n",
        "    \n",
        "    self.wts = {}\n",
        "    self.bias = {}\n",
        "\n",
        "    for i in range(hidden_layers):\n",
        "      if i == 0:\n",
        "        self.wts[i] = torch.empty((input_units[1],hidden_units[i])).normal_(mean = 0.,std = 1.).requires_grad_()\n",
        "        self.bias[i] = torch.tensor([1.]).requires_grad_()\n",
        "        print(self.wts[i].shape,self.bias[i].shape)\n",
        "      else:\n",
        "        self.wts[i] = torch.empty((hidden_units[i-1],hidden_units[i])).normal_(mean = 0.,std = 1.).requires_grad_()\n",
        "        self.bias[i] = torch.tensor([1.]).requires_grad_()\n",
        "        print(self.wts[i].shape,self.bias[i].shape)\n",
        "\n",
        "    self.wts[hidden_layers] = torch.empty((hidden_units[i],output_units)).normal_(mean = 0.,std = 1.).requires_grad_()\n",
        "    self.bias[hidden_layers] = torch.tensor([1.]).requires_grad_()\n",
        "    print(self.wts[hidden_layers].shape,self.bias[hidden_layers].shape)\n",
        "\n",
        "    self.lr = lr\n",
        "    self.epochs = epochs\n",
        "\n",
        "\n",
        "  def trainNN(self,x_train,y_train):\n",
        "    for e in range(self.epochs):\n",
        "      self.H = {}\n",
        "      for i in self.wts.keys():\n",
        "        if i == 0:\n",
        "          self.H[i] = torch.matmul(x_train,self.wts[i]) + self.bias[i]\n",
        "        else:\n",
        "          self.H[i] = torch.matmul(self.H[i-1],self.wts[i]) + self.bias[i]\n",
        "      \n",
        "      y_preds = self.H[self.hidden_layers]\n",
        "\n",
        "      loss = torch.sqrt((Y_train-y_preds).pow(2).sum()/Y_train.shape[0])\n",
        "      if e%10 ==0:\n",
        "        print(loss)\n",
        "\n",
        "      loss.backward()\n",
        "      \n",
        "      ########### Weights update\n",
        "      with torch.no_grad():\n",
        "        for i in self.wts.keys():\n",
        "          self.wts[i].sub_(torch.tensor([self.lr])*self.wts[i].grad)\n",
        "          self.bias[i].sub_(torch.tensor([self.lr])*self.bias[i].grad)\n",
        "\n",
        "          self.wts[i].grad.zero_()\n",
        "          self.bias[i].grad.zero_()\n",
        "          \n",
        "\n",
        "    return y_preds\n"
      ],
      "execution_count": 0,
      "outputs": []
    },
    {
      "cell_type": "code",
      "metadata": {
        "id": "8uGjOdPG7Pb6",
        "colab_type": "code",
        "colab": {
          "base_uri": "https://localhost:8080/",
          "height": 72
        },
        "outputId": "966c4357-d99d-48ce-ba33-7a86e5a1a4f3"
      },
      "source": [
        "input_units = [1000,12]\n",
        "hidden_layers = 2\n",
        "hidden_units = [5,6]\n",
        "output_units = 1\n",
        "nn_obj = NaiveNN(input_units,hidden_layers,hidden_units,output_units)"
      ],
      "execution_count": 93,
      "outputs": [
        {
          "output_type": "stream",
          "text": [
            "torch.Size([12, 5]) torch.Size([1])\n",
            "torch.Size([5, 6]) torch.Size([1])\n",
            "torch.Size([6, 1]) torch.Size([1])\n"
          ],
          "name": "stdout"
        }
      ]
    },
    {
      "cell_type": "code",
      "metadata": {
        "id": "_PuXREQZuN2v",
        "colab_type": "code",
        "colab": {
          "base_uri": "https://localhost:8080/",
          "height": 1000
        },
        "outputId": "5be7898e-0da8-4e43-89aa-c42d670a5567"
      },
      "source": [
        "y_preds = nn_obj.trainNN(X_train,Y_train)"
      ],
      "execution_count": 94,
      "outputs": [
        {
          "output_type": "stream",
          "text": [
            "tensor(29136.0498, grad_fn=<SqrtBackward>)\n",
            "tensor(3380.5080, grad_fn=<SqrtBackward>)\n",
            "tensor(2177.9988, grad_fn=<SqrtBackward>)\n",
            "tensor(2086.7878, grad_fn=<SqrtBackward>)\n",
            "tensor(1962.2509, grad_fn=<SqrtBackward>)\n",
            "tensor(1955.0909, grad_fn=<SqrtBackward>)\n",
            "tensor(1943.7187, grad_fn=<SqrtBackward>)\n",
            "tensor(1917.3566, grad_fn=<SqrtBackward>)\n",
            "tensor(1900.1152, grad_fn=<SqrtBackward>)\n",
            "tensor(1890.0205, grad_fn=<SqrtBackward>)\n",
            "tensor(1883.1122, grad_fn=<SqrtBackward>)\n",
            "tensor(1877.1512, grad_fn=<SqrtBackward>)\n",
            "tensor(1871.2929, grad_fn=<SqrtBackward>)\n",
            "tensor(1865.8454, grad_fn=<SqrtBackward>)\n",
            "tensor(1861.2634, grad_fn=<SqrtBackward>)\n",
            "tensor(1857.6240, grad_fn=<SqrtBackward>)\n",
            "tensor(1854.7731, grad_fn=<SqrtBackward>)\n",
            "tensor(1852.5223, grad_fn=<SqrtBackward>)\n",
            "tensor(1850.7200, grad_fn=<SqrtBackward>)\n",
            "tensor(1849.2563, grad_fn=<SqrtBackward>)\n",
            "tensor(1848.0520, grad_fn=<SqrtBackward>)\n",
            "tensor(1847.0479, grad_fn=<SqrtBackward>)\n",
            "tensor(1846.1988, grad_fn=<SqrtBackward>)\n",
            "tensor(1845.4689, grad_fn=<SqrtBackward>)\n",
            "tensor(1844.8312, grad_fn=<SqrtBackward>)\n",
            "tensor(1844.2651, grad_fn=<SqrtBackward>)\n",
            "tensor(1843.7557, grad_fn=<SqrtBackward>)\n",
            "tensor(1843.2919, grad_fn=<SqrtBackward>)\n",
            "tensor(1842.8655, grad_fn=<SqrtBackward>)\n",
            "tensor(1842.4702, grad_fn=<SqrtBackward>)\n",
            "tensor(1842.1008, grad_fn=<SqrtBackward>)\n",
            "tensor(1841.7531, grad_fn=<SqrtBackward>)\n",
            "tensor(1841.4238, grad_fn=<SqrtBackward>)\n",
            "tensor(1841.1099, grad_fn=<SqrtBackward>)\n",
            "tensor(1840.8091, grad_fn=<SqrtBackward>)\n",
            "tensor(1840.5195, grad_fn=<SqrtBackward>)\n",
            "tensor(1840.2394, grad_fn=<SqrtBackward>)\n",
            "tensor(1839.9674, grad_fn=<SqrtBackward>)\n",
            "tensor(1839.7025, grad_fn=<SqrtBackward>)\n",
            "tensor(1839.4436, grad_fn=<SqrtBackward>)\n",
            "tensor(1839.1899, grad_fn=<SqrtBackward>)\n",
            "tensor(1838.9407, grad_fn=<SqrtBackward>)\n",
            "tensor(1838.6955, grad_fn=<SqrtBackward>)\n",
            "tensor(1838.4536, grad_fn=<SqrtBackward>)\n",
            "tensor(1838.2148, grad_fn=<SqrtBackward>)\n",
            "tensor(1837.9786, grad_fn=<SqrtBackward>)\n",
            "tensor(1837.7445, grad_fn=<SqrtBackward>)\n",
            "tensor(1837.5125, grad_fn=<SqrtBackward>)\n",
            "tensor(1837.2821, grad_fn=<SqrtBackward>)\n",
            "tensor(1837.0531, grad_fn=<SqrtBackward>)\n",
            "tensor(1836.8254, grad_fn=<SqrtBackward>)\n",
            "tensor(1836.5986, grad_fn=<SqrtBackward>)\n",
            "tensor(1836.3727, grad_fn=<SqrtBackward>)\n",
            "tensor(1836.1474, grad_fn=<SqrtBackward>)\n",
            "tensor(1835.9225, grad_fn=<SqrtBackward>)\n",
            "tensor(1835.6979, grad_fn=<SqrtBackward>)\n",
            "tensor(1835.4735, grad_fn=<SqrtBackward>)\n",
            "tensor(1835.2490, grad_fn=<SqrtBackward>)\n",
            "tensor(1835.0244, grad_fn=<SqrtBackward>)\n",
            "tensor(1834.7994, grad_fn=<SqrtBackward>)\n",
            "tensor(1834.5740, grad_fn=<SqrtBackward>)\n",
            "tensor(1834.3480, grad_fn=<SqrtBackward>)\n",
            "tensor(1834.1212, grad_fn=<SqrtBackward>)\n",
            "tensor(1833.8934, grad_fn=<SqrtBackward>)\n",
            "tensor(1833.6646, grad_fn=<SqrtBackward>)\n",
            "tensor(1833.4346, grad_fn=<SqrtBackward>)\n",
            "tensor(1833.2033, grad_fn=<SqrtBackward>)\n",
            "tensor(1832.9704, grad_fn=<SqrtBackward>)\n",
            "tensor(1832.7358, grad_fn=<SqrtBackward>)\n",
            "tensor(1832.4993, grad_fn=<SqrtBackward>)\n",
            "tensor(1832.2608, grad_fn=<SqrtBackward>)\n",
            "tensor(1832.0201, grad_fn=<SqrtBackward>)\n",
            "tensor(1831.7770, grad_fn=<SqrtBackward>)\n",
            "tensor(1831.5313, grad_fn=<SqrtBackward>)\n",
            "tensor(1831.2828, grad_fn=<SqrtBackward>)\n",
            "tensor(1831.0313, grad_fn=<SqrtBackward>)\n",
            "tensor(1830.7765, grad_fn=<SqrtBackward>)\n",
            "tensor(1830.5183, grad_fn=<SqrtBackward>)\n",
            "tensor(1830.2564, grad_fn=<SqrtBackward>)\n",
            "tensor(1829.9905, grad_fn=<SqrtBackward>)\n",
            "tensor(1829.7203, grad_fn=<SqrtBackward>)\n",
            "tensor(1829.4456, grad_fn=<SqrtBackward>)\n",
            "tensor(1829.1661, grad_fn=<SqrtBackward>)\n",
            "tensor(1828.8814, grad_fn=<SqrtBackward>)\n",
            "tensor(1828.5911, grad_fn=<SqrtBackward>)\n",
            "tensor(1828.2950, grad_fn=<SqrtBackward>)\n",
            "tensor(1827.9924, grad_fn=<SqrtBackward>)\n",
            "tensor(1827.6831, grad_fn=<SqrtBackward>)\n",
            "tensor(1827.3666, grad_fn=<SqrtBackward>)\n",
            "tensor(1827.0423, grad_fn=<SqrtBackward>)\n",
            "tensor(1826.7096, grad_fn=<SqrtBackward>)\n",
            "tensor(1826.3680, grad_fn=<SqrtBackward>)\n",
            "tensor(1826.0168, grad_fn=<SqrtBackward>)\n",
            "tensor(1825.6553, grad_fn=<SqrtBackward>)\n",
            "tensor(1825.2825, grad_fn=<SqrtBackward>)\n",
            "tensor(1824.8977, grad_fn=<SqrtBackward>)\n",
            "tensor(1824.4999, grad_fn=<SqrtBackward>)\n",
            "tensor(1824.0880, grad_fn=<SqrtBackward>)\n",
            "tensor(1823.6607, grad_fn=<SqrtBackward>)\n",
            "tensor(1823.2167, grad_fn=<SqrtBackward>)\n"
          ],
          "name": "stdout"
        }
      ]
    },
    {
      "cell_type": "code",
      "metadata": {
        "id": "cl5hJkEQv5Os",
        "colab_type": "code",
        "colab": {
          "base_uri": "https://localhost:8080/",
          "height": 35
        },
        "outputId": "332e6df4-f61d-4261-dbc7-14b3dc602216"
      },
      "source": [
        "print(mat1.grad)"
      ],
      "execution_count": 72,
      "outputs": [
        {
          "output_type": "stream",
          "text": [
            "None\n"
          ],
          "name": "stdout"
        }
      ]
    },
    {
      "cell_type": "code",
      "metadata": {
        "id": "8DHbraBoxRXz",
        "colab_type": "code",
        "colab": {}
      },
      "source": [
        "import torch.optim as opt"
      ],
      "execution_count": 0,
      "outputs": []
    },
    {
      "cell_type": "code",
      "metadata": {
        "id": "UwsUlbFZUnaE",
        "colab_type": "code",
        "colab": {}
      },
      "source": [
        "import pandas as pd\n",
        "from sklearn.datasets import fetch_california_housing,fetch_covtype\n",
        "data,target = fetch_california_housing(return_X_y=True)"
      ],
      "execution_count": 0,
      "outputs": []
    },
    {
      "cell_type": "code",
      "metadata": {
        "id": "d6CTzVXTUnX3",
        "colab_type": "code",
        "colab": {
          "base_uri": "https://localhost:8080/",
          "height": 35
        },
        "outputId": "1746e136-b1b5-493a-b0ab-ab39b54755f2"
      },
      "source": [
        "sum(np.equal(data,None))"
      ],
      "execution_count": 107,
      "outputs": [
        {
          "output_type": "execute_result",
          "data": {
            "text/plain": [
              "array([0, 0, 0, 0, 0, 0, 0, 0])"
            ]
          },
          "metadata": {
            "tags": []
          },
          "execution_count": 107
        }
      ]
    },
    {
      "cell_type": "code",
      "metadata": {
        "id": "1Itz3st9UnVw",
        "colab_type": "code",
        "colab": {}
      },
      "source": [
        "from sklearn.model_selection import train_test_split\n",
        "x_train,x_test,y_train,y_test = train_test_split(data,target,test_size = 0.2)\n",
        "\n",
        "x_train = torch.from_numpy(x_train)\n",
        "x_test = torch.from_numpy(x_test)\n",
        "y_train = torch.from_numpy(y_train)\n",
        "y_test = torch.from_numpy(y_test)"
      ],
      "execution_count": 0,
      "outputs": []
    },
    {
      "cell_type": "code",
      "metadata": {
        "id": "NPHdhFgNUnTJ",
        "colab_type": "code",
        "colab": {}
      },
      "source": [
        "input_units = x_train.shape[1]\n",
        "output_units = 1\n",
        "\n",
        "hidden1 = 100\n",
        "hidden2 = 10\n",
        "\n",
        "learning_rate = 0.001\n",
        "epochs = 100\n",
        "\n",
        "loss_fn = torch.nn.MSELoss()"
      ],
      "execution_count": 0,
      "outputs": []
    },
    {
      "cell_type": "code",
      "metadata": {
        "id": "EvyAc9l5UnQm",
        "colab_type": "code",
        "colab": {}
      },
      "source": [
        "model = torch.nn.Sequential(torch.nn.Linear(input_units,out_features = hidden1),\n",
        "                            torch.nn.ReLU(),\n",
        "                            #torch.nn.Linear(hidden1,hidden2),\n",
        "                            torch.nn.Sigmoid(),\n",
        "                            torch.nn.Linear(hidden1,output_units))\n",
        "\n",
        "optimizer= torch.optim.SGD(model.parameters(),lr = learning_rate,momentum = 0.01,nesterov = True) "
      ],
      "execution_count": 0,
      "outputs": []
    },
    {
      "cell_type": "code",
      "metadata": {
        "id": "lS6euJraUnIg",
        "colab_type": "code",
        "colab": {
          "base_uri": "https://localhost:8080/",
          "height": 92
        },
        "outputId": "327c999e-94ed-44c4-c728-04b81d05c712"
      },
      "source": [
        "for e in range(epochs):\n",
        "  y_preds = model(x_train)\n",
        "  loss = loss_fn(y_preds,y_train)\n",
        "\n",
        "  if e%100 == 0:\n",
        "    print(loss)\n",
        "  \n",
        "  optimizer.zero_grad()\n",
        "  loss.backward()\n",
        "  optimizer.step()\n",
        "  \n",
        "\n",
        "  '''\n",
        "  with torch.no_grad():\n",
        "    for params in model.parameters():\n",
        "      params = params - learning_rate*params.grad\n",
        "  '''\n",
        "  "
      ],
      "execution_count": 134,
      "outputs": [
        {
          "output_type": "stream",
          "text": [
            "/usr/local/lib/python3.6/dist-packages/torch/nn/modules/loss.py:431: UserWarning: Using a target size (torch.Size([16512])) that is different to the input size (torch.Size([16512, 1])). This will likely lead to incorrect results due to broadcasting. Please ensure they have the same size.\n",
            "  return F.mse_loss(input, target, reduction=self.reduction)\n"
          ],
          "name": "stderr"
        },
        {
          "output_type": "stream",
          "text": [
            "tensor(3.8288, grad_fn=<MseLossBackward>)\n"
          ],
          "name": "stdout"
        }
      ]
    },
    {
      "cell_type": "code",
      "metadata": {
        "id": "mHTmI7u7mQ0u",
        "colab_type": "code",
        "colab": {
          "base_uri": "https://localhost:8080/",
          "height": 35
        },
        "outputId": "07021d81-2b7f-4fd0-98f9-3b964c655128"
      },
      "source": [
        "clf_data,target = fetch_covtype(return_X_y=True)"
      ],
      "execution_count": 136,
      "outputs": [
        {
          "output_type": "stream",
          "text": [
            "Downloading https://ndownloader.figshare.com/files/5976039\n"
          ],
          "name": "stderr"
        }
      ]
    },
    {
      "cell_type": "code",
      "metadata": {
        "id": "wvsqNKZEmRQ3",
        "colab_type": "code",
        "colab": {}
      },
      "source": [
        "x_train,x_test,y_train,y_test = train_test_split(clf_data,target,test_size = 0.2)\n",
        "x_train = torch.from_numpy(x_train)\n",
        "x_test = torch.from_numpy(x_test)\n",
        "y_train = torch.from_numpy(y_train)\n",
        "y_test = torch.from_numpy(y_test)"
      ],
      "execution_count": 0,
      "outputs": []
    },
    {
      "cell_type": "code",
      "metadata": {
        "id": "lPoaLEV6mRMi",
        "colab_type": "code",
        "colab": {}
      },
      "source": [
        "import torch.nn as nn\n",
        "import torch.nn.functional as F\n",
        "\n",
        "input_units = x_train.shape[1]\n",
        "output_units = len(np.unique(target))\n",
        "\n",
        "hidden = 100\n",
        "\n",
        "learning_rate = 0.001\n",
        "epochs = 100\n"
      ],
      "execution_count": 0,
      "outputs": []
    },
    {
      "cell_type": "code",
      "metadata": {
        "id": "cgslt0zfmRLF",
        "colab_type": "code",
        "colab": {}
      },
      "source": [
        "class NNet(nn.Module):\n",
        "  def __init__(self):\n",
        "    super(NNet,self).__init__()\n",
        "    self.fc1 = torch.nn.Linear(input_units,hidden)\n",
        "    self.fc2 = torch.nn.Linear(hidden,hidden)\n",
        "    self.fc3 = torch.nn.Linear(hidden,output_units)\n",
        "\n",
        "  def forward(self,x):\n",
        "    x = F.sigmoid(self.fc1(x))\n",
        "    x = F.sigmoid(self.fc2(x))\n",
        "    x = self.fc3(x)\n",
        "\n",
        "    return F.log_softmax(x,dim = -1)\n",
        "    "
      ],
      "execution_count": 0,
      "outputs": []
    },
    {
      "cell_type": "code",
      "metadata": {
        "id": "BV8ZGGKwmRGz",
        "colab_type": "code",
        "colab": {}
      },
      "source": [
        "model = NNet()\n",
        "optimizer = torch.optim.Adagrad(model.parameters())\n",
        "loss_nll = nn.NLLLoss()"
      ],
      "execution_count": 0,
      "outputs": []
    },
    {
      "cell_type": "code",
      "metadata": {
        "id": "3DhMvzn3mRDs",
        "colab_type": "code",
        "colab": {
          "base_uri": "https://localhost:8080/",
          "height": 1000
        },
        "outputId": "e341f91c-ea69-4cd5-c82a-362a9bac03d4"
      },
      "source": [
        "for i in range(100):\n",
        "  optimizer.zero_grad()\n",
        "  y_preds = model.forward(x_train)\n",
        "  \n",
        "  loss = loss_nll(y_preds,y_train.long())\n",
        "  loss.backward()\n",
        "\n",
        "  optimizer.step()\n",
        "\n",
        "  y_test_preds = model.forward(x_test)\n",
        "  loss_test = loss_nll(y_test_preds,y_test.long())\n",
        "\n",
        "  _,pred = y_test_preds.data.max(1)\n",
        "\n",
        "  accuracy = pred.eq(y_test.data).sum().item()/ y_test.shape[0]\n",
        "  print(accuracy)\n",
        "\n",
        "\n",
        "\n",
        "\n",
        "\n",
        "\n"
      ],
      "execution_count": 159,
      "outputs": [
        {
          "output_type": "stream",
          "text": [
            "/usr/local/lib/python3.6/dist-packages/torch/nn/functional.py:1351: UserWarning: nn.functional.sigmoid is deprecated. Use torch.sigmoid instead.\n",
            "  warnings.warn(\"nn.functional.sigmoid is deprecated. Use torch.sigmoid instead.\")\n"
          ],
          "name": "stderr"
        },
        {
          "output_type": "stream",
          "text": [
            "0.0029069767441860465\n",
            "0.0029069767441860465\n",
            "0.0029069767441860465\n",
            "0.0029069767441860465\n",
            "0.0029069767441860465\n",
            "0.0029069767441860465\n",
            "0.0029069767441860465\n",
            "0.0029069767441860465\n",
            "0.0029069767441860465\n",
            "0.0029069767441860465\n",
            "0.0029069767441860465\n",
            "0.0029069767441860465\n",
            "0.0029069767441860465\n",
            "0.0029069767441860465\n",
            "0.0029069767441860465\n",
            "0.0029069767441860465\n",
            "0.0029069767441860465\n",
            "0.0029069767441860465\n",
            "0.0029069767441860465\n",
            "0.0029069767441860465\n",
            "0.0029069767441860465\n",
            "0.0029069767441860465\n",
            "0.0029069767441860465\n",
            "0.0029069767441860465\n",
            "0.0029069767441860465\n",
            "0.0029069767441860465\n",
            "0.0029069767441860465\n",
            "0.0029069767441860465\n",
            "0.0029069767441860465\n",
            "0.0029069767441860465\n",
            "0.0029069767441860465\n",
            "0.0029069767441860465\n",
            "0.0029069767441860465\n",
            "0.0029069767441860465\n",
            "0.0029069767441860465\n",
            "0.0029069767441860465\n",
            "0.0029069767441860465\n",
            "0.0029069767441860465\n",
            "0.0029069767441860465\n",
            "0.0029069767441860465\n",
            "0.0029069767441860465\n",
            "0.0029069767441860465\n",
            "0.0029069767441860465\n",
            "0.0029069767441860465\n",
            "0.0029069767441860465\n",
            "0.0029069767441860465\n",
            "0.0029069767441860465\n",
            "0.0029069767441860465\n",
            "0.0029069767441860465\n",
            "0.0029069767441860465\n",
            "0.0029069767441860465\n",
            "0.0029069767441860465\n",
            "0.0029069767441860465\n",
            "0.0029069767441860465\n",
            "0.0029069767441860465\n",
            "0.0029069767441860465\n",
            "0.0029069767441860465\n",
            "0.0029069767441860465\n",
            "0.0029069767441860465\n",
            "0.0029069767441860465\n",
            "0.0029069767441860465\n",
            "0.0029069767441860465\n",
            "0.0029069767441860465\n",
            "0.0029069767441860465\n",
            "0.0029069767441860465\n",
            "0.0029069767441860465\n",
            "0.0029069767441860465\n",
            "0.0029069767441860465\n",
            "0.0029069767441860465\n",
            "0.0029069767441860465\n",
            "0.0029069767441860465\n",
            "0.0029069767441860465\n",
            "0.0029069767441860465\n",
            "0.0029069767441860465\n",
            "0.0029069767441860465\n",
            "0.0029069767441860465\n",
            "0.0029069767441860465\n",
            "0.0029069767441860465\n",
            "0.0029069767441860465\n",
            "0.0029069767441860465\n",
            "0.0029069767441860465\n",
            "0.0029069767441860465\n",
            "0.0029069767441860465\n",
            "0.0029069767441860465\n",
            "0.0029069767441860465\n",
            "0.0029069767441860465\n",
            "0.0029069767441860465\n",
            "0.0029069767441860465\n",
            "0.0029069767441860465\n",
            "0.0029069767441860465\n",
            "0.0029069767441860465\n",
            "0.0029069767441860465\n",
            "0.0029069767441860465\n",
            "0.0029069767441860465\n",
            "0.0029069767441860465\n",
            "0.0029069767441860465\n",
            "0.0029069767441860465\n",
            "0.0029069767441860465\n",
            "0.0029069767441860465\n",
            "0.0029069767441860465\n"
          ],
          "name": "stdout"
        }
      ]
    },
    {
      "cell_type": "code",
      "metadata": {
        "id": "U5tRdCeMmRAj",
        "colab_type": "code",
        "colab": {}
      },
      "source": [
        ""
      ],
      "execution_count": 0,
      "outputs": []
    },
    {
      "cell_type": "code",
      "metadata": {
        "id": "CQJX0Ws9mQ9y",
        "colab_type": "code",
        "colab": {
          "resources": {
            "http://localhost:8080/nbextensions/google.colab/files.js": {
              "data": "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",
              "ok": true,
              "headers": [
                [
                  "content-type",
                  "application/javascript"
                ]
              ],
              "status": 200,
              "status_text": "OK"
            }
          },
          "base_uri": "https://localhost:8080/",
          "height": 77
        },
        "outputId": "0b13f728-ffaa-4bad-f9e6-4055f406c2f9"
      },
      "source": [
        "from google.colab import files\n",
        "data = files.upload()"
      ],
      "execution_count": 14,
      "outputs": [
        {
          "output_type": "display_data",
          "data": {
            "text/html": [
              "\n",
              "     <input type=\"file\" id=\"files-cc568a46-e97e-417b-8197-a1ef37f85fb0\" name=\"files[]\" multiple disabled />\n",
              "     <output id=\"result-cc568a46-e97e-417b-8197-a1ef37f85fb0\">\n",
              "      Upload widget is only available when the cell has been executed in the\n",
              "      current browser session. Please rerun this cell to enable.\n",
              "      </output>\n",
              "      <script src=\"/nbextensions/google.colab/files.js\"></script> "
            ],
            "text/plain": [
              "<IPython.core.display.HTML object>"
            ]
          },
          "metadata": {
            "tags": []
          }
        },
        {
          "output_type": "stream",
          "text": [
            "Saving names.csv to names (1).csv\n"
          ],
          "name": "stdout"
        }
      ]
    },
    {
      "cell_type": "code",
      "metadata": {
        "id": "1jVoIe7kmQ7D",
        "colab_type": "code",
        "colab": {}
      },
      "source": [
        "import io\n",
        "import pandas as pd\n",
        "names = pd.read_csv(io.BytesIO(data['names.csv']))"
      ],
      "execution_count": 0,
      "outputs": []
    },
    {
      "cell_type": "code",
      "metadata": {
        "id": "GGK-Acr3mQ4y",
        "colab_type": "code",
        "colab": {
          "base_uri": "https://localhost:8080/",
          "height": 182
        },
        "outputId": "43cd7bb3-09c4-4f4a-fa27-eb0d12073455"
      },
      "source": [
        "names.info()"
      ],
      "execution_count": 16,
      "outputs": [
        {
          "output_type": "stream",
          "text": [
            "<class 'pandas.core.frame.DataFrame'>\n",
            "RangeIndex: 10132 entries, 0 to 10131\n",
            "Data columns (total 2 columns):\n",
            " #   Column  Non-Null Count  Dtype \n",
            "---  ------  --------------  ----- \n",
            " 0   Name    10132 non-null  object\n",
            " 1   Gender  10132 non-null  object\n",
            "dtypes: object(2)\n",
            "memory usage: 158.4+ KB\n"
          ],
          "name": "stdout"
        }
      ]
    },
    {
      "cell_type": "code",
      "metadata": {
        "id": "CERGxoArmQyx",
        "colab_type": "code",
        "colab": {}
      },
      "source": [
        "import random\n",
        "names = names.drop_duplicates(subset = ['Name'],keep = random.choice(['first','last']))"
      ],
      "execution_count": 0,
      "outputs": []
    },
    {
      "cell_type": "code",
      "metadata": {
        "id": "SC_465vJmQwx",
        "colab_type": "code",
        "colab": {
          "base_uri": "https://localhost:8080/",
          "height": 206
        },
        "outputId": "332fa703-34cb-4909-fab9-cd8a9347d7d9"
      },
      "source": [
        "from sklearn.preprocessing import LabelEncoder\n",
        "le = LabelEncoder()\n",
        "names['Gender'] = le.fit_transform(names['Gender'])\n",
        "names.head()"
      ],
      "execution_count": 18,
      "outputs": [
        {
          "output_type": "execute_result",
          "data": {
            "text/html": [
              "<div>\n",
              "<style scoped>\n",
              "    .dataframe tbody tr th:only-of-type {\n",
              "        vertical-align: middle;\n",
              "    }\n",
              "\n",
              "    .dataframe tbody tr th {\n",
              "        vertical-align: top;\n",
              "    }\n",
              "\n",
              "    .dataframe thead th {\n",
              "        text-align: right;\n",
              "    }\n",
              "</style>\n",
              "<table border=\"1\" class=\"dataframe\">\n",
              "  <thead>\n",
              "    <tr style=\"text-align: right;\">\n",
              "      <th></th>\n",
              "      <th>Name</th>\n",
              "      <th>Gender</th>\n",
              "    </tr>\n",
              "  </thead>\n",
              "  <tbody>\n",
              "    <tr>\n",
              "      <th>0</th>\n",
              "      <td>Aamir</td>\n",
              "      <td>1</td>\n",
              "    </tr>\n",
              "    <tr>\n",
              "      <th>2</th>\n",
              "      <td>Aaron</td>\n",
              "      <td>1</td>\n",
              "    </tr>\n",
              "    <tr>\n",
              "      <th>3</th>\n",
              "      <td>Abagael</td>\n",
              "      <td>0</td>\n",
              "    </tr>\n",
              "    <tr>\n",
              "      <th>4</th>\n",
              "      <td>Abagail</td>\n",
              "      <td>0</td>\n",
              "    </tr>\n",
              "    <tr>\n",
              "      <th>5</th>\n",
              "      <td>Abbe</td>\n",
              "      <td>0</td>\n",
              "    </tr>\n",
              "  </tbody>\n",
              "</table>\n",
              "</div>"
            ],
            "text/plain": [
              "      Name  Gender\n",
              "0    Aamir       1\n",
              "2    Aaron       1\n",
              "3  Abagael       0\n",
              "4  Abagail       0\n",
              "5     Abbe       0"
            ]
          },
          "metadata": {
            "tags": []
          },
          "execution_count": 18
        }
      ]
    },
    {
      "cell_type": "code",
      "metadata": {
        "id": "wjmx4yV1mQuo",
        "colab_type": "code",
        "colab": {}
      },
      "source": [
        "import string\n",
        "all_strings = string.ascii_letters + \" .,;'\""
      ],
      "execution_count": 0,
      "outputs": []
    },
    {
      "cell_type": "code",
      "metadata": {
        "id": "3Ec-xrLUmQsV",
        "colab_type": "code",
        "colab": {}
      },
      "source": [
        "import torch"
      ],
      "execution_count": 0,
      "outputs": []
    },
    {
      "cell_type": "code",
      "metadata": {
        "id": "aOawM9MbmQmC",
        "colab_type": "code",
        "colab": {}
      },
      "source": [
        "def name_to_tensor(name):\n",
        "  name_tensor = torch.zeros(len(name),1,len(all_strings))\n",
        "  for i,c in enumerate(name):\n",
        "    name_tensor[i][0][all_strings.find(c)] = 1\n",
        "  \n",
        "  return name_tensor"
      ],
      "execution_count": 0,
      "outputs": []
    },
    {
      "cell_type": "code",
      "metadata": {
        "id": "It32PvR9k3wV",
        "colab_type": "code",
        "colab": {}
      },
      "source": [
        "import torch.nn as nn\n",
        "class RNN(nn.Module):\n",
        "  def __init__(self,input_size,hidden_size,output_size):\n",
        "    super(RNN,self).__init__()\n",
        "\n",
        "    self.hidden_size = hidden_size\n",
        "    self.i2h = nn.Linear(input_size + hidden_size,hidden_size)\n",
        "    self.i2o = nn.Linear(input_size + hidden_size,output_size)\n",
        "\n",
        "    self.softmax = nn.LogSoftmax(dim = 1)\n",
        "\n",
        "  def forward(self,input,hidden):\n",
        "    combine = torch.cat((input,hidden),dim = 1)\n",
        "    hidden = self.i2h(combine)\n",
        "    output = self.i2o(combine)\n",
        "    output = self.softmax(output)\n",
        "    return output,hidden\n",
        "\n",
        "  def init_hidden(self):\n",
        "    return torch.zeros(1,self.hidden_size)"
      ],
      "execution_count": 0,
      "outputs": []
    },
    {
      "cell_type": "code",
      "metadata": {
        "id": "0aCMVvZ-k3uk",
        "colab_type": "code",
        "colab": {}
      },
      "source": [
        "hidden_size= 128\n",
        "output_size = 2\n",
        "\n",
        "rnn = RNN(input_size = len(all_strings),hidden_size=hidden_size,output_size=output_size)"
      ],
      "execution_count": 0,
      "outputs": []
    },
    {
      "cell_type": "code",
      "metadata": {
        "id": "0kr-pWb3k3sZ",
        "colab_type": "code",
        "colab": {}
      },
      "source": [
        "iterations = 10000\n",
        "learning_rate = 0.005\n",
        "criterion = nn.NLLLoss()"
      ],
      "execution_count": 0,
      "outputs": []
    },
    {
      "cell_type": "code",
      "metadata": {
        "id": "tbSYTmD9k3qd",
        "colab_type": "code",
        "colab": {}
      },
      "source": [
        "def output_to_gender(output):\n",
        "  top_k,top_ind = output.topk(1)\n",
        "  pred_ = top_index[0].item()\n",
        "  pred = names['Gender'].values[pred_]\n",
        "  return pred"
      ],
      "execution_count": 0,
      "outputs": []
    },
    {
      "cell_type": "code",
      "metadata": {
        "id": "UKq-ZLjxk3oe",
        "colab_type": "code",
        "colab": {}
      },
      "source": [
        ""
      ],
      "execution_count": 0,
      "outputs": []
    },
    {
      "cell_type": "code",
      "metadata": {
        "id": "TCUAkqKSk3mG",
        "colab_type": "code",
        "colab": {}
      },
      "source": [
        ""
      ],
      "execution_count": 0,
      "outputs": []
    },
    {
      "cell_type": "code",
      "metadata": {
        "id": "vVeEv3NOk3ka",
        "colab_type": "code",
        "colab": {}
      },
      "source": [
        ""
      ],
      "execution_count": 0,
      "outputs": []
    },
    {
      "cell_type": "code",
      "metadata": {
        "id": "wA6ia932k3ib",
        "colab_type": "code",
        "colab": {}
      },
      "source": [
        ""
      ],
      "execution_count": 0,
      "outputs": []
    },
    {
      "cell_type": "code",
      "metadata": {
        "id": "jnlDYV9Ek3e7",
        "colab_type": "code",
        "colab": {}
      },
      "source": [
        ""
      ],
      "execution_count": 0,
      "outputs": []
    },
    {
      "cell_type": "code",
      "metadata": {
        "id": "aQ6cdm--k3dW",
        "colab_type": "code",
        "colab": {}
      },
      "source": [
        ""
      ],
      "execution_count": 0,
      "outputs": []
    },
    {
      "cell_type": "code",
      "metadata": {
        "id": "czYuNNMjk3al",
        "colab_type": "code",
        "colab": {}
      },
      "source": [
        ""
      ],
      "execution_count": 0,
      "outputs": []
    },
    {
      "cell_type": "code",
      "metadata": {
        "id": "NyVoLdxQk3Xc",
        "colab_type": "code",
        "colab": {}
      },
      "source": [
        ""
      ],
      "execution_count": 0,
      "outputs": []
    },
    {
      "cell_type": "code",
      "metadata": {
        "id": "Djwd3ykYk3VC",
        "colab_type": "code",
        "colab": {}
      },
      "source": [
        ""
      ],
      "execution_count": 0,
      "outputs": []
    },
    {
      "cell_type": "code",
      "metadata": {
        "id": "6kGG-vLUk3S4",
        "colab_type": "code",
        "colab": {}
      },
      "source": [
        ""
      ],
      "execution_count": 0,
      "outputs": []
    },
    {
      "cell_type": "code",
      "metadata": {
        "id": "jWGDxcgLk3QZ",
        "colab_type": "code",
        "colab": {}
      },
      "source": [
        ""
      ],
      "execution_count": 0,
      "outputs": []
    },
    {
      "cell_type": "code",
      "metadata": {
        "id": "_tT6t_o-k3OB",
        "colab_type": "code",
        "colab": {}
      },
      "source": [
        ""
      ],
      "execution_count": 0,
      "outputs": []
    },
    {
      "cell_type": "code",
      "metadata": {
        "id": "GeSgcZs1k3Lf",
        "colab_type": "code",
        "colab": {}
      },
      "source": [
        ""
      ],
      "execution_count": 0,
      "outputs": []
    },
    {
      "cell_type": "code",
      "metadata": {
        "id": "t6S0Ik3lk29k",
        "colab_type": "code",
        "colab": {}
      },
      "source": [
        ""
      ],
      "execution_count": 0,
      "outputs": []
    }
  ]
}